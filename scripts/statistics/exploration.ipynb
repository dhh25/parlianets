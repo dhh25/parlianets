{
 "cells": [
  {
   "cell_type": "code",
   "execution_count": 75,
   "id": "b8ccfcef",
   "metadata": {},
   "outputs": [
    {
     "data": {
      "text/plain": [
       "polars.config.Config"
      ]
     },
     "execution_count": 75,
     "metadata": {},
     "output_type": "execute_result"
    }
   ],
   "source": [
    "# imports\n",
    "import polars as pl\n",
    "import polars.selectors as cs\n",
    "import os\n",
    "from statistics_utils import ne2cc, build_country_code_dicts\n",
    "import plotly.express as px\n",
    "import json\n",
    "import plotly.graph_objects as go\n",
    "import pandas\n",
    "import altair as alt\n",
    "import geopandas as gpd\n",
    "#import contextily as cx\n",
    "from shapely.geometry import Point, LineString, Polygon\n",
    "pl.Config.set_tbl_rows(20)"
   ]
  },
  {
   "cell_type": "code",
   "execution_count": 76,
   "id": "8158bce1",
   "metadata": {},
   "outputs": [
    {
     "name": "stdout",
     "output_type": "stream",
     "text": [
      "shape: (1_835_116, 29)\n",
      "┌───────────┬───────────┬───────────┬──────────┬───┬───────────┬───────────┬───────────┬───────────┐\n",
      "│ text_id   ┆ name_type ┆ position  ┆ entity   ┆ … ┆ Speaker_b ┆ target_co ┆ source_co ┆ Referring │\n",
      "│ ---       ┆ ---       ┆ ---       ┆ ---      ┆   ┆ irth      ┆ untry     ┆ untry     ┆ Country   │\n",
      "│ str       ┆ str       ┆ str       ┆ str      ┆   ┆ ---       ┆ ---       ┆ ---       ┆ ---       │\n",
      "│           ┆           ┆           ┆          ┆   ┆ str       ┆ str       ┆ str       ┆ str       │\n",
      "╞═══════════╪═══════════╪═══════════╪══════════╪═══╪═══════════╪═══════════╪═══════════╪═══════════╡\n",
      "│ ParlaMint ┆ LOC       ┆ ParlaMint ┆ europe   ┆ … ┆ null      ┆ europe    ┆ PT        ┆ PT        │\n",
      "│ -PT_2015- ┆           ┆ -PT_2015- ┆          ┆   ┆           ┆           ┆           ┆           │\n",
      "│ 03-20.u83 ┆           ┆ 03-20.seg ┆          ┆   ┆           ┆           ┆           ┆           │\n",
      "│           ┆           ┆ 287…      ┆          ┆   ┆           ┆           ┆           ┆           │\n",
      "│ ParlaMint ┆ LOC       ┆ ParlaMint ┆ ukraine  ┆ … ┆ null      ┆ UA        ┆ PT        ┆ PT        │\n",
      "│ -PT_2015- ┆           ┆ -PT_2015- ┆          ┆   ┆           ┆           ┆           ┆           │\n",
      "│ 03-20.u20 ┆           ┆ 03-20.seg ┆          ┆   ┆           ┆           ┆           ┆           │\n",
      "│ 4         ┆           ┆ 618…      ┆          ┆   ┆           ┆           ┆           ┆           │\n",
      "│ ParlaMint ┆ LOC       ┆ ParlaMint ┆ tunisia  ┆ … ┆ null      ┆ TN        ┆ PT        ┆ PT        │\n",
      "│ -PT_2015- ┆           ┆ -PT_2015- ┆          ┆   ┆           ┆           ┆           ┆           │\n",
      "│ 03-20.u21 ┆           ┆ 03-20.seg ┆          ┆   ┆           ┆           ┆           ┆           │\n",
      "│ 0         ┆           ┆ 631…      ┆          ┆   ┆           ┆           ┆           ┆           │\n",
      "│ ParlaMint ┆ LOC       ┆ ParlaMint ┆ tunisia  ┆ … ┆ null      ┆ TN        ┆ PT        ┆ PT        │\n",
      "│ -PT_2015- ┆           ┆ -PT_2015- ┆          ┆   ┆           ┆           ┆           ┆           │\n",
      "│ 03-20.u21 ┆           ┆ 03-20.seg ┆          ┆   ┆           ┆           ┆           ┆           │\n",
      "│ 1         ┆           ┆ 634…      ┆          ┆   ┆           ┆           ┆           ┆           │\n",
      "│ ParlaMint ┆ LOC       ┆ ParlaMint ┆ tunisia  ┆ … ┆ null      ┆ TN        ┆ PT        ┆ PT        │\n",
      "│ -PT_2015- ┆           ┆ -PT_2015- ┆          ┆   ┆           ┆           ┆           ┆           │\n",
      "│ 03-20.u21 ┆           ┆ 03-20.seg ┆          ┆   ┆           ┆           ┆           ┆           │\n",
      "│ 1         ┆           ┆ 636…      ┆          ┆   ┆           ┆           ┆           ┆           │\n",
      "│ ParlaMint ┆ LOC       ┆ ParlaMint ┆ ukraine  ┆ … ┆ null      ┆ UA        ┆ PT        ┆ PT        │\n",
      "│ -PT_2015- ┆           ┆ -PT_2015- ┆          ┆   ┆           ┆           ┆           ┆           │\n",
      "│ 03-20.u22 ┆           ┆ 03-20.seg ┆          ┆   ┆           ┆           ┆           ┆           │\n",
      "│ 3         ┆           ┆ 702…      ┆          ┆   ┆           ┆           ┆           ┆           │\n",
      "│ ParlaMint ┆ LOC       ┆ ParlaMint ┆ europe   ┆ … ┆ 1977      ┆ europe    ┆ PT        ┆ PT        │\n",
      "│ -PT_2015- ┆           ┆ -PT_2015- ┆          ┆   ┆           ┆           ┆           ┆           │\n",
      "│ 11-09.u44 ┆           ┆ 11-09.seg ┆          ┆   ┆           ┆           ┆           ┆           │\n",
      "│           ┆           ┆ 142…      ┆          ┆   ┆           ┆           ┆           ┆           │\n",
      "│ ParlaMint ┆ LOC       ┆ ParlaMint ┆ europe   ┆ … ┆ 1977      ┆ europe    ┆ PT        ┆ PT        │\n",
      "│ -PT_2015- ┆           ┆ -PT_2015- ┆          ┆   ┆           ┆           ┆           ┆           │\n",
      "│ 11-09.u44 ┆           ┆ 11-09.seg ┆          ┆   ┆           ┆           ┆           ┆           │\n",
      "│           ┆           ┆ 142…      ┆          ┆   ┆           ┆           ┆           ┆           │\n",
      "│ ParlaMint ┆ LOC       ┆ ParlaMint ┆ europe   ┆ … ┆ 1977      ┆ europe    ┆ PT        ┆ PT        │\n",
      "│ -PT_2015- ┆           ┆ -PT_2015- ┆          ┆   ┆           ┆           ┆           ┆           │\n",
      "│ 11-09.u44 ┆           ┆ 11-09.seg ┆          ┆   ┆           ┆           ┆           ┆           │\n",
      "│           ┆           ┆ 142…      ┆          ┆   ┆           ┆           ┆           ┆           │\n",
      "│ ParlaMint ┆ LOC       ┆ ParlaMint ┆ europe   ┆ … ┆ 1964      ┆ europe    ┆ PT        ┆ PT        │\n",
      "│ -PT_2015- ┆           ┆ -PT_2015- ┆          ┆   ┆           ┆           ┆           ┆           │\n",
      "│ 11-09.u48 ┆           ┆ 11-09.seg ┆          ┆   ┆           ┆           ┆           ┆           │\n",
      "│           ┆           ┆ 163…      ┆          ┆   ┆           ┆           ┆           ┆           │\n",
      "│ …         ┆ …         ┆ …         ┆ …        ┆ … ┆ …         ┆ …         ┆ …         ┆ …         │\n",
      "│ u2023-04- ┆ LOC       ┆ ParlaMint ┆ ukraine  ┆ … ┆ 1973      ┆ UA        ┆ HU        ┆ HU        │\n",
      "│ 17-185    ┆           ┆ -HU_2023- ┆          ┆   ┆           ┆           ┆           ┆           │\n",
      "│           ┆           ┆ 04-17.seg ┆          ┆   ┆           ┆           ┆           ┆           │\n",
      "│           ┆           ┆ 576…      ┆          ┆   ┆           ┆           ┆           ┆           │\n",
      "│ u2023-04- ┆ LOC       ┆ ParlaMint ┆ ukraine  ┆ … ┆ 1973      ┆ UA        ┆ HU        ┆ HU        │\n",
      "│ 17-185    ┆           ┆ -HU_2023- ┆          ┆   ┆           ┆           ┆           ┆           │\n",
      "│           ┆           ┆ 04-17.seg ┆          ┆   ┆           ┆           ┆           ┆           │\n",
      "│           ┆           ┆ 576…      ┆          ┆   ┆           ┆           ┆           ┆           │\n",
      "│ u2023-04- ┆ LOC       ┆ ParlaMint ┆ spain    ┆ … ┆ 1973      ┆ ES        ┆ HU        ┆ HU        │\n",
      "│ 17-185    ┆           ┆ -HU_2023- ┆          ┆   ┆           ┆           ┆           ┆           │\n",
      "│           ┆           ┆ 04-17.seg ┆          ┆   ┆           ┆           ┆           ┆           │\n",
      "│           ┆           ┆ 576…      ┆          ┆   ┆           ┆           ┆           ┆           │\n",
      "│ u2023-04- ┆ LOC       ┆ ParlaMint ┆ china    ┆ … ┆ 1973      ┆ CN        ┆ HU        ┆ HU        │\n",
      "│ 17-185    ┆           ┆ -HU_2023- ┆          ┆   ┆           ┆           ┆           ┆           │\n",
      "│           ┆           ┆ 04-17.seg ┆          ┆   ┆           ┆           ┆           ┆           │\n",
      "│           ┆           ┆ 576…      ┆          ┆   ┆           ┆           ┆           ┆           │\n",
      "│ u2023-04- ┆ LOC       ┆ ParlaMint ┆ portugal ┆ … ┆ 1979      ┆ PT        ┆ HU        ┆ HU        │\n",
      "│ 17-187    ┆           ┆ -HU_2023- ┆          ┆   ┆           ┆           ┆           ┆           │\n",
      "│           ┆           ┆ 04-17.seg ┆          ┆   ┆           ┆           ┆           ┆           │\n",
      "│           ┆           ┆ 582…      ┆          ┆   ┆           ┆           ┆           ┆           │\n",
      "│ u2023-04- ┆ LOC       ┆ ParlaMint ┆ spain    ┆ … ┆ 1979      ┆ ES        ┆ HU        ┆ HU        │\n",
      "│ 17-187    ┆           ┆ -HU_2023- ┆          ┆   ┆           ┆           ┆           ┆           │\n",
      "│           ┆           ┆ 04-17.seg ┆          ┆   ┆           ┆           ┆           ┆           │\n",
      "│           ┆           ┆ 582…      ┆          ┆   ┆           ┆           ┆           ┆           │\n",
      "│ u2023-04- ┆ LOC       ┆ ParlaMint ┆ france   ┆ … ┆ 1979      ┆ FR        ┆ HU        ┆ HU        │\n",
      "│ 17-187    ┆           ┆ -HU_2023- ┆          ┆   ┆           ┆           ┆           ┆           │\n",
      "│           ┆           ┆ 04-17.seg ┆          ┆   ┆           ┆           ┆           ┆           │\n",
      "│           ┆           ┆ 582…      ┆          ┆   ┆           ┆           ┆           ┆           │\n",
      "│ u2023-04- ┆ LOC       ┆ ParlaMint ┆ mexico   ┆ … ┆ 1980      ┆ MX        ┆ HU        ┆ HU        │\n",
      "│ 17-191    ┆           ┆ -HU_2023- ┆          ┆   ┆           ┆           ┆           ┆           │\n",
      "│           ┆           ┆ 04-17.seg ┆          ┆   ┆           ┆           ┆           ┆           │\n",
      "│           ┆           ┆ 599…      ┆          ┆   ┆           ┆           ┆           ┆           │\n",
      "│ u2023-04- ┆ LOC       ┆ ParlaMint ┆ vietnam  ┆ … ┆ 1980      ┆ VN        ┆ HU        ┆ HU        │\n",
      "│ 17-191    ┆           ┆ -HU_2023- ┆          ┆   ┆           ┆           ┆           ┆           │\n",
      "│           ┆           ┆ 04-17.seg ┆          ┆   ┆           ┆           ┆           ┆           │\n",
      "│           ┆           ┆ 599…      ┆          ┆   ┆           ┆           ┆           ┆           │\n",
      "│ u2023-04- ┆ LOC       ┆ ParlaMint ┆ europe   ┆ … ┆ 1982      ┆ europe    ┆ HU        ┆ HU        │\n",
      "│ 17-195    ┆           ┆ -HU_2023- ┆          ┆   ┆           ┆           ┆           ┆           │\n",
      "│           ┆           ┆ 04-17.seg ┆          ┆   ┆           ┆           ┆           ┆           │\n",
      "│           ┆           ┆ 619…      ┆          ┆   ┆           ┆           ┆           ┆           │\n",
      "└───────────┴───────────┴───────────┴──────────┴───┴───────────┴───────────┴───────────┴───────────┘\n"
     ]
    }
   ],
   "source": [
    "def load_and_concat_parquet_files(path):\n",
    "    dfs = []\n",
    "    for file in os.listdir(path):\n",
    "        file_path = os.path.join(path, file)\n",
    "        if file_path.endswith('.parquet'):\n",
    "            dfs.append(convert_types(pl.read_parquet(file_path).with_columns([pl.lit(file[0:2]).alias(\"ReferringCountry\")])))\n",
    "    if not dfs:\n",
    "        return pl.DataFrame()\n",
    "    combined_df = dfs[0]\n",
    "    for df in dfs[1:]:\n",
    "        combined_df = pl.concat([combined_df,df], how=\"diagonal\")\n",
    "    return combined_df\n",
    "\n",
    "def convert_types(df):\n",
    "    for col in df.columns:\n",
    "        if df[col].dtype != pl.String:\n",
    "            df = df.with_columns(df[col].cast(pl.String))\n",
    "    return df\n",
    "\n",
    "path = \"/home/simon/parliamint/ParlaMint_edgelists\"\n",
    "df = load_and_concat_parquet_files(path)\n",
    "df = df.drop(\"[0.002s][warning][perf,memops] Cannot use file /tmp/hsperfdata_kopp/3612625 because it is locked by another process (errno = 11)\")\n",
    "\n",
    "df = df.with_columns(\n",
    "    pl.col(\"Date\").str.strptime(pl.Date, \"%Y-%m-%d\")\n",
    ")\n",
    "print(df)"
   ]
  },
  {
   "cell_type": "code",
   "execution_count": 77,
   "id": "59015a28",
   "metadata": {},
   "outputs": [
    {
     "name": "stdout",
     "output_type": "stream",
     "text": [
      "shape: (270, 2)\n",
      "┌────────────────────┬────────┐\n",
      "│ entity             ┆ len    │\n",
      "│ ---                ┆ ---    │\n",
      "│ str                ┆ u32    │\n",
      "╞════════════════════╪════════╡\n",
      "│ europe             ┆ 341472 │\n",
      "│ germany            ┆ 84756  │\n",
      "│ russia             ┆ 81470  │\n",
      "│ united states      ┆ 76337  │\n",
      "│ ukraine            ┆ 60669  │\n",
      "│ kosovo             ┆ 48419  │\n",
      "│ spain              ┆ 46210  │\n",
      "│ france             ┆ 45131  │\n",
      "│ syria              ┆ 39171  │\n",
      "│ china              ┆ 37814  │\n",
      "│ …                  ┆ …      │\n",
      "│ brunei darussalam  ┆ 3      │\n",
      "│ east australia     ┆ 2      │\n",
      "│ south west asia    ┆ 2      │\n",
      "│ west america       ┆ 2      │\n",
      "│ southern asia      ┆ 1      │\n",
      "│ türkiye            ┆ 1      │\n",
      "│ north east africa  ┆ 1      │\n",
      "│ south west africa  ┆ 1      │\n",
      "│ northern australia ┆ 1      │\n",
      "│ norfolk island     ┆ 1      │\n",
      "└────────────────────┴────────┘\n"
     ]
    }
   ],
   "source": [
    "print(df.group_by(\"entity\").len().sort(\"len\", descending=True).filter())"
   ]
  },
  {
   "cell_type": "code",
   "execution_count": 78,
   "id": "4e358c9a",
   "metadata": {},
   "outputs": [],
   "source": [
    "dicts = build_country_code_dicts()\n",
    "def ne2cc_s(x):\n",
    "    return ne2cc(x, dicts[0], dicts[1])\n"
   ]
  },
  {
   "cell_type": "markdown",
   "id": "192b50b4",
   "metadata": {},
   "source": [
    "# Neighbor investigation (Simon)\n",
    "\n",
    "neighbor json file was created in `border_finder.py` using data from [naturalearthdata.com](https://www.naturalearthdata.com/downloads/110m-cultural-vectors/)"
   ]
  },
  {
   "cell_type": "code",
   "execution_count": 108,
   "id": "76cfc250",
   "metadata": {},
   "outputs": [
    {
     "name": "stdout",
     "output_type": "stream",
     "text": [
      "shape: (27, 3)\n",
      "┌────────────────┬───────────────┬───────────────────┐\n",
      "│ source_country ┆ neighbors_rel ┆ non_neighbors_rel │\n",
      "│ ---            ┆ ---           ┆ ---               │\n",
      "│ str            ┆ f64           ┆ f64               │\n",
      "╞════════════════╪═══════════════╪═══════════════════╡\n",
      "│ PT             ┆ 9.35          ┆ 90.65             │\n",
      "│ RS             ┆ 20.83         ┆ 79.17             │\n",
      "│ CZ             ┆ 23.92         ┆ 76.08             │\n",
      "│ IS             ┆ 0.0           ┆ 100.0             │\n",
      "│ GR             ┆ 6.08          ┆ 93.92             │\n",
      "│ ES             ┆ 4.41          ┆ 95.59             │\n",
      "│ BE             ┆ 17.0          ┆ 83.0              │\n",
      "│ not found      ┆ 0.0           ┆ 100.0             │\n",
      "│ LV             ┆ 37.7          ┆ 62.3              │\n",
      "│ GB             ┆ 0.0           ┆ 100.0             │\n",
      "│ …              ┆ …             ┆ …                 │\n",
      "│ TR             ┆ 32.04         ┆ 67.96             │\n",
      "│ FI             ┆ 24.19         ┆ 75.81             │\n",
      "│ FR             ┆ 0.0           ┆ 100.0             │\n",
      "│ HR             ┆ 22.35         ┆ 77.65             │\n",
      "│ UA             ┆ 38.08         ┆ 61.92             │\n",
      "│ SI             ┆ 36.09         ┆ 63.91             │\n",
      "│ NL             ┆ 11.25         ┆ 88.75             │\n",
      "│ SE             ┆ 5.09          ┆ 94.91             │\n",
      "│ EE             ┆ 21.75         ┆ 78.25             │\n",
      "│ HU             ┆ 27.19         ┆ 72.81             │\n",
      "└────────────────┴───────────────┴───────────────────┘\n"
     ]
    },
    {
     "name": "stderr",
     "output_type": "stream",
     "text": [
      "/tmp/ipykernel_89783/3583605429.py:23: DeprecationWarning: `pl.count()` is deprecated. Please use `pl.len()` instead.\n",
      "  (pl.sum(\"is_neighbor\") / pl.count() * 100).round(2)\n",
      "/tmp/ipykernel_89783/3583605429.py:26: DeprecationWarning: `pl.count()` is deprecated. Please use `pl.len()` instead.\n",
      "  (((pl.count() - pl.sum(\"is_neighbor\")) / pl.count()) * 100)\n"
     ]
    }
   ],
   "source": [
    "with open(\"/home/simon/parlianets/neighbors_iso2.json\", \"r\") as f:\n",
    "    neighbors_map = json.load(f)\n",
    "\n",
    "# assume `df` already exists with \"source_country\" & \"target_country\"\n",
    "# (b) pull your Polars DataFrame into Python dicts\n",
    "records = df.to_dicts()\n",
    "\n",
    "# (c) annotate each record\n",
    "for rec in records:\n",
    "    src = rec[\"source_country\"]\n",
    "    tgt = rec[\"target_country\"]\n",
    "    rec[\"is_neighbor\"] = tgt in neighbors_map.get(src, [])\n",
    "\n",
    "# (d) re-ingest into Polars\n",
    "df2 = pl.DataFrame(records)\n",
    "\n",
    "# (e) group & compute percentages\n",
    "result = (\n",
    "    df2\n",
    "    .group_by(\"source_country\", maintain_order=True)\n",
    "    .agg([\n",
    "      # fraction of neighbor-links, *100 and round(2)\n",
    "      (pl.sum(\"is_neighbor\") / pl.count() * 100).round(2)\n",
    "        .alias(\"neighbors_rel\"),\n",
    "      # complement: non-neighbor %\n",
    "      (((pl.count() - pl.sum(\"is_neighbor\")) / pl.count()) * 100)\n",
    "        .round(2)\n",
    "        .alias(\"non_neighbors_rel\")\n",
    "    ])\n",
    ")\n",
    "\n",
    "print(result)"
   ]
  },
  {
   "cell_type": "code",
   "execution_count": 111,
   "id": "74a01bf3",
   "metadata": {},
   "outputs": [
    {
     "name": "stdout",
     "output_type": "stream",
     "text": [
      "shape: (27, 3)\n",
      "┌────────────────┬───────────────┬───────────────────┐\n",
      "│ source_country ┆ neighbors_rel ┆ non_neighbors_rel │\n",
      "│ ---            ┆ ---           ┆ ---               │\n",
      "│ str            ┆ f64           ┆ f64               │\n",
      "╞════════════════╪═══════════════╪═══════════════════╡\n",
      "│ PT             ┆ 0.0           ┆ 100.0             │\n",
      "│ RS             ┆ 53.53         ┆ 46.47             │\n",
      "│ CZ             ┆ 23.92         ┆ 76.08             │\n",
      "│ IS             ┆ 0.0           ┆ 100.0             │\n",
      "│ GR             ┆ 6.08          ┆ 93.92             │\n",
      "│ ES             ┆ 0.0           ┆ 100.0             │\n",
      "│ BE             ┆ 24.86         ┆ 75.14             │\n",
      "│ not found      ┆ 0.0           ┆ 100.0             │\n",
      "│ LV             ┆ 37.7          ┆ 62.3              │\n",
      "│ GB             ┆ 0.0           ┆ 100.0             │\n",
      "│ …              ┆ …             ┆ …                 │\n",
      "│ TR             ┆ 32.04         ┆ 67.96             │\n",
      "│ FI             ┆ 28.0          ┆ 72.0              │\n",
      "│ FR             ┆ 20.05         ┆ 79.95             │\n",
      "│ HR             ┆ 22.35         ┆ 77.65             │\n",
      "│ UA             ┆ 38.08         ┆ 61.92             │\n",
      "│ SI             ┆ 36.09         ┆ 63.91             │\n",
      "│ NL             ┆ 11.25         ┆ 88.75             │\n",
      "│ SE             ┆ 9.85          ┆ 90.15             │\n",
      "│ EE             ┆ 21.75         ┆ 78.25             │\n",
      "│ HU             ┆ 27.19         ┆ 72.81             │\n",
      "└────────────────┴───────────────┴───────────────────┘\n"
     ]
    },
    {
     "name": "stderr",
     "output_type": "stream",
     "text": [
      "/tmp/ipykernel_89783/3530855629.py:20: DeprecationWarning: `pl.count()` is deprecated. Please use `pl.len()` instead.\n",
      "  (pl.sum(\"is_neighbor\") / pl.count() * 100).round(2).alias(\"neighbors_rel\"),\n",
      "/tmp/ipykernel_89783/3530855629.py:21: DeprecationWarning: `pl.count()` is deprecated. Please use `pl.len()` instead.\n",
      "  (((pl.count() - pl.sum(\"is_neighbor\")) / pl.count()) * 100)\n"
     ]
    }
   ],
   "source": [
    "with open(\"/home/simon/parlianets/neighbors_iso2.json\", \"r\") as f:\n",
    "    neighbors_map = json.load(f)\n",
    "\n",
    "# 1) convert to pandas\n",
    "pdf = df.to_pandas()\n",
    "\n",
    "# 2) row-wise apply\n",
    "pdf[\"is_neighbor\"] = pdf.apply(\n",
    "    lambda r: r.target_country in neighbors_map.get(r.source_country, []),\n",
    "    axis=1\n",
    ")\n",
    "\n",
    "# 3) back to Polars (if you still want Polars for grouping)\n",
    "df2 = pl.from_pandas(pdf)\n",
    "\n",
    "result = (\n",
    "    df2\n",
    "    .group_by(\"source_country\", maintain_order=True)\n",
    "    .agg([\n",
    "      (pl.sum(\"is_neighbor\") / pl.count() * 100).round(2).alias(\"neighbors_rel\"),\n",
    "      (((pl.count() - pl.sum(\"is_neighbor\")) / pl.count()) * 100)\n",
    "        .round(2).alias(\"non_neighbors_rel\")\n",
    "    ])\n",
    ")\n",
    "\n",
    "print(result)"
   ]
  },
  {
   "cell_type": "code",
   "execution_count": 79,
   "id": "98e18817",
   "metadata": {},
   "outputs": [
    {
     "name": "stdout",
     "output_type": "stream",
     "text": [
      "shape: (53, 2)\n",
      "┌────────────────────┬────────┐\n",
      "│ entity             ┆ count  │\n",
      "│ ---                ┆ ---    │\n",
      "│ str                ┆ u32    │\n",
      "╞════════════════════╪════════╡\n",
      "│ europe             ┆ 341472 │\n",
      "│ eu                 ┆ 23911  │\n",
      "│ america            ┆ 23486  │\n",
      "│ africa             ┆ 18319  │\n",
      "│ asia               ┆ 5802   │\n",
      "│ usa                ┆ 3273   │\n",
      "│ north africa       ┆ 2820   │\n",
      "│ south america      ┆ 1898   │\n",
      "│ north america      ┆ 1235   │\n",
      "│ west africa        ┆ 635    │\n",
      "│ …                  ┆ …      │\n",
      "│ northern africa    ┆ 4      │\n",
      "│ brunei darussalam  ┆ 3      │\n",
      "│ west america       ┆ 2      │\n",
      "│ south west asia    ┆ 2      │\n",
      "│ east australia     ┆ 2      │\n",
      "│ north east africa  ┆ 1      │\n",
      "│ southern asia      ┆ 1      │\n",
      "│ northern australia ┆ 1      │\n",
      "│ türkiye            ┆ 1      │\n",
      "│ south west africa  ┆ 1      │\n",
      "└────────────────────┴────────┘\n",
      "shape: (1_384_795, 30)\n",
      "┌───────────┬───────────┬───────────┬───────────┬───┬───────────┬───────────┬───────────┬──────────┐\n",
      "│ text_id   ┆ name_type ┆ position  ┆ entity    ┆ … ┆ target_co ┆ source_co ┆ Referring ┆ Referred │\n",
      "│ ---       ┆ ---       ┆ ---       ┆ ---       ┆   ┆ untry     ┆ untry     ┆ Country   ┆ Country  │\n",
      "│ str       ┆ str       ┆ str       ┆ str       ┆   ┆ ---       ┆ ---       ┆ ---       ┆ ---      │\n",
      "│           ┆           ┆           ┆           ┆   ┆ str       ┆ str       ┆ str       ┆ str      │\n",
      "╞═══════════╪═══════════╪═══════════╪═══════════╪═══╪═══════════╪═══════════╪═══════════╪══════════╡\n",
      "│ ParlaMint ┆ LOC       ┆ ParlaMint ┆ ukraine   ┆ … ┆ UA        ┆ PT        ┆ PT        ┆ UA       │\n",
      "│ -PT_2015- ┆           ┆ -PT_2015- ┆           ┆   ┆           ┆           ┆           ┆          │\n",
      "│ 03-20.u20 ┆           ┆ 03-20.seg ┆           ┆   ┆           ┆           ┆           ┆          │\n",
      "│ 4         ┆           ┆ 618…      ┆           ┆   ┆           ┆           ┆           ┆          │\n",
      "│ ParlaMint ┆ LOC       ┆ ParlaMint ┆ tunisia   ┆ … ┆ TN        ┆ PT        ┆ PT        ┆ TN       │\n",
      "│ -PT_2015- ┆           ┆ -PT_2015- ┆           ┆   ┆           ┆           ┆           ┆          │\n",
      "│ 03-20.u21 ┆           ┆ 03-20.seg ┆           ┆   ┆           ┆           ┆           ┆          │\n",
      "│ 0         ┆           ┆ 631…      ┆           ┆   ┆           ┆           ┆           ┆          │\n",
      "│ ParlaMint ┆ LOC       ┆ ParlaMint ┆ tunisia   ┆ … ┆ TN        ┆ PT        ┆ PT        ┆ TN       │\n",
      "│ -PT_2015- ┆           ┆ -PT_2015- ┆           ┆   ┆           ┆           ┆           ┆          │\n",
      "│ 03-20.u21 ┆           ┆ 03-20.seg ┆           ┆   ┆           ┆           ┆           ┆          │\n",
      "│ 1         ┆           ┆ 634…      ┆           ┆   ┆           ┆           ┆           ┆          │\n",
      "│ ParlaMint ┆ LOC       ┆ ParlaMint ┆ tunisia   ┆ … ┆ TN        ┆ PT        ┆ PT        ┆ TN       │\n",
      "│ -PT_2015- ┆           ┆ -PT_2015- ┆           ┆   ┆           ┆           ┆           ┆          │\n",
      "│ 03-20.u21 ┆           ┆ 03-20.seg ┆           ┆   ┆           ┆           ┆           ┆          │\n",
      "│ 1         ┆           ┆ 636…      ┆           ┆   ┆           ┆           ┆           ┆          │\n",
      "│ ParlaMint ┆ LOC       ┆ ParlaMint ┆ ukraine   ┆ … ┆ UA        ┆ PT        ┆ PT        ┆ UA       │\n",
      "│ -PT_2015- ┆           ┆ -PT_2015- ┆           ┆   ┆           ┆           ┆           ┆          │\n",
      "│ 03-20.u22 ┆           ┆ 03-20.seg ┆           ┆   ┆           ┆           ┆           ┆          │\n",
      "│ 3         ┆           ┆ 702…      ┆           ┆   ┆           ┆           ┆           ┆          │\n",
      "│ ParlaMint ┆ LOC       ┆ ParlaMint ┆ brazil    ┆ … ┆ BR        ┆ PT        ┆ PT        ┆ BR       │\n",
      "│ -PT_2015- ┆           ┆ -PT_2015- ┆           ┆   ┆           ┆           ┆           ┆          │\n",
      "│ 11-09.u19 ┆           ┆ 11-09.seg ┆           ┆   ┆           ┆           ┆           ┆          │\n",
      "│ 5         ┆           ┆ 451…      ┆           ┆   ┆           ┆           ┆           ┆          │\n",
      "│ ParlaMint ┆ LOC       ┆ ParlaMint ┆ north     ┆ … ┆ KP        ┆ PT        ┆ PT        ┆ KP       │\n",
      "│ -PT_2015- ┆           ┆ -PT_2015- ┆ korea     ┆   ┆           ┆           ┆           ┆          │\n",
      "│ 11-09.u22 ┆           ┆ 11-09.seg ┆           ┆   ┆           ┆           ┆           ┆          │\n",
      "│ 4         ┆           ┆ 540…      ┆           ┆   ┆           ┆           ┆           ┆          │\n",
      "│ ParlaMint ┆ LOC       ┆ ParlaMint ┆ cuba      ┆ … ┆ CU        ┆ PT        ┆ PT        ┆ CU       │\n",
      "│ -PT_2015- ┆           ┆ -PT_2015- ┆           ┆   ┆           ┆           ┆           ┆          │\n",
      "│ 11-09.u22 ┆           ┆ 11-09.seg ┆           ┆   ┆           ┆           ┆           ┆          │\n",
      "│ 6         ┆           ┆ 542…      ┆           ┆   ┆           ┆           ┆           ┆          │\n",
      "│ ParlaMint ┆ LOC       ┆ ParlaMint ┆ germany   ┆ … ┆ DE        ┆ PT        ┆ PT        ┆ DE       │\n",
      "│ -PT_2015- ┆           ┆ -PT_2015- ┆           ┆   ┆           ┆           ┆           ┆          │\n",
      "│ 11-09.u23 ┆           ┆ 11-09.seg ┆           ┆   ┆           ┆           ┆           ┆          │\n",
      "│ 2         ┆           ┆ 555…      ┆           ┆   ┆           ┆           ┆           ┆          │\n",
      "│ ParlaMint ┆ LOC       ┆ ParlaMint ┆ angola    ┆ … ┆ AO        ┆ PT        ┆ PT        ┆ AO       │\n",
      "│ -PT_2015- ┆           ┆ -PT_2015- ┆           ┆   ┆           ┆           ┆           ┆          │\n",
      "│ 11-09.u23 ┆           ┆ 11-09.seg ┆           ┆   ┆           ┆           ┆           ┆          │\n",
      "│ 2         ┆           ┆ 555…      ┆           ┆   ┆           ┆           ┆           ┆          │\n",
      "│ …         ┆ …         ┆ …         ┆ …         ┆ … ┆ …         ┆ …         ┆ …         ┆ …        │\n",
      "│ u2023-04- ┆ LOC       ┆ ParlaMint ┆ belgium   ┆ … ┆ BE        ┆ HU        ┆ HU        ┆ BE       │\n",
      "│ 17-177    ┆           ┆ -HU_2023- ┆           ┆   ┆           ┆           ┆           ┆          │\n",
      "│           ┆           ┆ 04-17.seg ┆           ┆   ┆           ┆           ┆           ┆          │\n",
      "│           ┆           ┆ 555…      ┆           ┆   ┆           ┆           ┆           ┆          │\n",
      "│ u2023-04- ┆ LOC       ┆ ParlaMint ┆ ukraine   ┆ … ┆ UA        ┆ HU        ┆ HU        ┆ UA       │\n",
      "│ 17-185    ┆           ┆ -HU_2023- ┆           ┆   ┆           ┆           ┆           ┆          │\n",
      "│           ┆           ┆ 04-17.seg ┆           ┆   ┆           ┆           ┆           ┆          │\n",
      "│           ┆           ┆ 576…      ┆           ┆   ┆           ┆           ┆           ┆          │\n",
      "│ u2023-04- ┆ LOC       ┆ ParlaMint ┆ ukraine   ┆ … ┆ UA        ┆ HU        ┆ HU        ┆ UA       │\n",
      "│ 17-185    ┆           ┆ -HU_2023- ┆           ┆   ┆           ┆           ┆           ┆          │\n",
      "│           ┆           ┆ 04-17.seg ┆           ┆   ┆           ┆           ┆           ┆          │\n",
      "│           ┆           ┆ 576…      ┆           ┆   ┆           ┆           ┆           ┆          │\n",
      "│ u2023-04- ┆ LOC       ┆ ParlaMint ┆ spain     ┆ … ┆ ES        ┆ HU        ┆ HU        ┆ ES       │\n",
      "│ 17-185    ┆           ┆ -HU_2023- ┆           ┆   ┆           ┆           ┆           ┆          │\n",
      "│           ┆           ┆ 04-17.seg ┆           ┆   ┆           ┆           ┆           ┆          │\n",
      "│           ┆           ┆ 576…      ┆           ┆   ┆           ┆           ┆           ┆          │\n",
      "│ u2023-04- ┆ LOC       ┆ ParlaMint ┆ china     ┆ … ┆ CN        ┆ HU        ┆ HU        ┆ CN       │\n",
      "│ 17-185    ┆           ┆ -HU_2023- ┆           ┆   ┆           ┆           ┆           ┆          │\n",
      "│           ┆           ┆ 04-17.seg ┆           ┆   ┆           ┆           ┆           ┆          │\n",
      "│           ┆           ┆ 576…      ┆           ┆   ┆           ┆           ┆           ┆          │\n",
      "│ u2023-04- ┆ LOC       ┆ ParlaMint ┆ portugal  ┆ … ┆ PT        ┆ HU        ┆ HU        ┆ PT       │\n",
      "│ 17-187    ┆           ┆ -HU_2023- ┆           ┆   ┆           ┆           ┆           ┆          │\n",
      "│           ┆           ┆ 04-17.seg ┆           ┆   ┆           ┆           ┆           ┆          │\n",
      "│           ┆           ┆ 582…      ┆           ┆   ┆           ┆           ┆           ┆          │\n",
      "│ u2023-04- ┆ LOC       ┆ ParlaMint ┆ spain     ┆ … ┆ ES        ┆ HU        ┆ HU        ┆ ES       │\n",
      "│ 17-187    ┆           ┆ -HU_2023- ┆           ┆   ┆           ┆           ┆           ┆          │\n",
      "│           ┆           ┆ 04-17.seg ┆           ┆   ┆           ┆           ┆           ┆          │\n",
      "│           ┆           ┆ 582…      ┆           ┆   ┆           ┆           ┆           ┆          │\n",
      "│ u2023-04- ┆ LOC       ┆ ParlaMint ┆ france    ┆ … ┆ FR        ┆ HU        ┆ HU        ┆ FR       │\n",
      "│ 17-187    ┆           ┆ -HU_2023- ┆           ┆   ┆           ┆           ┆           ┆          │\n",
      "│           ┆           ┆ 04-17.seg ┆           ┆   ┆           ┆           ┆           ┆          │\n",
      "│           ┆           ┆ 582…      ┆           ┆   ┆           ┆           ┆           ┆          │\n",
      "│ u2023-04- ┆ LOC       ┆ ParlaMint ┆ mexico    ┆ … ┆ MX        ┆ HU        ┆ HU        ┆ MX       │\n",
      "│ 17-191    ┆           ┆ -HU_2023- ┆           ┆   ┆           ┆           ┆           ┆          │\n",
      "│           ┆           ┆ 04-17.seg ┆           ┆   ┆           ┆           ┆           ┆          │\n",
      "│           ┆           ┆ 599…      ┆           ┆   ┆           ┆           ┆           ┆          │\n",
      "│ u2023-04- ┆ LOC       ┆ ParlaMint ┆ vietnam   ┆ … ┆ VN        ┆ HU        ┆ HU        ┆ VN       │\n",
      "│ 17-191    ┆           ┆ -HU_2023- ┆           ┆   ┆           ┆           ┆           ┆          │\n",
      "│           ┆           ┆ 04-17.seg ┆           ┆   ┆           ┆           ┆           ┆          │\n",
      "│           ┆           ┆ 599…      ┆           ┆   ┆           ┆           ┆           ┆          │\n",
      "└───────────┴───────────┴───────────┴───────────┴───┴───────────┴───────────┴───────────┴──────────┘\n"
     ]
    },
    {
     "name": "stderr",
     "output_type": "stream",
     "text": [
      "/tmp/ipykernel_89783/3088195442.py:6: DeprecationWarning: `pl.count()` is deprecated. Please use `pl.len()` instead.\n",
      "  df.filter(pl.col(\"ReferredCountry\").is_null()).group_by(\"entity\").agg(pl.count()).sort(\"count\", descending=True)\n"
     ]
    }
   ],
   "source": [
    "df = df.with_columns([\n",
    "    pl.col(\"entity\").map_elements(ne2cc_s, return_dtype=pl.String).alias(\"ReferredCountry\")\n",
    "])\n",
    "\n",
    "print(\n",
    "df.filter(pl.col(\"ReferredCountry\").is_null()).group_by(\"entity\").agg(pl.count()).sort(\"count\", descending=True)\n",
    ")\n",
    "df = df.filter(\n",
    "    pl.col(\"ReferredCountry\") != pl.col(\"ReferringCountry\")\n",
    ")\n",
    "\n",
    "print(df)"
   ]
  },
  {
   "cell_type": "code",
   "execution_count": 80,
   "id": "7e95db3e",
   "metadata": {},
   "outputs": [
    {
     "name": "stdout",
     "output_type": "stream",
     "text": [
      "shape: (214, 2)\n",
      "┌─────────────────┬───────┐\n",
      "│ ReferredCountry ┆ len   │\n",
      "│ ---             ┆ ---   │\n",
      "│ str             ┆ u32   │\n",
      "╞═════════════════╪═══════╡\n",
      "│ US              ┆ 95842 │\n",
      "│ DE              ┆ 84756 │\n",
      "│ RU              ┆ 81470 │\n",
      "│ UA              ┆ 60669 │\n",
      "│ XK              ┆ 48419 │\n",
      "│ FR              ┆ 45131 │\n",
      "│ SY              ┆ 39171 │\n",
      "│ CN              ┆ 37814 │\n",
      "│ SE              ┆ 35262 │\n",
      "│ GR              ┆ 34344 │\n",
      "│ …               ┆ …     │\n",
      "│ SX              ┆ 23    │\n",
      "│ CZ              ┆ 21    │\n",
      "│ SZ              ┆ 20    │\n",
      "│ SB              ┆ 15    │\n",
      "│ CD              ┆ 14    │\n",
      "│ AS              ┆ 11    │\n",
      "│ NU              ┆ 8     │\n",
      "│ FK              ┆ 6     │\n",
      "│ CX              ┆ 5     │\n",
      "│ NF              ┆ 1     │\n",
      "└─────────────────┴───────┘\n"
     ]
    }
   ],
   "source": [
    "print(df.group_by(\"ReferredCountry\").len().sort(\"len\", descending=True).filter())"
   ]
  },
  {
   "cell_type": "code",
   "execution_count": 81,
   "id": "cf6591bc",
   "metadata": {},
   "outputs": [],
   "source": [
    "#alt.data_transformers.disable_max_rows()\n",
    "\n",
    "df_yearly = df.group_by(\"ReferringCountry\", \"Date\").len().sort(\"Date\", descending=False)\n",
    "df_yearly = df_yearly.with_columns(\n",
    "    pl.col(\"Date\").dt.truncate(\"1y\").alias(\"year_start\")\n",
    ")\n",
    "\n",
    "df_yearly = df_yearly.group_by(\"year_start\", \"ReferringCountry\").agg([\n",
    "    pl.col(\"len\").sum().alias(\"year_sum\")])\n",
    "#df_yearly.plot.line(x=\"year_start\", y=\"year_sum\").properties(width=100,height=100).facet(\n",
    "#    facet=\"ReferringCountry\", columns=6\n",
    "#)"
   ]
  },
  {
   "cell_type": "code",
   "execution_count": 82,
   "id": "c29c8a52",
   "metadata": {},
   "outputs": [
    {
     "data": {
      "text/plain": [
       "'\\ndf_yearly = df_yearly.group_by(\"year_start\").agg([\\n    pl.col(\"len\").sum().alias(\"year_sum\")])\\ndf_yearly.plot.line(x=\"year_start\", y=\"year_sum\").properties(width=200,height=200)\\n'"
      ]
     },
     "execution_count": 82,
     "metadata": {},
     "output_type": "execute_result"
    }
   ],
   "source": [
    "alt.data_transformers.disable_max_rows()\n",
    "\n",
    "df_yearly = df.group_by(\"Date\").len().sort(\"Date\", descending=False)\n",
    "df_yearly = df_yearly.with_columns(\n",
    "    pl.col(\"Date\").dt.truncate(\"1y\").alias(\"year_start\")\n",
    ")\n",
    "\n",
    "\"\"\"\n",
    "df_yearly = df_yearly.group_by(\"year_start\").agg([\n",
    "    pl.col(\"len\").sum().alias(\"year_sum\")])\n",
    "df_yearly.plot.line(x=\"year_start\", y=\"year_sum\").properties(width=200,height=200)\n",
    "\"\"\""
   ]
  },
  {
   "cell_type": "code",
   "execution_count": 83,
   "id": "fe3aa05f",
   "metadata": {},
   "outputs": [
    {
     "data": {
      "text/html": [
       "<div><style>\n",
       ".dataframe > thead > tr,\n",
       ".dataframe > tbody > tr {\n",
       "  text-align: right;\n",
       "  white-space: pre-wrap;\n",
       "}\n",
       "</style>\n",
       "<small>shape: (4_626, 3)</small><table border=\"1\" class=\"dataframe\"><thead><tr><th>ReferringCountry</th><th>ReferredCountry</th><th>len</th></tr><tr><td>str</td><td>str</td><td>u32</td></tr></thead><tbody><tr><td>&quot;RS&quot;</td><td>&quot;XK&quot;</td><td>40588</td></tr><tr><td>&quot;DK&quot;</td><td>&quot;GL&quot;</td><td>20248</td></tr><tr><td>&quot;TR&quot;</td><td>&quot;SY&quot;</td><td>12581</td></tr><tr><td>&quot;RS&quot;</td><td>&quot;ME&quot;</td><td>11041</td></tr><tr><td>&quot;CZ&quot;</td><td>&quot;UA&quot;</td><td>10945</td></tr><tr><td>&quot;NO&quot;</td><td>&quot;SE&quot;</td><td>10889</td></tr><tr><td>&quot;NO&quot;</td><td>&quot;US&quot;</td><td>10405</td></tr><tr><td>&quot;AT&quot;</td><td>&quot;DE&quot;</td><td>10322</td></tr><tr><td>&quot;UA&quot;</td><td>&quot;RU&quot;</td><td>8781</td></tr><tr><td>&quot;SE&quot;</td><td>&quot;RU&quot;</td><td>8726</td></tr><tr><td>&hellip;</td><td>&hellip;</td><td>&hellip;</td></tr><tr><td>&quot;LV&quot;</td><td>&quot;GA&quot;</td><td>1</td></tr><tr><td>&quot;no&quot;</td><td>&quot;MC&quot;</td><td>1</td></tr><tr><td>&quot;FI&quot;</td><td>&quot;BJ&quot;</td><td>1</td></tr><tr><td>&quot;NO&quot;</td><td>&quot;DM&quot;</td><td>1</td></tr><tr><td>&quot;UA&quot;</td><td>&quot;BH&quot;</td><td>1</td></tr><tr><td>&quot;IS&quot;</td><td>&quot;GY&quot;</td><td>1</td></tr><tr><td>&quot;BG&quot;</td><td>&quot;PW&quot;</td><td>1</td></tr><tr><td>&quot;GR&quot;</td><td>&quot;GG&quot;</td><td>1</td></tr><tr><td>&quot;ES&quot;</td><td>&quot;GU&quot;</td><td>1</td></tr><tr><td>&quot;BA&quot;</td><td>&quot;BS&quot;</td><td>1</td></tr></tbody></table></div>"
      ],
      "text/plain": [
       "shape: (4_626, 3)\n",
       "┌──────────────────┬─────────────────┬───────┐\n",
       "│ ReferringCountry ┆ ReferredCountry ┆ len   │\n",
       "│ ---              ┆ ---             ┆ ---   │\n",
       "│ str              ┆ str             ┆ u32   │\n",
       "╞══════════════════╪═════════════════╪═══════╡\n",
       "│ RS               ┆ XK              ┆ 40588 │\n",
       "│ DK               ┆ GL              ┆ 20248 │\n",
       "│ TR               ┆ SY              ┆ 12581 │\n",
       "│ RS               ┆ ME              ┆ 11041 │\n",
       "│ CZ               ┆ UA              ┆ 10945 │\n",
       "│ NO               ┆ SE              ┆ 10889 │\n",
       "│ NO               ┆ US              ┆ 10405 │\n",
       "│ AT               ┆ DE              ┆ 10322 │\n",
       "│ UA               ┆ RU              ┆ 8781  │\n",
       "│ SE               ┆ RU              ┆ 8726  │\n",
       "│ …                ┆ …               ┆ …     │\n",
       "│ LV               ┆ GA              ┆ 1     │\n",
       "│ no               ┆ MC              ┆ 1     │\n",
       "│ FI               ┆ BJ              ┆ 1     │\n",
       "│ NO               ┆ DM              ┆ 1     │\n",
       "│ UA               ┆ BH              ┆ 1     │\n",
       "│ IS               ┆ GY              ┆ 1     │\n",
       "│ BG               ┆ PW              ┆ 1     │\n",
       "│ GR               ┆ GG              ┆ 1     │\n",
       "│ ES               ┆ GU              ┆ 1     │\n",
       "│ BA               ┆ BS              ┆ 1     │\n",
       "└──────────────────┴─────────────────┴───────┘"
      ]
     },
     "execution_count": 83,
     "metadata": {},
     "output_type": "execute_result"
    }
   ],
   "source": [
    "df.group_by(\"ReferringCountry\", \"ReferredCountry\").len().sort(\"len\", descending=True)"
   ]
  },
  {
   "cell_type": "code",
   "execution_count": 84,
   "id": "73262d95",
   "metadata": {},
   "outputs": [
    {
     "data": {
      "text/html": [
       "<div><style>\n",
       ".dataframe > thead > tr,\n",
       ".dataframe > tbody > tr {\n",
       "  text-align: right;\n",
       "  white-space: pre-wrap;\n",
       "}\n",
       "</style>\n",
       "<small>shape: (25, 3)</small><table border=\"1\" class=\"dataframe\"><thead><tr><th>ReferringCountry</th><th>ReferredCountry</th><th>len</th></tr><tr><td>str</td><td>str</td><td>u32</td></tr></thead><tbody><tr><td>&quot;CZ&quot;</td><td>&quot;UA&quot;</td><td>10945</td></tr><tr><td>&quot;NL&quot;</td><td>&quot;UA&quot;</td><td>5656</td></tr><tr><td>&quot;SE&quot;</td><td>&quot;UA&quot;</td><td>5303</td></tr><tr><td>&quot;PL&quot;</td><td>&quot;UA&quot;</td><td>4990</td></tr><tr><td>&quot;EE&quot;</td><td>&quot;UA&quot;</td><td>4819</td></tr><tr><td>&quot;DK&quot;</td><td>&quot;UA&quot;</td><td>3492</td></tr><tr><td>&quot;HR&quot;</td><td>&quot;UA&quot;</td><td>2712</td></tr><tr><td>&quot;BE&quot;</td><td>&quot;UA&quot;</td><td>2589</td></tr><tr><td>&quot;HU&quot;</td><td>&quot;UA&quot;</td><td>2504</td></tr><tr><td>&quot;ES&quot;</td><td>&quot;UA&quot;</td><td>2350</td></tr><tr><td>&hellip;</td><td>&hellip;</td><td>&hellip;</td></tr><tr><td>&quot;IT&quot;</td><td>&quot;UA&quot;</td><td>1176</td></tr><tr><td>&quot;IS&quot;</td><td>&quot;UA&quot;</td><td>1105</td></tr><tr><td>&quot;TR&quot;</td><td>&quot;UA&quot;</td><td>1076</td></tr><tr><td>&quot;SI&quot;</td><td>&quot;UA&quot;</td><td>742</td></tr><tr><td>&quot;RS&quot;</td><td>&quot;UA&quot;</td><td>669</td></tr><tr><td>&quot;FI&quot;</td><td>&quot;UA&quot;</td><td>441</td></tr><tr><td>&quot;no&quot;</td><td>&quot;UA&quot;</td><td>420</td></tr><tr><td>&quot;FR&quot;</td><td>&quot;UA&quot;</td><td>365</td></tr><tr><td>&quot;BA&quot;</td><td>&quot;UA&quot;</td><td>284</td></tr><tr><td>&quot;GR&quot;</td><td>&quot;UA&quot;</td><td>156</td></tr></tbody></table></div>"
      ],
      "text/plain": [
       "shape: (25, 3)\n",
       "┌──────────────────┬─────────────────┬───────┐\n",
       "│ ReferringCountry ┆ ReferredCountry ┆ len   │\n",
       "│ ---              ┆ ---             ┆ ---   │\n",
       "│ str              ┆ str             ┆ u32   │\n",
       "╞══════════════════╪═════════════════╪═══════╡\n",
       "│ CZ               ┆ UA              ┆ 10945 │\n",
       "│ NL               ┆ UA              ┆ 5656  │\n",
       "│ SE               ┆ UA              ┆ 5303  │\n",
       "│ PL               ┆ UA              ┆ 4990  │\n",
       "│ EE               ┆ UA              ┆ 4819  │\n",
       "│ DK               ┆ UA              ┆ 3492  │\n",
       "│ HR               ┆ UA              ┆ 2712  │\n",
       "│ BE               ┆ UA              ┆ 2589  │\n",
       "│ HU               ┆ UA              ┆ 2504  │\n",
       "│ ES               ┆ UA              ┆ 2350  │\n",
       "│ …                ┆ …               ┆ …     │\n",
       "│ IT               ┆ UA              ┆ 1176  │\n",
       "│ IS               ┆ UA              ┆ 1105  │\n",
       "│ TR               ┆ UA              ┆ 1076  │\n",
       "│ SI               ┆ UA              ┆ 742   │\n",
       "│ RS               ┆ UA              ┆ 669   │\n",
       "│ FI               ┆ UA              ┆ 441   │\n",
       "│ no               ┆ UA              ┆ 420   │\n",
       "│ FR               ┆ UA              ┆ 365   │\n",
       "│ BA               ┆ UA              ┆ 284   │\n",
       "│ GR               ┆ UA              ┆ 156   │\n",
       "└──────────────────┴─────────────────┴───────┘"
      ]
     },
     "execution_count": 84,
     "metadata": {},
     "output_type": "execute_result"
    }
   ],
   "source": [
    "df.group_by(\"ReferringCountry\", \"ReferredCountry\").len().sort(\"len\", descending=True).filter(pl.col(\"ReferredCountry\") == \"UA\")\n"
   ]
  },
  {
   "cell_type": "code",
   "execution_count": 85,
   "id": "7201401c",
   "metadata": {},
   "outputs": [
    {
     "data": {
      "text/html": [
       "<div><style>\n",
       ".dataframe > thead > tr,\n",
       ".dataframe > tbody > tr {\n",
       "  text-align: right;\n",
       "  white-space: pre-wrap;\n",
       "}\n",
       "</style>\n",
       "<small>shape: (4_626, 5)</small><table border=\"1\" class=\"dataframe\"><thead><tr><th>ReferringCountry</th><th>ReferredCountry</th><th>len</th><th>total</th><th>proportion</th></tr><tr><td>str</td><td>str</td><td>u32</td><td>u32</td><td>f64</td></tr></thead><tbody><tr><td>&quot;GB&quot;</td><td>&quot;LY&quot;</td><td>1883</td><td>4218</td><td>0.44642</td></tr><tr><td>&quot;no&quot;</td><td>&quot;ES&quot;</td><td>5226</td><td>12267</td><td>0.426021</td></tr><tr><td>&quot;RS&quot;</td><td>&quot;XK&quot;</td><td>40588</td><td>124124</td><td>0.326996</td></tr><tr><td>&quot;IS&quot;</td><td>&quot;US&quot;</td><td>6892</td><td>26678</td><td>0.25834</td></tr><tr><td>&quot;UA&quot;</td><td>&quot;RU&quot;</td><td>8781</td><td>38478</td><td>0.228208</td></tr><tr><td>&quot;DK&quot;</td><td>&quot;GL&quot;</td><td>20248</td><td>94485</td><td>0.214299</td></tr><tr><td>&quot;BA&quot;</td><td>&quot;HR&quot;</td><td>2611</td><td>12445</td><td>0.209803</td></tr><tr><td>&quot;FI&quot;</td><td>&quot;SE&quot;</td><td>3468</td><td>21380</td><td>0.162208</td></tr><tr><td>&quot;GB&quot;</td><td>&quot;SS&quot;</td><td>666</td><td>4218</td><td>0.157895</td></tr><tr><td>&quot;BA&quot;</td><td>&quot;RS&quot;</td><td>1935</td><td>12445</td><td>0.155484</td></tr><tr><td>&hellip;</td><td>&hellip;</td><td>&hellip;</td><td>&hellip;</td><td>&hellip;</td></tr><tr><td>&quot;RS&quot;</td><td>&quot;NC&quot;</td><td>1</td><td>124124</td><td>0.000008</td></tr><tr><td>&quot;RS&quot;</td><td>&quot;GU&quot;</td><td>1</td><td>124124</td><td>0.000008</td></tr><tr><td>&quot;RS&quot;</td><td>&quot;MR&quot;</td><td>1</td><td>124124</td><td>0.000008</td></tr><tr><td>&quot;RS&quot;</td><td>&quot;SV&quot;</td><td>1</td><td>124124</td><td>0.000008</td></tr><tr><td>&quot;RS&quot;</td><td>&quot;BZ&quot;</td><td>1</td><td>124124</td><td>0.000008</td></tr><tr><td>&quot;RS&quot;</td><td>&quot;NE&quot;</td><td>1</td><td>124124</td><td>0.000008</td></tr><tr><td>&quot;RS&quot;</td><td>&quot;TO&quot;</td><td>1</td><td>124124</td><td>0.000008</td></tr><tr><td>&quot;RS&quot;</td><td>&quot;KM&quot;</td><td>1</td><td>124124</td><td>0.000008</td></tr><tr><td>&quot;RS&quot;</td><td>&quot;CD&quot;</td><td>1</td><td>124124</td><td>0.000008</td></tr><tr><td>&quot;RS&quot;</td><td>&quot;KI&quot;</td><td>1</td><td>124124</td><td>0.000008</td></tr></tbody></table></div>"
      ],
      "text/plain": [
       "shape: (4_626, 5)\n",
       "┌──────────────────┬─────────────────┬───────┬────────┬────────────┐\n",
       "│ ReferringCountry ┆ ReferredCountry ┆ len   ┆ total  ┆ proportion │\n",
       "│ ---              ┆ ---             ┆ ---   ┆ ---    ┆ ---        │\n",
       "│ str              ┆ str             ┆ u32   ┆ u32    ┆ f64        │\n",
       "╞══════════════════╪═════════════════╪═══════╪════════╪════════════╡\n",
       "│ GB               ┆ LY              ┆ 1883  ┆ 4218   ┆ 0.44642    │\n",
       "│ no               ┆ ES              ┆ 5226  ┆ 12267  ┆ 0.426021   │\n",
       "│ RS               ┆ XK              ┆ 40588 ┆ 124124 ┆ 0.326996   │\n",
       "│ IS               ┆ US              ┆ 6892  ┆ 26678  ┆ 0.25834    │\n",
       "│ UA               ┆ RU              ┆ 8781  ┆ 38478  ┆ 0.228208   │\n",
       "│ DK               ┆ GL              ┆ 20248 ┆ 94485  ┆ 0.214299   │\n",
       "│ BA               ┆ HR              ┆ 2611  ┆ 12445  ┆ 0.209803   │\n",
       "│ FI               ┆ SE              ┆ 3468  ┆ 21380  ┆ 0.162208   │\n",
       "│ GB               ┆ SS              ┆ 666   ┆ 4218   ┆ 0.157895   │\n",
       "│ BA               ┆ RS              ┆ 1935  ┆ 12445  ┆ 0.155484   │\n",
       "│ …                ┆ …               ┆ …     ┆ …      ┆ …          │\n",
       "│ RS               ┆ NC              ┆ 1     ┆ 124124 ┆ 0.000008   │\n",
       "│ RS               ┆ GU              ┆ 1     ┆ 124124 ┆ 0.000008   │\n",
       "│ RS               ┆ MR              ┆ 1     ┆ 124124 ┆ 0.000008   │\n",
       "│ RS               ┆ SV              ┆ 1     ┆ 124124 ┆ 0.000008   │\n",
       "│ RS               ┆ BZ              ┆ 1     ┆ 124124 ┆ 0.000008   │\n",
       "│ RS               ┆ NE              ┆ 1     ┆ 124124 ┆ 0.000008   │\n",
       "│ RS               ┆ TO              ┆ 1     ┆ 124124 ┆ 0.000008   │\n",
       "│ RS               ┆ KM              ┆ 1     ┆ 124124 ┆ 0.000008   │\n",
       "│ RS               ┆ CD              ┆ 1     ┆ 124124 ┆ 0.000008   │\n",
       "│ RS               ┆ KI              ┆ 1     ┆ 124124 ┆ 0.000008   │\n",
       "└──────────────────┴─────────────────┴───────┴────────┴────────────┘"
      ]
     },
     "execution_count": 85,
     "metadata": {},
     "output_type": "execute_result"
    }
   ],
   "source": [
    "total_counts = df.group_by(\"ReferringCountry\").len().rename({\"len\": \"total\"})\n",
    "\n",
    "# Step 2: Count pairs and compute proportion\n",
    "result = (\n",
    "    df.group_by(\"ReferringCountry\", \"ReferredCountry\")\n",
    "      .len()\n",
    "      .join(total_counts, on=\"ReferringCountry\")\n",
    "      .with_columns(\n",
    "          (pl.col(\"len\") / pl.col(\"total\")).alias(\"proportion\")\n",
    "      )\n",
    "      .sort(\"proportion\", descending=True)\n",
    ")\n",
    "result"
   ]
  },
  {
   "cell_type": "code",
   "execution_count": 86,
   "id": "013e57a2",
   "metadata": {},
   "outputs": [
    {
     "data": {
      "text/html": [
       "<div><style>\n",
       ".dataframe > thead > tr,\n",
       ".dataframe > tbody > tr {\n",
       "  text-align: right;\n",
       "  white-space: pre-wrap;\n",
       "}\n",
       "</style>\n",
       "<small>shape: (25_784, 4)</small><table border=\"1\" class=\"dataframe\"><thead><tr><th>ReferringCountry</th><th>ReferredCountry</th><th>Party_orientation</th><th>len</th></tr><tr><td>str</td><td>str</td><td>str</td><td>u32</td></tr></thead><tbody><tr><td>&quot;RS&quot;</td><td>&quot;XK&quot;</td><td>&quot;Far-right&quot;</td><td>12603</td></tr><tr><td>&quot;RS&quot;</td><td>&quot;XK&quot;</td><td>&quot;Centre-left&quot;</td><td>8144</td></tr><tr><td>&quot;DK&quot;</td><td>&quot;GL&quot;</td><td>&quot;Left&quot;</td><td>5941</td></tr><tr><td>&quot;RS&quot;</td><td>&quot;XK&quot;</td><td>&quot;Big tent&quot;</td><td>5764</td></tr><tr><td>&quot;RS&quot;</td><td>&quot;XK&quot;</td><td>&quot;Right&quot;</td><td>5209</td></tr><tr><td>&quot;RS&quot;</td><td>&quot;XK&quot;</td><td>&quot;-&quot;</td><td>4069</td></tr><tr><td>&quot;DK&quot;</td><td>&quot;GL&quot;</td><td>&quot;Centre-right&quot;</td><td>3910</td></tr><tr><td>&quot;DK&quot;</td><td>&quot;GL&quot;</td><td>&quot;Centre-left&quot;</td><td>3902</td></tr><tr><td>&quot;TR&quot;</td><td>&quot;SY&quot;</td><td>&quot;Centre-left&quot;</td><td>3781</td></tr><tr><td>&quot;RS&quot;</td><td>&quot;ME&quot;</td><td>&quot;Far-right&quot;</td><td>3613</td></tr><tr><td>&hellip;</td><td>&hellip;</td><td>&hellip;</td><td>&hellip;</td></tr><tr><td>&quot;no&quot;</td><td>&quot;PH&quot;</td><td>&quot;Left&quot;</td><td>1</td></tr><tr><td>&quot;IS&quot;</td><td>&quot;MH&quot;</td><td>&quot;Pirate Party&quot;</td><td>1</td></tr><tr><td>&quot;HR&quot;</td><td>&quot;AZ&quot;</td><td>&quot;Centre to centre-right&quot;</td><td>1</td></tr><tr><td>&quot;UA&quot;</td><td>&quot;XK&quot;</td><td>&quot;Centre to centre-right&quot;</td><td>1</td></tr><tr><td>&quot;TR&quot;</td><td>&quot;FR&quot;</td><td>&quot;-&quot;</td><td>1</td></tr><tr><td>&quot;HR&quot;</td><td>&quot;ZA&quot;</td><td>&quot;Centre&quot;</td><td>1</td></tr><tr><td>&quot;HR&quot;</td><td>&quot;ET&quot;</td><td>&quot;Centre-left&quot;</td><td>1</td></tr><tr><td>&quot;NL&quot;</td><td>&quot;TD&quot;</td><td>&quot;Left&quot;</td><td>1</td></tr><tr><td>&quot;ES&quot;</td><td>&quot;ID&quot;</td><td>&quot;Left to far-left&quot;</td><td>1</td></tr><tr><td>&quot;PT&quot;</td><td>&quot;GM&quot;</td><td>&quot;Centre-right to right&quot;</td><td>1</td></tr></tbody></table></div>"
      ],
      "text/plain": [
       "shape: (25_784, 4)\n",
       "┌──────────────────┬─────────────────┬────────────────────────┬───────┐\n",
       "│ ReferringCountry ┆ ReferredCountry ┆ Party_orientation      ┆ len   │\n",
       "│ ---              ┆ ---             ┆ ---                    ┆ ---   │\n",
       "│ str              ┆ str             ┆ str                    ┆ u32   │\n",
       "╞══════════════════╪═════════════════╪════════════════════════╪═══════╡\n",
       "│ RS               ┆ XK              ┆ Far-right              ┆ 12603 │\n",
       "│ RS               ┆ XK              ┆ Centre-left            ┆ 8144  │\n",
       "│ DK               ┆ GL              ┆ Left                   ┆ 5941  │\n",
       "│ RS               ┆ XK              ┆ Big tent               ┆ 5764  │\n",
       "│ RS               ┆ XK              ┆ Right                  ┆ 5209  │\n",
       "│ RS               ┆ XK              ┆ -                      ┆ 4069  │\n",
       "│ DK               ┆ GL              ┆ Centre-right           ┆ 3910  │\n",
       "│ DK               ┆ GL              ┆ Centre-left            ┆ 3902  │\n",
       "│ TR               ┆ SY              ┆ Centre-left            ┆ 3781  │\n",
       "│ RS               ┆ ME              ┆ Far-right              ┆ 3613  │\n",
       "│ …                ┆ …               ┆ …                      ┆ …     │\n",
       "│ no               ┆ PH              ┆ Left                   ┆ 1     │\n",
       "│ IS               ┆ MH              ┆ Pirate Party           ┆ 1     │\n",
       "│ HR               ┆ AZ              ┆ Centre to centre-right ┆ 1     │\n",
       "│ UA               ┆ XK              ┆ Centre to centre-right ┆ 1     │\n",
       "│ TR               ┆ FR              ┆ -                      ┆ 1     │\n",
       "│ HR               ┆ ZA              ┆ Centre                 ┆ 1     │\n",
       "│ HR               ┆ ET              ┆ Centre-left            ┆ 1     │\n",
       "│ NL               ┆ TD              ┆ Left                   ┆ 1     │\n",
       "│ ES               ┆ ID              ┆ Left to far-left       ┆ 1     │\n",
       "│ PT               ┆ GM              ┆ Centre-right to right  ┆ 1     │\n",
       "└──────────────────┴─────────────────┴────────────────────────┴───────┘"
      ]
     },
     "execution_count": 86,
     "metadata": {},
     "output_type": "execute_result"
    }
   ],
   "source": [
    "df.group_by(\"ReferringCountry\", \"ReferredCountry\", \"Party_orientation\").len().sort(\"len\", descending=True)\n"
   ]
  },
  {
   "cell_type": "code",
   "execution_count": 87,
   "id": "d20fa574",
   "metadata": {},
   "outputs": [],
   "source": [
    "with open(\"restcountries_all.json\", encoding=\"utf-8\") as f:\n",
    "    cntry_data = json.load(f)\n",
    "\n",
    "def cca2ToGeo(ca):\n",
    "    for country in cntry_data:\n",
    "        if country[\"cca2\"] == ca:\n",
    "            return country[\"latlng\"]\n",
    "    return None"
   ]
  },
  {
   "cell_type": "code",
   "execution_count": 88,
   "id": "a3fe08f1",
   "metadata": {},
   "outputs": [],
   "source": [
    "df_geo = result.with_columns([\n",
    "    pl.col(\"ReferringCountry\").map_elements(cca2ToGeo, return_dtype=pl.List(pl.Float64)).alias(\"ReferringCountryGeo\"),\n",
    "    pl.col(\"ReferredCountry\").map_elements(cca2ToGeo, return_dtype=pl.List(pl.Float64)).alias(\"ReferredCountryGeo\")\n",
    "])\n"
   ]
  },
  {
   "cell_type": "code",
   "execution_count": 89,
   "id": "68eb5f0e",
   "metadata": {},
   "outputs": [
    {
     "data": {
      "text/plain": [
       "'\\nimport folium\\ndf_geo_FI = df_geo.filter(pl.col(\"ReferringCountry\") == \"FI\").to_pandas()\\ndf_geo_FI[\"geometry\"] =df_geo_FI.apply(\\n    lambda row: LineString([row[\"ReferringCountryGeo\"].reverse(), row[\"ReferredCountryGeo\"].reverse()]),\\n    axis=1\\n)\\ngeo_df = gpd.GeoDataFrame(df_geo_FI, geometry=\\'geometry\\', crs=\"EPSG:4326\")\\n# Get center of your data for map start\\ngeo_df.explore()\\n'"
      ]
     },
     "execution_count": 89,
     "metadata": {},
     "output_type": "execute_result"
    }
   ],
   "source": [
    "\"\"\"\n",
    "import folium\n",
    "df_geo_FI = df_geo.filter(pl.col(\"ReferringCountry\") == \"FI\").to_pandas()\n",
    "df_geo_FI[\"geometry\"] =df_geo_FI.apply(\n",
    "    lambda row: LineString([row[\"ReferringCountryGeo\"].reverse(), row[\"ReferredCountryGeo\"].reverse()]),\n",
    "    axis=1\n",
    ")\n",
    "geo_df = gpd.GeoDataFrame(df_geo_FI, geometry='geometry', crs=\"EPSG:4326\")\n",
    "# Get center of your data for map start\n",
    "geo_df.explore()\n",
    "\"\"\""
   ]
  }
 ],
 "metadata": {
  "kernelspec": {
   "display_name": "Python 3",
   "language": "python",
   "name": "python3"
  },
  "language_info": {
   "codemirror_mode": {
    "name": "ipython",
    "version": 3
   },
   "file_extension": ".py",
   "mimetype": "text/x-python",
   "name": "python",
   "nbconvert_exporter": "python",
   "pygments_lexer": "ipython3",
   "version": "3.12.9"
  }
 },
 "nbformat": 4,
 "nbformat_minor": 5
}
