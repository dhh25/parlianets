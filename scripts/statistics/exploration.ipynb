{
 "cells": [
  {
   "cell_type": "code",
   "execution_count": 23,
   "id": "b8ccfcef",
   "metadata": {},
   "outputs": [
    {
     "data": {
      "text/plain": [
       "polars.config.Config"
      ]
     },
     "execution_count": 23,
     "metadata": {},
     "output_type": "execute_result"
    }
   ],
   "source": [
    "# imports\n",
    "import polars as pl\n",
    "import polars.selectors as cs\n",
    "import os\n",
    "from statistics_utils import ne2cc, build_country_code_dicts\n",
    "import plotly.express as px\n",
    "import json\n",
    "import plotly.graph_objects as go\n",
    "import pandas\n",
    "import altair as alt\n",
    "import geopandas as gpd\n",
    "#import contextily as cx\n",
    "from shapely.geometry import Point, LineString, Polygon\n",
    "pl.Config.set_tbl_rows(20)"
   ]
  },
  {
   "cell_type": "code",
   "execution_count": 24,
   "id": "8158bce1",
   "metadata": {},
   "outputs": [
    {
     "name": "stdout",
     "output_type": "stream",
     "text": [
      "shape: (1_818_766, 25)\n",
      "┌───────────┬───────────┬───────────┬──────────┬───┬───────────┬───────────┬───────────┬───────────┐\n",
      "│ text_id   ┆ name_type ┆ position  ┆ entity   ┆ … ┆ Speaker_b ┆ target_co ┆ source_co ┆ Referring │\n",
      "│ ---       ┆ ---       ┆ ---       ┆ ---      ┆   ┆ irth      ┆ untry     ┆ untry     ┆ Country   │\n",
      "│ str       ┆ str       ┆ str       ┆ str      ┆   ┆ ---       ┆ ---       ┆ ---       ┆ ---       │\n",
      "│           ┆           ┆           ┆          ┆   ┆ str       ┆ str       ┆ str       ┆ str       │\n",
      "╞═══════════╪═══════════╪═══════════╪══════════╪═══╪═══════════╪═══════════╪═══════════╪═══════════╡\n",
      "│ ParlaMint ┆ LOC       ┆ ParlaMint ┆ europe   ┆ … ┆ null      ┆ europe    ┆ PT        ┆ PT        │\n",
      "│ -PT_2015- ┆           ┆ -PT_2015- ┆          ┆   ┆           ┆           ┆           ┆           │\n",
      "│ 03-20.u83 ┆           ┆ 03-20.seg ┆          ┆   ┆           ┆           ┆           ┆           │\n",
      "│           ┆           ┆ 287…      ┆          ┆   ┆           ┆           ┆           ┆           │\n",
      "│ ParlaMint ┆ LOC       ┆ ParlaMint ┆ ukraine  ┆ … ┆ null      ┆ UA        ┆ PT        ┆ PT        │\n",
      "│ -PT_2015- ┆           ┆ -PT_2015- ┆          ┆   ┆           ┆           ┆           ┆           │\n",
      "│ 03-20.u20 ┆           ┆ 03-20.seg ┆          ┆   ┆           ┆           ┆           ┆           │\n",
      "│ 4         ┆           ┆ 618…      ┆          ┆   ┆           ┆           ┆           ┆           │\n",
      "│ ParlaMint ┆ LOC       ┆ ParlaMint ┆ tunisia  ┆ … ┆ null      ┆ TN        ┆ PT        ┆ PT        │\n",
      "│ -PT_2015- ┆           ┆ -PT_2015- ┆          ┆   ┆           ┆           ┆           ┆           │\n",
      "│ 03-20.u21 ┆           ┆ 03-20.seg ┆          ┆   ┆           ┆           ┆           ┆           │\n",
      "│ 0         ┆           ┆ 631…      ┆          ┆   ┆           ┆           ┆           ┆           │\n",
      "│ ParlaMint ┆ LOC       ┆ ParlaMint ┆ tunisia  ┆ … ┆ null      ┆ TN        ┆ PT        ┆ PT        │\n",
      "│ -PT_2015- ┆           ┆ -PT_2015- ┆          ┆   ┆           ┆           ┆           ┆           │\n",
      "│ 03-20.u21 ┆           ┆ 03-20.seg ┆          ┆   ┆           ┆           ┆           ┆           │\n",
      "│ 1         ┆           ┆ 634…      ┆          ┆   ┆           ┆           ┆           ┆           │\n",
      "│ ParlaMint ┆ LOC       ┆ ParlaMint ┆ tunisia  ┆ … ┆ null      ┆ TN        ┆ PT        ┆ PT        │\n",
      "│ -PT_2015- ┆           ┆ -PT_2015- ┆          ┆   ┆           ┆           ┆           ┆           │\n",
      "│ 03-20.u21 ┆           ┆ 03-20.seg ┆          ┆   ┆           ┆           ┆           ┆           │\n",
      "│ 1         ┆           ┆ 636…      ┆          ┆   ┆           ┆           ┆           ┆           │\n",
      "│ ParlaMint ┆ LOC       ┆ ParlaMint ┆ ukraine  ┆ … ┆ null      ┆ UA        ┆ PT        ┆ PT        │\n",
      "│ -PT_2015- ┆           ┆ -PT_2015- ┆          ┆   ┆           ┆           ┆           ┆           │\n",
      "│ 03-20.u22 ┆           ┆ 03-20.seg ┆          ┆   ┆           ┆           ┆           ┆           │\n",
      "│ 3         ┆           ┆ 702…      ┆          ┆   ┆           ┆           ┆           ┆           │\n",
      "│ ParlaMint ┆ LOC       ┆ ParlaMint ┆ europe   ┆ … ┆ 1977      ┆ europe    ┆ PT        ┆ PT        │\n",
      "│ -PT_2015- ┆           ┆ -PT_2015- ┆          ┆   ┆           ┆           ┆           ┆           │\n",
      "│ 11-09.u44 ┆           ┆ 11-09.seg ┆          ┆   ┆           ┆           ┆           ┆           │\n",
      "│           ┆           ┆ 142…      ┆          ┆   ┆           ┆           ┆           ┆           │\n",
      "│ ParlaMint ┆ LOC       ┆ ParlaMint ┆ europe   ┆ … ┆ 1977      ┆ europe    ┆ PT        ┆ PT        │\n",
      "│ -PT_2015- ┆           ┆ -PT_2015- ┆          ┆   ┆           ┆           ┆           ┆           │\n",
      "│ 11-09.u44 ┆           ┆ 11-09.seg ┆          ┆   ┆           ┆           ┆           ┆           │\n",
      "│           ┆           ┆ 142…      ┆          ┆   ┆           ┆           ┆           ┆           │\n",
      "│ ParlaMint ┆ LOC       ┆ ParlaMint ┆ europe   ┆ … ┆ 1977      ┆ europe    ┆ PT        ┆ PT        │\n",
      "│ -PT_2015- ┆           ┆ -PT_2015- ┆          ┆   ┆           ┆           ┆           ┆           │\n",
      "│ 11-09.u44 ┆           ┆ 11-09.seg ┆          ┆   ┆           ┆           ┆           ┆           │\n",
      "│           ┆           ┆ 142…      ┆          ┆   ┆           ┆           ┆           ┆           │\n",
      "│ ParlaMint ┆ LOC       ┆ ParlaMint ┆ europe   ┆ … ┆ 1964      ┆ europe    ┆ PT        ┆ PT        │\n",
      "│ -PT_2015- ┆           ┆ -PT_2015- ┆          ┆   ┆           ┆           ┆           ┆           │\n",
      "│ 11-09.u48 ┆           ┆ 11-09.seg ┆          ┆   ┆           ┆           ┆           ┆           │\n",
      "│           ┆           ┆ 163…      ┆          ┆   ┆           ┆           ┆           ┆           │\n",
      "│ …         ┆ …         ┆ …         ┆ …        ┆ … ┆ …         ┆ …         ┆ …         ┆ …         │\n",
      "│ u2023-04- ┆ LOC       ┆ ParlaMint ┆ ukraine  ┆ … ┆ 1973      ┆ UA        ┆ HU        ┆ HU        │\n",
      "│ 17-185    ┆           ┆ -HU_2023- ┆          ┆   ┆           ┆           ┆           ┆           │\n",
      "│           ┆           ┆ 04-17.seg ┆          ┆   ┆           ┆           ┆           ┆           │\n",
      "│           ┆           ┆ 576…      ┆          ┆   ┆           ┆           ┆           ┆           │\n",
      "│ u2023-04- ┆ LOC       ┆ ParlaMint ┆ ukraine  ┆ … ┆ 1973      ┆ UA        ┆ HU        ┆ HU        │\n",
      "│ 17-185    ┆           ┆ -HU_2023- ┆          ┆   ┆           ┆           ┆           ┆           │\n",
      "│           ┆           ┆ 04-17.seg ┆          ┆   ┆           ┆           ┆           ┆           │\n",
      "│           ┆           ┆ 576…      ┆          ┆   ┆           ┆           ┆           ┆           │\n",
      "│ u2023-04- ┆ LOC       ┆ ParlaMint ┆ spain    ┆ … ┆ 1973      ┆ ES        ┆ HU        ┆ HU        │\n",
      "│ 17-185    ┆           ┆ -HU_2023- ┆          ┆   ┆           ┆           ┆           ┆           │\n",
      "│           ┆           ┆ 04-17.seg ┆          ┆   ┆           ┆           ┆           ┆           │\n",
      "│           ┆           ┆ 576…      ┆          ┆   ┆           ┆           ┆           ┆           │\n",
      "│ u2023-04- ┆ LOC       ┆ ParlaMint ┆ china    ┆ … ┆ 1973      ┆ CN        ┆ HU        ┆ HU        │\n",
      "│ 17-185    ┆           ┆ -HU_2023- ┆          ┆   ┆           ┆           ┆           ┆           │\n",
      "│           ┆           ┆ 04-17.seg ┆          ┆   ┆           ┆           ┆           ┆           │\n",
      "│           ┆           ┆ 576…      ┆          ┆   ┆           ┆           ┆           ┆           │\n",
      "│ u2023-04- ┆ LOC       ┆ ParlaMint ┆ portugal ┆ … ┆ 1979      ┆ PT        ┆ HU        ┆ HU        │\n",
      "│ 17-187    ┆           ┆ -HU_2023- ┆          ┆   ┆           ┆           ┆           ┆           │\n",
      "│           ┆           ┆ 04-17.seg ┆          ┆   ┆           ┆           ┆           ┆           │\n",
      "│           ┆           ┆ 582…      ┆          ┆   ┆           ┆           ┆           ┆           │\n",
      "│ u2023-04- ┆ LOC       ┆ ParlaMint ┆ spain    ┆ … ┆ 1979      ┆ ES        ┆ HU        ┆ HU        │\n",
      "│ 17-187    ┆           ┆ -HU_2023- ┆          ┆   ┆           ┆           ┆           ┆           │\n",
      "│           ┆           ┆ 04-17.seg ┆          ┆   ┆           ┆           ┆           ┆           │\n",
      "│           ┆           ┆ 582…      ┆          ┆   ┆           ┆           ┆           ┆           │\n",
      "│ u2023-04- ┆ LOC       ┆ ParlaMint ┆ france   ┆ … ┆ 1979      ┆ FR        ┆ HU        ┆ HU        │\n",
      "│ 17-187    ┆           ┆ -HU_2023- ┆          ┆   ┆           ┆           ┆           ┆           │\n",
      "│           ┆           ┆ 04-17.seg ┆          ┆   ┆           ┆           ┆           ┆           │\n",
      "│           ┆           ┆ 582…      ┆          ┆   ┆           ┆           ┆           ┆           │\n",
      "│ u2023-04- ┆ LOC       ┆ ParlaMint ┆ mexico   ┆ … ┆ 1980      ┆ MX        ┆ HU        ┆ HU        │\n",
      "│ 17-191    ┆           ┆ -HU_2023- ┆          ┆   ┆           ┆           ┆           ┆           │\n",
      "│           ┆           ┆ 04-17.seg ┆          ┆   ┆           ┆           ┆           ┆           │\n",
      "│           ┆           ┆ 599…      ┆          ┆   ┆           ┆           ┆           ┆           │\n",
      "│ u2023-04- ┆ LOC       ┆ ParlaMint ┆ vietnam  ┆ … ┆ 1980      ┆ VN        ┆ HU        ┆ HU        │\n",
      "│ 17-191    ┆           ┆ -HU_2023- ┆          ┆   ┆           ┆           ┆           ┆           │\n",
      "│           ┆           ┆ 04-17.seg ┆          ┆   ┆           ┆           ┆           ┆           │\n",
      "│           ┆           ┆ 599…      ┆          ┆   ┆           ┆           ┆           ┆           │\n",
      "│ u2023-04- ┆ LOC       ┆ ParlaMint ┆ europe   ┆ … ┆ 1982      ┆ europe    ┆ HU        ┆ HU        │\n",
      "│ 17-195    ┆           ┆ -HU_2023- ┆          ┆   ┆           ┆           ┆           ┆           │\n",
      "│           ┆           ┆ 04-17.seg ┆          ┆   ┆           ┆           ┆           ┆           │\n",
      "│           ┆           ┆ 619…      ┆          ┆   ┆           ┆           ┆           ┆           │\n",
      "└───────────┴───────────┴───────────┴──────────┴───┴───────────┴───────────┴───────────┴───────────┘\n"
     ]
    }
   ],
   "source": [
    "def load_and_concat_parquet_files(path):\n",
    "    dfs = []\n",
    "    for file in os.listdir(path):\n",
    "        file_path = os.path.join(path, file)\n",
    "        if file_path.endswith('.parquet'):\n",
    "            dfs.append(convert_types(pl.read_parquet(file_path).with_columns([pl.lit(file[0:2]).alias(\"ReferringCountry\")])))\n",
    "    if not dfs:\n",
    "        return pl.DataFrame()\n",
    "    combined_df = dfs[0]\n",
    "    for df in dfs[1:]:\n",
    "        combined_df = pl.concat([combined_df,df], how=\"diagonal\")\n",
    "    return combined_df\n",
    "\n",
    "def convert_types(df):\n",
    "    for col in df.columns:\n",
    "        if df[col].dtype != pl.String:\n",
    "            df = df.with_columns(df[col].cast(pl.String))\n",
    "    return df\n",
    "\n",
    "path = \"/home/simon/parliamint/ParlaMint_edgelists\"\n",
    "df = load_and_concat_parquet_files(path)\n",
    "#df = df.drop(\"[0.002s][warning][perf,memops] Cannot use file /tmp/hsperfdata_kopp/3612625 because it is locked by another process (errno = 11)\")\n",
    "\n",
    "df = df.with_columns(\n",
    "    pl.col(\"Date\").str.strptime(pl.Date, \"%Y-%m-%d\")\n",
    ")\n",
    "print(df)"
   ]
  },
  {
   "cell_type": "code",
   "execution_count": 25,
   "id": "59015a28",
   "metadata": {},
   "outputs": [
    {
     "name": "stdout",
     "output_type": "stream",
     "text": [
      "shape: (270, 2)\n",
      "┌────────────────────┬────────┐\n",
      "│ entity             ┆ len    │\n",
      "│ ---                ┆ ---    │\n",
      "│ str                ┆ u32    │\n",
      "╞════════════════════╪════════╡\n",
      "│ europe             ┆ 337559 │\n",
      "│ germany            ┆ 84267  │\n",
      "│ russia             ┆ 81258  │\n",
      "│ united states      ┆ 75534  │\n",
      "│ ukraine            ┆ 60249  │\n",
      "│ kosovo             ┆ 48416  │\n",
      "│ france             ┆ 44566  │\n",
      "│ spain              ┆ 40984  │\n",
      "│ syria              ┆ 39111  │\n",
      "│ china              ┆ 37667  │\n",
      "│ …                  ┆ …      │\n",
      "│ brunei darussalam  ┆ 3      │\n",
      "│ west america       ┆ 2      │\n",
      "│ south west asia    ┆ 2      │\n",
      "│ east australia     ┆ 2      │\n",
      "│ türkiye            ┆ 1      │\n",
      "│ south west africa  ┆ 1      │\n",
      "│ northern australia ┆ 1      │\n",
      "│ north east africa  ┆ 1      │\n",
      "│ southern asia      ┆ 1      │\n",
      "│ norfolk island     ┆ 1      │\n",
      "└────────────────────┴────────┘\n"
     ]
    }
   ],
   "source": [
    "print(df.group_by(\"entity\").len().sort(\"len\", descending=True).filter())"
   ]
  },
  {
   "cell_type": "code",
   "execution_count": 26,
   "id": "4e358c9a",
   "metadata": {},
   "outputs": [],
   "source": [
    "dicts = build_country_code_dicts()\n",
    "def ne2cc_s(x):\n",
    "    return ne2cc(x, dicts[0], dicts[1])\n"
   ]
  },
  {
   "cell_type": "markdown",
   "id": "192b50b4",
   "metadata": {},
   "source": [
    "# Neighbor investigation (Simon)\n",
    "\n",
    "neighbor json file was created in `border_finder_new.py` using data from the restcountries file"
   ]
  },
  {
   "cell_type": "code",
   "execution_count": 27,
   "id": "74a01bf3",
   "metadata": {},
   "outputs": [
    {
     "name": "stdout",
     "output_type": "stream",
     "text": [
      "shape: (26, 3)\n",
      "┌────────────────┬───────────────┬───────────────────┐\n",
      "│ source_country ┆ neighbors_rel ┆ non_neighbors_rel │\n",
      "│ ---            ┆ ---           ┆ ---               │\n",
      "│ str            ┆ f64           ┆ f64               │\n",
      "╞════════════════╪═══════════════╪═══════════════════╡\n",
      "│ PT             ┆ 6.45          ┆ 93.55             │\n",
      "│ RS             ┆ 45.32         ┆ 54.68             │\n",
      "│ CZ             ┆ 19.8          ┆ 80.2              │\n",
      "│ IS             ┆ 0.0           ┆ 100.0             │\n",
      "│ GR             ┆ 4.14          ┆ 95.86             │\n",
      "│ ES             ┆ 8.1           ┆ 91.9              │\n",
      "│ BE             ┆ 21.1          ┆ 78.9              │\n",
      "│ LV             ┆ 32.61         ┆ 67.39             │\n",
      "│ GB             ┆ 0.0           ┆ 100.0             │\n",
      "│ BG             ┆ 12.83         ┆ 87.17             │\n",
      "│ …              ┆ …             ┆ …                 │\n",
      "│ TR             ┆ 28.14         ┆ 71.86             │\n",
      "│ FI             ┆ 22.18         ┆ 77.82             │\n",
      "│ FR             ┆ 14.73         ┆ 85.27             │\n",
      "│ HR             ┆ 17.6          ┆ 82.4              │\n",
      "│ UA             ┆ 31.43         ┆ 68.57             │\n",
      "│ SI             ┆ 27.31         ┆ 72.69             │\n",
      "│ NL             ┆ 8.37          ┆ 91.63             │\n",
      "│ SE             ┆ 8.16          ┆ 91.84             │\n",
      "│ EE             ┆ 17.91         ┆ 82.09             │\n",
      "│ HU             ┆ 18.62         ┆ 81.38             │\n",
      "└────────────────┴───────────────┴───────────────────┘\n"
     ]
    },
    {
     "name": "stderr",
     "output_type": "stream",
     "text": [
      "/tmp/ipykernel_114858/2846191023.py:21: DeprecationWarning: `pl.count()` is deprecated. Please use `pl.len()` instead.\n",
      "  (pl.sum(\"is_neighbor\") / pl.count() * 100).round(2).alias(\"neighbors_rel\"),\n",
      "/tmp/ipykernel_114858/2846191023.py:22: DeprecationWarning: `pl.count()` is deprecated. Please use `pl.len()` instead.\n",
      "  (((pl.count() - pl.sum(\"is_neighbor\")) / pl.count()) * 100)\n"
     ]
    }
   ],
   "source": [
    "with open(\"/home/simon/parlianets/neighbors_iso2.json\", \"r\") as f:\n",
    "    neighbors_map = json.load(f)\n",
    "\n",
    "dfbak = df\n",
    "# 1) convert to pandas\n",
    "pdf = df.to_pandas()\n",
    "\n",
    "# 2) row-wise apply\n",
    "pdf[\"is_neighbor\"] = pdf.apply(\n",
    "    lambda r: r.target_country in neighbors_map.get(r.source_country, []),\n",
    "    axis=1\n",
    ")\n",
    "\n",
    "# 3) back to Polars (if you still want Polars for grouping)\n",
    "df2 = pl.from_pandas(pdf)\n",
    "\n",
    "result = (\n",
    "    df2\n",
    "    .group_by(\"source_country\", maintain_order=True)\n",
    "    .agg([\n",
    "      (pl.sum(\"is_neighbor\") / pl.count() * 100).round(2).alias(\"neighbors_rel\"),\n",
    "      (((pl.count() - pl.sum(\"is_neighbor\")) / pl.count()) * 100)\n",
    "        .round(2).alias(\"non_neighbors_rel\")\n",
    "    ])\n",
    ")\n",
    "\n",
    "print(result)"
   ]
  },
  {
   "cell_type": "code",
   "execution_count": 28,
   "id": "abe57b32",
   "metadata": {},
   "outputs": [
    {
     "data": {
      "image/png": "[encoded data removed]",
      "text/plain": [
       "<Figure size 1000x600 with 1 Axes>"
      ]
     },
     "metadata": {},
     "output_type": "display_data"
    },
    {
     "data": {
      "image/png": "[encoded data removed]",
      "text/plain": [
       "<Figure size 600x500 with 1 Axes>"
      ]
     },
     "metadata": {},
     "output_type": "display_data"
    }
   ],
   "source": [
    "import polars as pl\n",
    "import matplotlib.pyplot as plt\n",
    "\n",
    "# assume `df` is your Polars DataFrame\n",
    "\n",
    "# Extract data as Python lists\n",
    "df = result\n",
    "countries       = df['source_country'].to_list()\n",
    "neighbors       = df['neighbors_rel'].to_list()\n",
    "non_neighbors   = df['non_neighbors_rel'].to_list()\n",
    "\n",
    "# 1) Stacked bar chart\n",
    "fig, ax = plt.subplots(figsize=(10, 6))\n",
    "ax.bar(countries, neighbors,       label='Neighbors')\n",
    "ax.bar(countries, non_neighbors,   bottom=neighbors, label='Non-Neighbors')\n",
    "\n",
    "ax.set_xlabel('Country')\n",
    "ax.set_ylabel('Relative Value (%)')\n",
    "ax.set_title('Neighbors vs. Non-Neighbors by Country')\n",
    "ax.legend()\n",
    "plt.xticks(rotation=45, ha='right')\n",
    "plt.tight_layout()\n",
    "plt.show()\n",
    "\n",
    "\n",
    "# 2) Mean ± SD across all countries\n",
    "# compute via Polars\n",
    "stats = df.select([\n",
    "    pl.col('neighbors_rel').mean().alias('μ_neighbors'),\n",
    "    pl.col('neighbors_rel').std(ddof=1).alias('σ_neighbors'),\n",
    "    pl.col('non_neighbors_rel').mean().alias('μ_non_neighbors'),\n",
    "    pl.col('non_neighbors_rel').std(ddof=1).alias('σ_non_neighbors'),\n",
    "])\n",
    "\n",
    "# pull out as floats\n",
    "μ_n  = stats['μ_neighbors'][0]\n",
    "σ_n  = stats['σ_neighbors'][0]\n",
    "μ_nn = stats['μ_non_neighbors'][0]\n",
    "σ_nn = stats['σ_non_neighbors'][0]\n",
    "\n",
    "fig, ax = plt.subplots(figsize=(6, 5))\n",
    "labels = ['Neighbors', 'Non-Neighbors']\n",
    "means  = [μ_n, μ_nn]\n",
    "stds   = [σ_n, σ_nn]\n",
    "\n",
    "ax.bar(labels, means, yerr=stds, capsize=5, width=0.6)\n",
    "ax.set_ylabel('Relative Value (%)')\n",
    "ax.set_title('Mean ± SD of Relative Values Across All Countries')\n",
    "plt.tight_layout()\n",
    "plt.show()\n"
   ]
  },
  {
   "cell_type": "code",
   "execution_count": 29,
   "id": "98e18817",
   "metadata": {},
   "outputs": [
    {
     "name": "stdout",
     "output_type": "stream",
     "text": [
      "shape: (52, 2)\n",
      "┌────────────────────┬────────┐\n",
      "│ entity             ┆ count  │\n",
      "│ ---                ┆ ---    │\n",
      "│ str                ┆ u32    │\n",
      "╞════════════════════╪════════╡\n",
      "│ europe             ┆ 337559 │\n",
      "│ eu                 ┆ 23911  │\n",
      "│ america            ┆ 23429  │\n",
      "│ africa             ┆ 18271  │\n",
      "│ asia               ┆ 5775   │\n",
      "│ north africa       ┆ 2814   │\n",
      "│ south america      ┆ 1886   │\n",
      "│ north america      ┆ 1231   │\n",
      "│ west africa        ┆ 635    │\n",
      "│ northern europe    ┆ 620    │\n",
      "│ …                  ┆ …      │\n",
      "│ east america       ┆ 4      │\n",
      "│ brunei darussalam  ┆ 3      │\n",
      "│ east australia     ┆ 2      │\n",
      "│ west america       ┆ 2      │\n",
      "│ south west asia    ┆ 2      │\n",
      "│ south west africa  ┆ 1      │\n",
      "│ southern asia      ┆ 1      │\n",
      "│ north east africa  ┆ 1      │\n",
      "│ northern australia ┆ 1      │\n",
      "│ türkiye            ┆ 1      │\n",
      "└────────────────────┴────────┘\n",
      "shape: (1_375_796, 26)\n",
      "┌───────────┬───────────┬───────────┬───────────┬───┬───────────┬───────────┬───────────┬──────────┐\n",
      "│ text_id   ┆ name_type ┆ position  ┆ entity    ┆ … ┆ target_co ┆ source_co ┆ Referring ┆ Referred │\n",
      "│ ---       ┆ ---       ┆ ---       ┆ ---       ┆   ┆ untry     ┆ untry     ┆ Country   ┆ Country  │\n",
      "│ str       ┆ str       ┆ str       ┆ str       ┆   ┆ ---       ┆ ---       ┆ ---       ┆ ---      │\n",
      "│           ┆           ┆           ┆           ┆   ┆ str       ┆ str       ┆ str       ┆ str      │\n",
      "╞═══════════╪═══════════╪═══════════╪═══════════╪═══╪═══════════╪═══════════╪═══════════╪══════════╡\n",
      "│ ParlaMint ┆ LOC       ┆ ParlaMint ┆ ukraine   ┆ … ┆ UA        ┆ PT        ┆ PT        ┆ UA       │\n",
      "│ -PT_2015- ┆           ┆ -PT_2015- ┆           ┆   ┆           ┆           ┆           ┆          │\n",
      "│ 03-20.u20 ┆           ┆ 03-20.seg ┆           ┆   ┆           ┆           ┆           ┆          │\n",
      "│ 4         ┆           ┆ 618…      ┆           ┆   ┆           ┆           ┆           ┆          │\n",
      "│ ParlaMint ┆ LOC       ┆ ParlaMint ┆ tunisia   ┆ … ┆ TN        ┆ PT        ┆ PT        ┆ TN       │\n",
      "│ -PT_2015- ┆           ┆ -PT_2015- ┆           ┆   ┆           ┆           ┆           ┆          │\n",
      "│ 03-20.u21 ┆           ┆ 03-20.seg ┆           ┆   ┆           ┆           ┆           ┆          │\n",
      "│ 0         ┆           ┆ 631…      ┆           ┆   ┆           ┆           ┆           ┆          │\n",
      "│ ParlaMint ┆ LOC       ┆ ParlaMint ┆ tunisia   ┆ … ┆ TN        ┆ PT        ┆ PT        ┆ TN       │\n",
      "│ -PT_2015- ┆           ┆ -PT_2015- ┆           ┆   ┆           ┆           ┆           ┆          │\n",
      "│ 03-20.u21 ┆           ┆ 03-20.seg ┆           ┆   ┆           ┆           ┆           ┆          │\n",
      "│ 1         ┆           ┆ 634…      ┆           ┆   ┆           ┆           ┆           ┆          │\n",
      "│ ParlaMint ┆ LOC       ┆ ParlaMint ┆ tunisia   ┆ … ┆ TN        ┆ PT        ┆ PT        ┆ TN       │\n",
      "│ -PT_2015- ┆           ┆ -PT_2015- ┆           ┆   ┆           ┆           ┆           ┆          │\n",
      "│ 03-20.u21 ┆           ┆ 03-20.seg ┆           ┆   ┆           ┆           ┆           ┆          │\n",
      "│ 1         ┆           ┆ 636…      ┆           ┆   ┆           ┆           ┆           ┆          │\n",
      "│ ParlaMint ┆ LOC       ┆ ParlaMint ┆ ukraine   ┆ … ┆ UA        ┆ PT        ┆ PT        ┆ UA       │\n",
      "│ -PT_2015- ┆           ┆ -PT_2015- ┆           ┆   ┆           ┆           ┆           ┆          │\n",
      "│ 03-20.u22 ┆           ┆ 03-20.seg ┆           ┆   ┆           ┆           ┆           ┆          │\n",
      "│ 3         ┆           ┆ 702…      ┆           ┆   ┆           ┆           ┆           ┆          │\n",
      "│ ParlaMint ┆ LOC       ┆ ParlaMint ┆ brazil    ┆ … ┆ BR        ┆ PT        ┆ PT        ┆ BR       │\n",
      "│ -PT_2015- ┆           ┆ -PT_2015- ┆           ┆   ┆           ┆           ┆           ┆          │\n",
      "│ 11-09.u19 ┆           ┆ 11-09.seg ┆           ┆   ┆           ┆           ┆           ┆          │\n",
      "│ 5         ┆           ┆ 451…      ┆           ┆   ┆           ┆           ┆           ┆          │\n",
      "│ ParlaMint ┆ LOC       ┆ ParlaMint ┆ north     ┆ … ┆ KP        ┆ PT        ┆ PT        ┆ KP       │\n",
      "│ -PT_2015- ┆           ┆ -PT_2015- ┆ korea     ┆   ┆           ┆           ┆           ┆          │\n",
      "│ 11-09.u22 ┆           ┆ 11-09.seg ┆           ┆   ┆           ┆           ┆           ┆          │\n",
      "│ 4         ┆           ┆ 540…      ┆           ┆   ┆           ┆           ┆           ┆          │\n",
      "│ ParlaMint ┆ LOC       ┆ ParlaMint ┆ cuba      ┆ … ┆ CU        ┆ PT        ┆ PT        ┆ CU       │\n",
      "│ -PT_2015- ┆           ┆ -PT_2015- ┆           ┆   ┆           ┆           ┆           ┆          │\n",
      "│ 11-09.u22 ┆           ┆ 11-09.seg ┆           ┆   ┆           ┆           ┆           ┆          │\n",
      "│ 6         ┆           ┆ 542…      ┆           ┆   ┆           ┆           ┆           ┆          │\n",
      "│ ParlaMint ┆ LOC       ┆ ParlaMint ┆ germany   ┆ … ┆ DE        ┆ PT        ┆ PT        ┆ DE       │\n",
      "│ -PT_2015- ┆           ┆ -PT_2015- ┆           ┆   ┆           ┆           ┆           ┆          │\n",
      "│ 11-09.u23 ┆           ┆ 11-09.seg ┆           ┆   ┆           ┆           ┆           ┆          │\n",
      "│ 2         ┆           ┆ 555…      ┆           ┆   ┆           ┆           ┆           ┆          │\n",
      "│ ParlaMint ┆ LOC       ┆ ParlaMint ┆ angola    ┆ … ┆ AO        ┆ PT        ┆ PT        ┆ AO       │\n",
      "│ -PT_2015- ┆           ┆ -PT_2015- ┆           ┆   ┆           ┆           ┆           ┆          │\n",
      "│ 11-09.u23 ┆           ┆ 11-09.seg ┆           ┆   ┆           ┆           ┆           ┆          │\n",
      "│ 2         ┆           ┆ 555…      ┆           ┆   ┆           ┆           ┆           ┆          │\n",
      "│ …         ┆ …         ┆ …         ┆ …         ┆ … ┆ …         ┆ …         ┆ …         ┆ …        │\n",
      "│ u2023-04- ┆ LOC       ┆ ParlaMint ┆ belgium   ┆ … ┆ BE        ┆ HU        ┆ HU        ┆ BE       │\n",
      "│ 17-177    ┆           ┆ -HU_2023- ┆           ┆   ┆           ┆           ┆           ┆          │\n",
      "│           ┆           ┆ 04-17.seg ┆           ┆   ┆           ┆           ┆           ┆          │\n",
      "│           ┆           ┆ 555…      ┆           ┆   ┆           ┆           ┆           ┆          │\n",
      "│ u2023-04- ┆ LOC       ┆ ParlaMint ┆ ukraine   ┆ … ┆ UA        ┆ HU        ┆ HU        ┆ UA       │\n",
      "│ 17-185    ┆           ┆ -HU_2023- ┆           ┆   ┆           ┆           ┆           ┆          │\n",
      "│           ┆           ┆ 04-17.seg ┆           ┆   ┆           ┆           ┆           ┆          │\n",
      "│           ┆           ┆ 576…      ┆           ┆   ┆           ┆           ┆           ┆          │\n",
      "│ u2023-04- ┆ LOC       ┆ ParlaMint ┆ ukraine   ┆ … ┆ UA        ┆ HU        ┆ HU        ┆ UA       │\n",
      "│ 17-185    ┆           ┆ -HU_2023- ┆           ┆   ┆           ┆           ┆           ┆          │\n",
      "│           ┆           ┆ 04-17.seg ┆           ┆   ┆           ┆           ┆           ┆          │\n",
      "│           ┆           ┆ 576…      ┆           ┆   ┆           ┆           ┆           ┆          │\n",
      "│ u2023-04- ┆ LOC       ┆ ParlaMint ┆ spain     ┆ … ┆ ES        ┆ HU        ┆ HU        ┆ ES       │\n",
      "│ 17-185    ┆           ┆ -HU_2023- ┆           ┆   ┆           ┆           ┆           ┆          │\n",
      "│           ┆           ┆ 04-17.seg ┆           ┆   ┆           ┆           ┆           ┆          │\n",
      "│           ┆           ┆ 576…      ┆           ┆   ┆           ┆           ┆           ┆          │\n",
      "│ u2023-04- ┆ LOC       ┆ ParlaMint ┆ china     ┆ … ┆ CN        ┆ HU        ┆ HU        ┆ CN       │\n",
      "│ 17-185    ┆           ┆ -HU_2023- ┆           ┆   ┆           ┆           ┆           ┆          │\n",
      "│           ┆           ┆ 04-17.seg ┆           ┆   ┆           ┆           ┆           ┆          │\n",
      "│           ┆           ┆ 576…      ┆           ┆   ┆           ┆           ┆           ┆          │\n",
      "│ u2023-04- ┆ LOC       ┆ ParlaMint ┆ portugal  ┆ … ┆ PT        ┆ HU        ┆ HU        ┆ PT       │\n",
      "│ 17-187    ┆           ┆ -HU_2023- ┆           ┆   ┆           ┆           ┆           ┆          │\n",
      "│           ┆           ┆ 04-17.seg ┆           ┆   ┆           ┆           ┆           ┆          │\n",
      "│           ┆           ┆ 582…      ┆           ┆   ┆           ┆           ┆           ┆          │\n",
      "│ u2023-04- ┆ LOC       ┆ ParlaMint ┆ spain     ┆ … ┆ ES        ┆ HU        ┆ HU        ┆ ES       │\n",
      "│ 17-187    ┆           ┆ -HU_2023- ┆           ┆   ┆           ┆           ┆           ┆          │\n",
      "│           ┆           ┆ 04-17.seg ┆           ┆   ┆           ┆           ┆           ┆          │\n",
      "│           ┆           ┆ 582…      ┆           ┆   ┆           ┆           ┆           ┆          │\n",
      "│ u2023-04- ┆ LOC       ┆ ParlaMint ┆ france    ┆ … ┆ FR        ┆ HU        ┆ HU        ┆ FR       │\n",
      "│ 17-187    ┆           ┆ -HU_2023- ┆           ┆   ┆           ┆           ┆           ┆          │\n",
      "│           ┆           ┆ 04-17.seg ┆           ┆   ┆           ┆           ┆           ┆          │\n",
      "│           ┆           ┆ 582…      ┆           ┆   ┆           ┆           ┆           ┆          │\n",
      "│ u2023-04- ┆ LOC       ┆ ParlaMint ┆ mexico    ┆ … ┆ MX        ┆ HU        ┆ HU        ┆ MX       │\n",
      "│ 17-191    ┆           ┆ -HU_2023- ┆           ┆   ┆           ┆           ┆           ┆          │\n",
      "│           ┆           ┆ 04-17.seg ┆           ┆   ┆           ┆           ┆           ┆          │\n",
      "│           ┆           ┆ 599…      ┆           ┆   ┆           ┆           ┆           ┆          │\n",
      "│ u2023-04- ┆ LOC       ┆ ParlaMint ┆ vietnam   ┆ … ┆ VN        ┆ HU        ┆ HU        ┆ VN       │\n",
      "│ 17-191    ┆           ┆ -HU_2023- ┆           ┆   ┆           ┆           ┆           ┆          │\n",
      "│           ┆           ┆ 04-17.seg ┆           ┆   ┆           ┆           ┆           ┆          │\n",
      "│           ┆           ┆ 599…      ┆           ┆   ┆           ┆           ┆           ┆          │\n",
      "└───────────┴───────────┴───────────┴───────────┴───┴───────────┴───────────┴───────────┴──────────┘\n"
     ]
    },
    {
     "name": "stderr",
     "output_type": "stream",
     "text": [
      "/tmp/ipykernel_114858/2124058706.py:7: DeprecationWarning: `pl.count()` is deprecated. Please use `pl.len()` instead.\n",
      "  df.filter(pl.col(\"ReferredCountry\").is_null()).group_by(\"entity\").agg(pl.count()).sort(\"count\", descending=True)\n"
     ]
    }
   ],
   "source": [
    "df = dfbak\n",
    "df = df.with_columns([\n",
    "    pl.col(\"entity\").map_elements(ne2cc_s, return_dtype=pl.String).alias(\"ReferredCountry\")\n",
    "])\n",
    "\n",
    "print(\n",
    "df.filter(pl.col(\"ReferredCountry\").is_null()).group_by(\"entity\").agg(pl.count()).sort(\"count\", descending=True)\n",
    ")\n",
    "df = df.filter(\n",
    "    pl.col(\"ReferredCountry\") != pl.col(\"ReferringCountry\")\n",
    ")\n",
    "\n",
    "print(df)"
   ]
  },
  {
   "cell_type": "code",
   "execution_count": 30,
   "id": "7e95db3e",
   "metadata": {},
   "outputs": [
    {
     "name": "stdout",
     "output_type": "stream",
     "text": [
      "shape: (214, 2)\n",
      "┌─────────────────┬───────┐\n",
      "│ ReferredCountry ┆ len   │\n",
      "│ ---             ┆ ---   │\n",
      "│ str             ┆ u32   │\n",
      "╞═════════════════╪═══════╡\n",
      "│ US              ┆ 98246 │\n",
      "│ DE              ┆ 84267 │\n",
      "│ RU              ┆ 81258 │\n",
      "│ UA              ┆ 60249 │\n",
      "│ XK              ┆ 48416 │\n",
      "│ FR              ┆ 44566 │\n",
      "│ SY              ┆ 39111 │\n",
      "│ CN              ┆ 37667 │\n",
      "│ SE              ┆ 35132 │\n",
      "│ GR              ┆ 34184 │\n",
      "│ …               ┆ …     │\n",
      "│ SX              ┆ 23    │\n",
      "│ CZ              ┆ 21    │\n",
      "│ SZ              ┆ 20    │\n",
      "│ SB              ┆ 15    │\n",
      "│ CD              ┆ 14    │\n",
      "│ AS              ┆ 11    │\n",
      "│ NU              ┆ 8     │\n",
      "│ FK              ┆ 6     │\n",
      "│ CX              ┆ 5     │\n",
      "│ NF              ┆ 1     │\n",
      "└─────────────────┴───────┘\n"
     ]
    }
   ],
   "source": [
    "print(df.group_by(\"ReferredCountry\").len().sort(\"len\", descending=True).filter())"
   ]
  },
  {
   "cell_type": "code",
   "execution_count": 31,
   "id": "cf6591bc",
   "metadata": {},
   "outputs": [],
   "source": [
    "#alt.data_transformers.disable_max_rows()\n",
    "\n",
    "df_yearly = df.group_by(\"ReferringCountry\", \"Date\").len().sort(\"Date\", descending=False)\n",
    "df_yearly = df_yearly.with_columns(\n",
    "    pl.col(\"Date\").dt.truncate(\"1y\").alias(\"year_start\")\n",
    ")\n",
    "\n",
    "df_yearly = df_yearly.group_by(\"year_start\", \"ReferringCountry\").agg([\n",
    "    pl.col(\"len\").sum().alias(\"year_sum\")])\n",
    "#df_yearly.plot.line(x=\"year_start\", y=\"year_sum\").properties(width=100,height=100).facet(\n",
    "#    facet=\"ReferringCountry\", columns=6\n",
    "#)"
   ]
  },
  {
   "cell_type": "code",
   "execution_count": 32,
   "id": "c29c8a52",
   "metadata": {},
   "outputs": [
    {
     "data": {
      "text/plain": [
       "'\\ndf_yearly = df_yearly.group_by(\"year_start\").agg([\\n    pl.col(\"len\").sum().alias(\"year_sum\")])\\ndf_yearly.plot.line(x=\"year_start\", y=\"year_sum\").properties(width=200,height=200)\\n'"
      ]
     },
     "execution_count": 32,
     "metadata": {},
     "output_type": "execute_result"
    }
   ],
   "source": [
    "alt.data_transformers.disable_max_rows()\n",
    "\n",
    "df_yearly = df.group_by(\"Date\").len().sort(\"Date\", descending=False)\n",
    "df_yearly = df_yearly.with_columns(\n",
    "    pl.col(\"Date\").dt.truncate(\"1y\").alias(\"year_start\")\n",
    ")\n",
    "\n",
    "\"\"\"\n",
    "df_yearly = df_yearly.group_by(\"year_start\").agg([\n",
    "    pl.col(\"len\").sum().alias(\"year_sum\")])\n",
    "df_yearly.plot.line(x=\"year_start\", y=\"year_sum\").properties(width=200,height=200)\n",
    "\"\"\""
   ]
  },
  {
   "cell_type": "code",
   "execution_count": 33,
   "id": "fe3aa05f",
   "metadata": {},
   "outputs": [
    {
     "data": {
      "text/html": [
       "<div><style>\n",
       ".dataframe > thead > tr,\n",
       ".dataframe > tbody > tr {\n",
       "  text-align: right;\n",
       "  white-space: pre-wrap;\n",
       "}\n",
       "</style>\n",
       "<small>shape: (4_479, 3)</small><table border=\"1\" class=\"dataframe\"><thead><tr><th>ReferringCountry</th><th>ReferredCountry</th><th>len</th></tr><tr><td>str</td><td>str</td><td>u32</td></tr></thead><tbody><tr><td>&quot;RS&quot;</td><td>&quot;XK&quot;</td><td>40588</td></tr><tr><td>&quot;DK&quot;</td><td>&quot;GL&quot;</td><td>20248</td></tr><tr><td>&quot;TR&quot;</td><td>&quot;SY&quot;</td><td>12581</td></tr><tr><td>&quot;RS&quot;</td><td>&quot;ME&quot;</td><td>11041</td></tr><tr><td>&quot;CZ&quot;</td><td>&quot;UA&quot;</td><td>10945</td></tr><tr><td>&quot;NO&quot;</td><td>&quot;SE&quot;</td><td>10889</td></tr><tr><td>&quot;NO&quot;</td><td>&quot;US&quot;</td><td>10465</td></tr><tr><td>&quot;AT&quot;</td><td>&quot;DE&quot;</td><td>10322</td></tr><tr><td>&quot;UA&quot;</td><td>&quot;RU&quot;</td><td>8781</td></tr><tr><td>&quot;SE&quot;</td><td>&quot;RU&quot;</td><td>8726</td></tr><tr><td>&hellip;</td><td>&hellip;</td><td>&hellip;</td></tr><tr><td>&quot;GR&quot;</td><td>&quot;MQ&quot;</td><td>1</td></tr><tr><td>&quot;GR&quot;</td><td>&quot;GG&quot;</td><td>1</td></tr><tr><td>&quot;GR&quot;</td><td>&quot;TG&quot;</td><td>1</td></tr><tr><td>&quot;BG&quot;</td><td>&quot;SM&quot;</td><td>1</td></tr><tr><td>&quot;LV&quot;</td><td>&quot;VG&quot;</td><td>1</td></tr><tr><td>&quot;GR&quot;</td><td>&quot;MO&quot;</td><td>1</td></tr><tr><td>&quot;BG&quot;</td><td>&quot;YT&quot;</td><td>1</td></tr><tr><td>&quot;NL&quot;</td><td>&quot;FJ&quot;</td><td>1</td></tr><tr><td>&quot;BG&quot;</td><td>&quot;PG&quot;</td><td>1</td></tr><tr><td>&quot;IS&quot;</td><td>&quot;UZ&quot;</td><td>1</td></tr></tbody></table></div>"
      ],
      "text/plain": [
       "shape: (4_479, 3)\n",
       "┌──────────────────┬─────────────────┬───────┐\n",
       "│ ReferringCountry ┆ ReferredCountry ┆ len   │\n",
       "│ ---              ┆ ---             ┆ ---   │\n",
       "│ str              ┆ str             ┆ u32   │\n",
       "╞══════════════════╪═════════════════╪═══════╡\n",
       "│ RS               ┆ XK              ┆ 40588 │\n",
       "│ DK               ┆ GL              ┆ 20248 │\n",
       "│ TR               ┆ SY              ┆ 12581 │\n",
       "│ RS               ┆ ME              ┆ 11041 │\n",
       "│ CZ               ┆ UA              ┆ 10945 │\n",
       "│ NO               ┆ SE              ┆ 10889 │\n",
       "│ NO               ┆ US              ┆ 10465 │\n",
       "│ AT               ┆ DE              ┆ 10322 │\n",
       "│ UA               ┆ RU              ┆ 8781  │\n",
       "│ SE               ┆ RU              ┆ 8726  │\n",
       "│ …                ┆ …               ┆ …     │\n",
       "│ GR               ┆ MQ              ┆ 1     │\n",
       "│ GR               ┆ GG              ┆ 1     │\n",
       "│ GR               ┆ TG              ┆ 1     │\n",
       "│ BG               ┆ SM              ┆ 1     │\n",
       "│ LV               ┆ VG              ┆ 1     │\n",
       "│ GR               ┆ MO              ┆ 1     │\n",
       "│ BG               ┆ YT              ┆ 1     │\n",
       "│ NL               ┆ FJ              ┆ 1     │\n",
       "│ BG               ┆ PG              ┆ 1     │\n",
       "│ IS               ┆ UZ              ┆ 1     │\n",
       "└──────────────────┴─────────────────┴───────┘"
      ]
     },
     "execution_count": 33,
     "metadata": {},
     "output_type": "execute_result"
    }
   ],
   "source": [
    "df.group_by(\"ReferringCountry\", \"ReferredCountry\").len().sort(\"len\", descending=True)"
   ]
  },
  {
   "cell_type": "code",
   "execution_count": 34,
   "id": "73262d95",
   "metadata": {},
   "outputs": [
    {
     "data": {
      "text/html": [
       "<div><style>\n",
       ".dataframe > thead > tr,\n",
       ".dataframe > tbody > tr {\n",
       "  text-align: right;\n",
       "  white-space: pre-wrap;\n",
       "}\n",
       "</style>\n",
       "<small>shape: (24, 3)</small><table border=\"1\" class=\"dataframe\"><thead><tr><th>ReferringCountry</th><th>ReferredCountry</th><th>len</th></tr><tr><td>str</td><td>str</td><td>u32</td></tr></thead><tbody><tr><td>&quot;CZ&quot;</td><td>&quot;UA&quot;</td><td>10945</td></tr><tr><td>&quot;NL&quot;</td><td>&quot;UA&quot;</td><td>5656</td></tr><tr><td>&quot;SE&quot;</td><td>&quot;UA&quot;</td><td>5303</td></tr><tr><td>&quot;PL&quot;</td><td>&quot;UA&quot;</td><td>4990</td></tr><tr><td>&quot;EE&quot;</td><td>&quot;UA&quot;</td><td>4819</td></tr><tr><td>&quot;DK&quot;</td><td>&quot;UA&quot;</td><td>3492</td></tr><tr><td>&quot;HR&quot;</td><td>&quot;UA&quot;</td><td>2712</td></tr><tr><td>&quot;BE&quot;</td><td>&quot;UA&quot;</td><td>2589</td></tr><tr><td>&quot;HU&quot;</td><td>&quot;UA&quot;</td><td>2504</td></tr><tr><td>&quot;ES&quot;</td><td>&quot;UA&quot;</td><td>2350</td></tr><tr><td>&hellip;</td><td>&hellip;</td><td>&hellip;</td></tr><tr><td>&quot;LV&quot;</td><td>&quot;UA&quot;</td><td>1506</td></tr><tr><td>&quot;IT&quot;</td><td>&quot;UA&quot;</td><td>1176</td></tr><tr><td>&quot;IS&quot;</td><td>&quot;UA&quot;</td><td>1105</td></tr><tr><td>&quot;TR&quot;</td><td>&quot;UA&quot;</td><td>1076</td></tr><tr><td>&quot;SI&quot;</td><td>&quot;UA&quot;</td><td>742</td></tr><tr><td>&quot;RS&quot;</td><td>&quot;UA&quot;</td><td>669</td></tr><tr><td>&quot;FI&quot;</td><td>&quot;UA&quot;</td><td>441</td></tr><tr><td>&quot;FR&quot;</td><td>&quot;UA&quot;</td><td>365</td></tr><tr><td>&quot;BA&quot;</td><td>&quot;UA&quot;</td><td>284</td></tr><tr><td>&quot;GR&quot;</td><td>&quot;UA&quot;</td><td>156</td></tr></tbody></table></div>"
      ],
      "text/plain": [
       "shape: (24, 3)\n",
       "┌──────────────────┬─────────────────┬───────┐\n",
       "│ ReferringCountry ┆ ReferredCountry ┆ len   │\n",
       "│ ---              ┆ ---             ┆ ---   │\n",
       "│ str              ┆ str             ┆ u32   │\n",
       "╞══════════════════╪═════════════════╪═══════╡\n",
       "│ CZ               ┆ UA              ┆ 10945 │\n",
       "│ NL               ┆ UA              ┆ 5656  │\n",
       "│ SE               ┆ UA              ┆ 5303  │\n",
       "│ PL               ┆ UA              ┆ 4990  │\n",
       "│ EE               ┆ UA              ┆ 4819  │\n",
       "│ DK               ┆ UA              ┆ 3492  │\n",
       "│ HR               ┆ UA              ┆ 2712  │\n",
       "│ BE               ┆ UA              ┆ 2589  │\n",
       "│ HU               ┆ UA              ┆ 2504  │\n",
       "│ ES               ┆ UA              ┆ 2350  │\n",
       "│ …                ┆ …               ┆ …     │\n",
       "│ LV               ┆ UA              ┆ 1506  │\n",
       "│ IT               ┆ UA              ┆ 1176  │\n",
       "│ IS               ┆ UA              ┆ 1105  │\n",
       "│ TR               ┆ UA              ┆ 1076  │\n",
       "│ SI               ┆ UA              ┆ 742   │\n",
       "│ RS               ┆ UA              ┆ 669   │\n",
       "│ FI               ┆ UA              ┆ 441   │\n",
       "│ FR               ┆ UA              ┆ 365   │\n",
       "│ BA               ┆ UA              ┆ 284   │\n",
       "│ GR               ┆ UA              ┆ 156   │\n",
       "└──────────────────┴─────────────────┴───────┘"
      ]
     },
     "execution_count": 34,
     "metadata": {},
     "output_type": "execute_result"
    }
   ],
   "source": [
    "df.group_by(\"ReferringCountry\", \"ReferredCountry\").len().sort(\"len\", descending=True).filter(pl.col(\"ReferredCountry\") == \"UA\")\n"
   ]
  },
  {
   "cell_type": "code",
   "execution_count": 35,
   "id": "7201401c",
   "metadata": {},
   "outputs": [
    {
     "data": {
      "text/html": [
       "<div><style>\n",
       ".dataframe > thead > tr,\n",
       ".dataframe > tbody > tr {\n",
       "  text-align: right;\n",
       "  white-space: pre-wrap;\n",
       "}\n",
       "</style>\n",
       "<small>shape: (4_479, 5)</small><table border=\"1\" class=\"dataframe\"><thead><tr><th>ReferringCountry</th><th>ReferredCountry</th><th>len</th><th>total</th><th>proportion</th></tr><tr><td>str</td><td>str</td><td>u32</td><td>u32</td><td>f64</td></tr></thead><tbody><tr><td>&quot;GB&quot;</td><td>&quot;LY&quot;</td><td>1883</td><td>4218</td><td>0.44642</td></tr><tr><td>&quot;RS&quot;</td><td>&quot;XK&quot;</td><td>40588</td><td>124159</td><td>0.326903</td></tr><tr><td>&quot;IS&quot;</td><td>&quot;US&quot;</td><td>6892</td><td>26678</td><td>0.25834</td></tr><tr><td>&quot;UA&quot;</td><td>&quot;RU&quot;</td><td>8781</td><td>38483</td><td>0.228179</td></tr><tr><td>&quot;DK&quot;</td><td>&quot;GL&quot;</td><td>20248</td><td>94522</td><td>0.214215</td></tr><tr><td>&quot;BA&quot;</td><td>&quot;HR&quot;</td><td>2611</td><td>12452</td><td>0.209685</td></tr><tr><td>&quot;FI&quot;</td><td>&quot;SE&quot;</td><td>3468</td><td>21547</td><td>0.16095</td></tr><tr><td>&quot;GB&quot;</td><td>&quot;SS&quot;</td><td>666</td><td>4218</td><td>0.157895</td></tr><tr><td>&quot;BA&quot;</td><td>&quot;RS&quot;</td><td>1935</td><td>12452</td><td>0.155397</td></tr><tr><td>&quot;AT&quot;</td><td>&quot;DE&quot;</td><td>10322</td><td>68977</td><td>0.149644</td></tr><tr><td>&hellip;</td><td>&hellip;</td><td>&hellip;</td><td>&hellip;</td><td>&hellip;</td></tr><tr><td>&quot;RS&quot;</td><td>&quot;GU&quot;</td><td>1</td><td>124159</td><td>0.000008</td></tr><tr><td>&quot;RS&quot;</td><td>&quot;TO&quot;</td><td>1</td><td>124159</td><td>0.000008</td></tr><tr><td>&quot;RS&quot;</td><td>&quot;KM&quot;</td><td>1</td><td>124159</td><td>0.000008</td></tr><tr><td>&quot;RS&quot;</td><td>&quot;CD&quot;</td><td>1</td><td>124159</td><td>0.000008</td></tr><tr><td>&quot;RS&quot;</td><td>&quot;NC&quot;</td><td>1</td><td>124159</td><td>0.000008</td></tr><tr><td>&quot;RS&quot;</td><td>&quot;TV&quot;</td><td>1</td><td>124159</td><td>0.000008</td></tr><tr><td>&quot;RS&quot;</td><td>&quot;KI&quot;</td><td>1</td><td>124159</td><td>0.000008</td></tr><tr><td>&quot;RS&quot;</td><td>&quot;SV&quot;</td><td>1</td><td>124159</td><td>0.000008</td></tr><tr><td>&quot;RS&quot;</td><td>&quot;MR&quot;</td><td>1</td><td>124159</td><td>0.000008</td></tr><tr><td>&quot;RS&quot;</td><td>&quot;BZ&quot;</td><td>1</td><td>124159</td><td>0.000008</td></tr></tbody></table></div>"
      ],
      "text/plain": [
       "shape: (4_479, 5)\n",
       "┌──────────────────┬─────────────────┬───────┬────────┬────────────┐\n",
       "│ ReferringCountry ┆ ReferredCountry ┆ len   ┆ total  ┆ proportion │\n",
       "│ ---              ┆ ---             ┆ ---   ┆ ---    ┆ ---        │\n",
       "│ str              ┆ str             ┆ u32   ┆ u32    ┆ f64        │\n",
       "╞══════════════════╪═════════════════╪═══════╪════════╪════════════╡\n",
       "│ GB               ┆ LY              ┆ 1883  ┆ 4218   ┆ 0.44642    │\n",
       "│ RS               ┆ XK              ┆ 40588 ┆ 124159 ┆ 0.326903   │\n",
       "│ IS               ┆ US              ┆ 6892  ┆ 26678  ┆ 0.25834    │\n",
       "│ UA               ┆ RU              ┆ 8781  ┆ 38483  ┆ 0.228179   │\n",
       "│ DK               ┆ GL              ┆ 20248 ┆ 94522  ┆ 0.214215   │\n",
       "│ BA               ┆ HR              ┆ 2611  ┆ 12452  ┆ 0.209685   │\n",
       "│ FI               ┆ SE              ┆ 3468  ┆ 21547  ┆ 0.16095    │\n",
       "│ GB               ┆ SS              ┆ 666   ┆ 4218   ┆ 0.157895   │\n",
       "│ BA               ┆ RS              ┆ 1935  ┆ 12452  ┆ 0.155397   │\n",
       "│ AT               ┆ DE              ┆ 10322 ┆ 68977  ┆ 0.149644   │\n",
       "│ …                ┆ …               ┆ …     ┆ …      ┆ …          │\n",
       "│ RS               ┆ GU              ┆ 1     ┆ 124159 ┆ 0.000008   │\n",
       "│ RS               ┆ TO              ┆ 1     ┆ 124159 ┆ 0.000008   │\n",
       "│ RS               ┆ KM              ┆ 1     ┆ 124159 ┆ 0.000008   │\n",
       "│ RS               ┆ CD              ┆ 1     ┆ 124159 ┆ 0.000008   │\n",
       "│ RS               ┆ NC              ┆ 1     ┆ 124159 ┆ 0.000008   │\n",
       "│ RS               ┆ TV              ┆ 1     ┆ 124159 ┆ 0.000008   │\n",
       "│ RS               ┆ KI              ┆ 1     ┆ 124159 ┆ 0.000008   │\n",
       "│ RS               ┆ SV              ┆ 1     ┆ 124159 ┆ 0.000008   │\n",
       "│ RS               ┆ MR              ┆ 1     ┆ 124159 ┆ 0.000008   │\n",
       "│ RS               ┆ BZ              ┆ 1     ┆ 124159 ┆ 0.000008   │\n",
       "└──────────────────┴─────────────────┴───────┴────────┴────────────┘"
      ]
     },
     "execution_count": 35,
     "metadata": {},
     "output_type": "execute_result"
    }
   ],
   "source": [
    "total_counts = df.group_by(\"ReferringCountry\").len().rename({\"len\": \"total\"})\n",
    "\n",
    "# Step 2: Count pairs and compute proportion\n",
    "result = (\n",
    "    df.group_by(\"ReferringCountry\", \"ReferredCountry\")\n",
    "      .len()\n",
    "      .join(total_counts, on=\"ReferringCountry\")\n",
    "      .with_columns(\n",
    "          (pl.col(\"len\") / pl.col(\"total\")).alias(\"proportion\")\n",
    "      )\n",
    "      .sort(\"proportion\", descending=True)\n",
    ")\n",
    "result"
   ]
  },
  {
   "cell_type": "code",
   "execution_count": 36,
   "id": "013e57a2",
   "metadata": {},
   "outputs": [
    {
     "data": {
      "text/html": [
       "<div><style>\n",
       ".dataframe > thead > tr,\n",
       ".dataframe > tbody > tr {\n",
       "  text-align: right;\n",
       "  white-space: pre-wrap;\n",
       "}\n",
       "</style>\n",
       "<small>shape: (25_240, 4)</small><table border=\"1\" class=\"dataframe\"><thead><tr><th>ReferringCountry</th><th>ReferredCountry</th><th>Party_orientation</th><th>len</th></tr><tr><td>str</td><td>str</td><td>str</td><td>u32</td></tr></thead><tbody><tr><td>&quot;RS&quot;</td><td>&quot;XK&quot;</td><td>&quot;Far-right&quot;</td><td>12603</td></tr><tr><td>&quot;RS&quot;</td><td>&quot;XK&quot;</td><td>&quot;Centre-left&quot;</td><td>8144</td></tr><tr><td>&quot;DK&quot;</td><td>&quot;GL&quot;</td><td>&quot;Left&quot;</td><td>5941</td></tr><tr><td>&quot;RS&quot;</td><td>&quot;XK&quot;</td><td>&quot;Big tent&quot;</td><td>5764</td></tr><tr><td>&quot;RS&quot;</td><td>&quot;XK&quot;</td><td>&quot;Right&quot;</td><td>5209</td></tr><tr><td>&quot;RS&quot;</td><td>&quot;XK&quot;</td><td>&quot;-&quot;</td><td>4069</td></tr><tr><td>&quot;DK&quot;</td><td>&quot;GL&quot;</td><td>&quot;Centre-right&quot;</td><td>3910</td></tr><tr><td>&quot;DK&quot;</td><td>&quot;GL&quot;</td><td>&quot;Centre-left&quot;</td><td>3902</td></tr><tr><td>&quot;TR&quot;</td><td>&quot;SY&quot;</td><td>&quot;Centre-left&quot;</td><td>3781</td></tr><tr><td>&quot;RS&quot;</td><td>&quot;ME&quot;</td><td>&quot;Far-right&quot;</td><td>3613</td></tr><tr><td>&hellip;</td><td>&hellip;</td><td>&hellip;</td><td>&hellip;</td></tr><tr><td>&quot;NO&quot;</td><td>&quot;CD&quot;</td><td>&quot;Centre to centre-right&quot;</td><td>1</td></tr><tr><td>&quot;SI&quot;</td><td>&quot;AE&quot;</td><td>&quot;Left&quot;</td><td>1</td></tr><tr><td>&quot;GR&quot;</td><td>&quot;MC&quot;</td><td>&quot;Left&quot;</td><td>1</td></tr><tr><td>&quot;IS&quot;</td><td>&quot;GI&quot;</td><td>&quot;Pirate Party&quot;</td><td>1</td></tr><tr><td>&quot;GR&quot;</td><td>&quot;BH&quot;</td><td>&quot;Right to far-right&quot;</td><td>1</td></tr><tr><td>&quot;HU&quot;</td><td>&quot;KP&quot;</td><td>&quot;Centre-left to left&quot;</td><td>1</td></tr><tr><td>&quot;BE&quot;</td><td>&quot;NR&quot;</td><td>&quot;Centre-left&quot;</td><td>1</td></tr><tr><td>&quot;UA&quot;</td><td>&quot;CF&quot;</td><td>&quot;Centre&quot;</td><td>1</td></tr><tr><td>&quot;GR&quot;</td><td>&quot;PS&quot;</td><td>&quot;Centre&quot;</td><td>1</td></tr><tr><td>&quot;GR&quot;</td><td>&quot;GN&quot;</td><td>&quot;Far-right&quot;</td><td>1</td></tr></tbody></table></div>"
      ],
      "text/plain": [
       "shape: (25_240, 4)\n",
       "┌──────────────────┬─────────────────┬────────────────────────┬───────┐\n",
       "│ ReferringCountry ┆ ReferredCountry ┆ Party_orientation      ┆ len   │\n",
       "│ ---              ┆ ---             ┆ ---                    ┆ ---   │\n",
       "│ str              ┆ str             ┆ str                    ┆ u32   │\n",
       "╞══════════════════╪═════════════════╪════════════════════════╪═══════╡\n",
       "│ RS               ┆ XK              ┆ Far-right              ┆ 12603 │\n",
       "│ RS               ┆ XK              ┆ Centre-left            ┆ 8144  │\n",
       "│ DK               ┆ GL              ┆ Left                   ┆ 5941  │\n",
       "│ RS               ┆ XK              ┆ Big tent               ┆ 5764  │\n",
       "│ RS               ┆ XK              ┆ Right                  ┆ 5209  │\n",
       "│ RS               ┆ XK              ┆ -                      ┆ 4069  │\n",
       "│ DK               ┆ GL              ┆ Centre-right           ┆ 3910  │\n",
       "│ DK               ┆ GL              ┆ Centre-left            ┆ 3902  │\n",
       "│ TR               ┆ SY              ┆ Centre-left            ┆ 3781  │\n",
       "│ RS               ┆ ME              ┆ Far-right              ┆ 3613  │\n",
       "│ …                ┆ …               ┆ …                      ┆ …     │\n",
       "│ NO               ┆ CD              ┆ Centre to centre-right ┆ 1     │\n",
       "│ SI               ┆ AE              ┆ Left                   ┆ 1     │\n",
       "│ GR               ┆ MC              ┆ Left                   ┆ 1     │\n",
       "│ IS               ┆ GI              ┆ Pirate Party           ┆ 1     │\n",
       "│ GR               ┆ BH              ┆ Right to far-right     ┆ 1     │\n",
       "│ HU               ┆ KP              ┆ Centre-left to left    ┆ 1     │\n",
       "│ BE               ┆ NR              ┆ Centre-left            ┆ 1     │\n",
       "│ UA               ┆ CF              ┆ Centre                 ┆ 1     │\n",
       "│ GR               ┆ PS              ┆ Centre                 ┆ 1     │\n",
       "│ GR               ┆ GN              ┆ Far-right              ┆ 1     │\n",
       "└──────────────────┴─────────────────┴────────────────────────┴───────┘"
      ]
     },
     "execution_count": 36,
     "metadata": {},
     "output_type": "execute_result"
    }
   ],
   "source": [
    "df.group_by(\"ReferringCountry\", \"ReferredCountry\", \"Party_orientation\").len().sort(\"len\", descending=True)\n"
   ]
  },
  {
   "cell_type": "code",
   "execution_count": 37,
   "id": "d20fa574",
   "metadata": {},
   "outputs": [],
   "source": [
    "with open(\"restcountries_all.json\", encoding=\"utf-8\") as f:\n",
    "    cntry_data = json.load(f)\n",
    "\n",
    "def cca2ToGeo(ca):\n",
    "    for country in cntry_data:\n",
    "        if country[\"cca2\"] == ca:\n",
    "            return country[\"latlng\"]\n",
    "    return None"
   ]
  },
  {
   "cell_type": "code",
   "execution_count": 38,
   "id": "a3fe08f1",
   "metadata": {},
   "outputs": [],
   "source": [
    "df_geo = result.with_columns([\n",
    "    pl.col(\"ReferringCountry\").map_elements(cca2ToGeo, return_dtype=pl.List(pl.Float64)).alias(\"ReferringCountryGeo\"),\n",
    "    pl.col(\"ReferredCountry\").map_elements(cca2ToGeo, return_dtype=pl.List(pl.Float64)).alias(\"ReferredCountryGeo\")\n",
    "])\n"
   ]
  },
  {
   "cell_type": "code",
   "execution_count": 39,
   "id": "68eb5f0e",
   "metadata": {},
   "outputs": [
    {
     "data": {
      "text/plain": [
       "'\\nimport folium\\ndf_geo_FI = df_geo.filter(pl.col(\"ReferringCountry\") == \"FI\").to_pandas()\\ndf_geo_FI[\"geometry\"] =df_geo_FI.apply(\\n    lambda row: LineString([row[\"ReferringCountryGeo\"].reverse(), row[\"ReferredCountryGeo\"].reverse()]),\\n    axis=1\\n)\\ngeo_df = gpd.GeoDataFrame(df_geo_FI, geometry=\\'geometry\\', crs=\"EPSG:4326\")\\n# Get center of your data for map start\\ngeo_df.explore()\\n'"
      ]
     },
     "execution_count": 39,
     "metadata": {},
     "output_type": "execute_result"
    }
   ],
   "source": [
    "\"\"\"\n",
    "import folium\n",
    "df_geo_FI = df_geo.filter(pl.col(\"ReferringCountry\") == \"FI\").to_pandas()\n",
    "df_geo_FI[\"geometry\"] =df_geo_FI.apply(\n",
    "    lambda row: LineString([row[\"ReferringCountryGeo\"].reverse(), row[\"ReferredCountryGeo\"].reverse()]),\n",
    "    axis=1\n",
    ")\n",
    "geo_df = gpd.GeoDataFrame(df_geo_FI, geometry='geometry', crs=\"EPSG:4326\")\n",
    "# Get center of your data for map start\n",
    "geo_df.explore()\n",
    "\"\"\""
   ]
  }
 ],
 "metadata": {
  "kernelspec": {
   "display_name": "Python 3",
   "language": "python",
   "name": "python3"
  },
  "language_info": {
   "codemirror_mode": {
    "name": "ipython",
    "version": 3
   },
   "file_extension": ".py",
   "mimetype": "text/x-python",
   "name": "python",
   "nbconvert_exporter": "python",
   "pygments_lexer": "ipython3",
   "version": "3.12.9"
  }
 },
 "nbformat": 4,
 "nbformat_minor": 5
}
