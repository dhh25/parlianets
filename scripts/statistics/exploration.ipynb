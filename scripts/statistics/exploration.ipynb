{
 "cells": [
  {
   "cell_type": "code",
   "execution_count": 32,
   "id": "b8ccfcef",
   "metadata": {},
   "outputs": [
    {
     "data": {
      "text/plain": [
       "polars.config.Config"
      ]
     },
     "execution_count": 32,
     "metadata": {},
     "output_type": "execute_result"
    }
   ],
   "source": [
    "# imports\n",
    "import polars as pl\n",
    "import polars.selectors as cs\n",
    "import os\n",
    "from statistics_utils import ne2cc, build_country_code_dicts\n",
    "import plotly.express as px\n",
    "import json\n",
    "import plotly.graph_objects as go\n",
    "import pandas\n",
    "import altair as alt\n",
    "pl.Config.set_tbl_rows(20)"
   ]
  },
  {
   "cell_type": "code",
   "execution_count": 33,
   "id": "8158bce1",
   "metadata": {},
   "outputs": [
    {
     "name": "stdout",
     "output_type": "stream",
     "text": [
      "shape: (1_818_766, 27)\n",
      "┌────────────┬───────────┬───────────┬─────────┬───┬───────────┬───────────┬───────────┬───────────┐\n",
      "│ text_id    ┆ name_type ┆ position  ┆ entity  ┆ … ┆ Speaker_n ┆ Speaker_g ┆ Speaker_b ┆ Referring │\n",
      "│ ---        ┆ ---       ┆ ---       ┆ ---     ┆   ┆ ame       ┆ ender     ┆ irth      ┆ Country   │\n",
      "│ str        ┆ str       ┆ str       ┆ str     ┆   ┆ ---       ┆ ---       ┆ ---       ┆ ---       │\n",
      "│            ┆           ┆           ┆         ┆   ┆ str       ┆ str       ┆ str       ┆ str       │\n",
      "╞════════════╪═══════════╪═══════════╪═════════╪═══╪═══════════╪═══════════╪═══════════╪═══════════╡\n",
      "│ ParlaMint- ┆ LOC       ┆ ParlaMint ┆ europe  ┆ … ┆ Manuel    ┆ M         ┆ null      ┆ PT        │\n",
      "│ PT_2015-03 ┆           ┆ -PT_2015- ┆         ┆   ┆ Lopes     ┆           ┆           ┆           │\n",
      "│ -20.u83    ┆           ┆ 03-20.seg ┆         ┆   ┆ Moreira   ┆           ┆           ┆           │\n",
      "│            ┆           ┆ 287…      ┆         ┆   ┆ da        ┆           ┆           ┆           │\n",
      "│            ┆           ┆           ┆         ┆   ┆ Silva,…   ┆           ┆           ┆           │\n",
      "│ ParlaMint- ┆ LOC       ┆ ParlaMint ┆ ukraine ┆ … ┆ da        ┆ F         ┆ null      ┆ PT        │\n",
      "│ PT_2015-03 ┆           ┆ -PT_2015- ┆         ┆   ┆ Assunção  ┆           ┆           ┆           │\n",
      "│ -20.u204   ┆           ┆ 03-20.seg ┆         ┆   ┆ Andrade   ┆           ┆           ┆           │\n",
      "│            ┆           ┆ 618…      ┆         ┆   ┆ Esteves,  ┆           ┆           ┆           │\n",
      "│            ┆           ┆           ┆         ┆   ┆ M…        ┆           ┆           ┆           │\n",
      "│ ParlaMint- ┆ LOC       ┆ ParlaMint ┆ tunisia ┆ … ┆ da        ┆ F         ┆ null      ┆ PT        │\n",
      "│ PT_2015-03 ┆           ┆ -PT_2015- ┆         ┆   ┆ Assunção  ┆           ┆           ┆           │\n",
      "│ -20.u210   ┆           ┆ 03-20.seg ┆         ┆   ┆ Andrade   ┆           ┆           ┆           │\n",
      "│            ┆           ┆ 631…      ┆         ┆   ┆ Esteves,  ┆           ┆           ┆           │\n",
      "│            ┆           ┆           ┆         ┆   ┆ M…        ┆           ┆           ┆           │\n",
      "│ ParlaMint- ┆ LOC       ┆ ParlaMint ┆ tunisia ┆ … ┆ Rogério   ┆ M         ┆ null      ┆ PT        │\n",
      "│ PT_2015-03 ┆           ┆ -PT_2015- ┆         ┆   ┆ Matos     ┆           ┆           ┆           │\n",
      "│ -20.u211   ┆           ┆ 03-20.seg ┆         ┆   ┆ Ventura   ┆           ┆           ┆           │\n",
      "│            ┆           ┆ 634…      ┆         ┆   ┆ Pacheco,… ┆           ┆           ┆           │\n",
      "│ ParlaMint- ┆ LOC       ┆ ParlaMint ┆ tunisia ┆ … ┆ Rogério   ┆ M         ┆ null      ┆ PT        │\n",
      "│ PT_2015-03 ┆           ┆ -PT_2015- ┆         ┆   ┆ Matos     ┆           ┆           ┆           │\n",
      "│ -20.u211   ┆           ┆ 03-20.seg ┆         ┆   ┆ Ventura   ┆           ┆           ┆           │\n",
      "│            ┆           ┆ 636…      ┆         ┆   ┆ Pacheco,… ┆           ┆           ┆           │\n",
      "│ ParlaMint- ┆ LOC       ┆ ParlaMint ┆ ukraine ┆ … ┆ Filipe    ┆ M         ┆ null      ┆ PT        │\n",
      "│ PT_2015-03 ┆           ┆ -PT_2015- ┆         ┆   ┆ Gaião Rod ┆           ┆           ┆           │\n",
      "│ -20.u223   ┆           ┆ 03-20.seg ┆         ┆   ┆ rigues,   ┆           ┆           ┆           │\n",
      "│            ┆           ┆ 702…      ┆         ┆   ┆ Antóni…   ┆           ┆           ┆           │\n",
      "│ ParlaMint- ┆ LOC       ┆ ParlaMint ┆ europe  ┆ … ┆ Nuno de   ┆ M         ┆ 1977      ┆ PT        │\n",
      "│ PT_2015-11 ┆           ┆ -PT_2015- ┆         ┆   ┆ Oliveira  ┆           ┆           ┆           │\n",
      "│ -09.u44    ┆           ┆ 11-09.seg ┆         ┆   ┆ Santos,   ┆           ┆           ┆           │\n",
      "│            ┆           ┆ 142…      ┆         ┆   ┆ Pedro     ┆           ┆           ┆           │\n",
      "│ ParlaMint- ┆ LOC       ┆ ParlaMint ┆ europe  ┆ … ┆ Nuno de   ┆ M         ┆ 1977      ┆ PT        │\n",
      "│ PT_2015-11 ┆           ┆ -PT_2015- ┆         ┆   ┆ Oliveira  ┆           ┆           ┆           │\n",
      "│ -09.u44    ┆           ┆ 11-09.seg ┆         ┆   ┆ Santos,   ┆           ┆           ┆           │\n",
      "│            ┆           ┆ 142…      ┆         ┆   ┆ Pedro     ┆           ┆           ┆           │\n",
      "│ ParlaMint- ┆ LOC       ┆ ParlaMint ┆ europe  ┆ … ┆ Nuno de   ┆ M         ┆ 1977      ┆ PT        │\n",
      "│ PT_2015-11 ┆           ┆ -PT_2015- ┆         ┆   ┆ Oliveira  ┆           ┆           ┆           │\n",
      "│ -09.u44    ┆           ┆ 11-09.seg ┆         ┆   ┆ Santos,   ┆           ┆           ┆           │\n",
      "│            ┆           ┆ 142…      ┆         ┆   ┆ Pedro     ┆           ┆           ┆           │\n",
      "│ ParlaMint- ┆ LOC       ┆ ParlaMint ┆ europe  ┆ … ┆ Manuel    ┆ M         ┆ 1964      ┆ PT        │\n",
      "│ PT_2015-11 ┆           ┆ -PT_2015- ┆         ┆   ┆ Mamede    ┆           ┆           ┆           │\n",
      "│ -09.u48    ┆           ┆ 11-09.seg ┆         ┆   ┆ Passos    ┆           ┆           ┆           │\n",
      "│            ┆           ┆ 163…      ┆         ┆   ┆ Coelho,   ┆           ┆           ┆           │\n",
      "│            ┆           ┆           ┆         ┆   ┆ P…        ┆           ┆           ┆           │\n",
      "│ …          ┆ …         ┆ …         ┆ …       ┆ … ┆ …         ┆ …         ┆ …         ┆ …         │\n",
      "│ ParlaMint- ┆ LOC       ┆ ParlaMint ┆ rwanda  ┆ … ┆ Okamura,  ┆ M         ┆ 1972      ┆ CZ        │\n",
      "│ CZ_2023-06 ┆           ┆ -CZ_2023- ┆         ┆   ┆ Tomio     ┆           ┆           ┆           │\n",
      "│ -14-ps2021 ┆           ┆ 06-14-ps2 ┆         ┆   ┆           ┆           ┆           ┆           │\n",
      "│ …          ┆           ┆ 021…      ┆         ┆   ┆           ┆           ┆           ┆           │\n",
      "│ ParlaMint- ┆ LOC       ┆ ParlaMint ┆ europe  ┆ … ┆ Okamura,  ┆ M         ┆ 1972      ┆ CZ        │\n",
      "│ CZ_2023-06 ┆           ┆ -CZ_2023- ┆         ┆   ┆ Tomio     ┆           ┆           ┆           │\n",
      "│ -14-ps2021 ┆           ┆ 06-14-ps2 ┆         ┆   ┆           ┆           ┆           ┆           │\n",
      "│ …          ┆           ┆ 021…      ┆         ┆   ┆           ┆           ┆           ┆           │\n",
      "│ ParlaMint- ┆ LOC       ┆ ParlaMint ┆ europe  ┆ … ┆ Okamura,  ┆ M         ┆ 1972      ┆ CZ        │\n",
      "│ CZ_2023-06 ┆           ┆ -CZ_2023- ┆         ┆   ┆ Tomio     ┆           ┆           ┆           │\n",
      "│ -14-ps2021 ┆           ┆ 06-14-ps2 ┆         ┆   ┆           ┆           ┆           ┆           │\n",
      "│ …          ┆           ┆ 021…      ┆         ┆   ┆           ┆           ┆           ┆           │\n",
      "│ ParlaMint- ┆ LOC       ┆ ParlaMint ┆ us      ┆ … ┆ Okamura,  ┆ M         ┆ 1972      ┆ CZ        │\n",
      "│ CZ_2023-06 ┆           ┆ -CZ_2023- ┆         ┆   ┆ Tomio     ┆           ┆           ┆           │\n",
      "│ -14-ps2021 ┆           ┆ 06-14-ps2 ┆         ┆   ┆           ┆           ┆           ┆           │\n",
      "│ …          ┆           ┆ 021…      ┆         ┆   ┆           ┆           ┆           ┆           │\n",
      "│ ParlaMint- ┆ LOC       ┆ ParlaMint ┆ syria   ┆ … ┆ Okamura,  ┆ M         ┆ 1972      ┆ CZ        │\n",
      "│ CZ_2023-06 ┆           ┆ -CZ_2023- ┆         ┆   ┆ Tomio     ┆           ┆           ┆           │\n",
      "│ -14-ps2021 ┆           ┆ 06-14-ps2 ┆         ┆   ┆           ┆           ┆           ┆           │\n",
      "│ …          ┆           ┆ 021…      ┆         ┆   ┆           ┆           ┆           ┆           │\n",
      "│ ParlaMint- ┆ LOC       ┆ ParlaMint ┆ ukraine ┆ … ┆ Okamura,  ┆ M         ┆ 1972      ┆ CZ        │\n",
      "│ CZ_2023-06 ┆           ┆ -CZ_2023- ┆         ┆   ┆ Tomio     ┆           ┆           ┆           │\n",
      "│ -14-ps2021 ┆           ┆ 06-14-ps2 ┆         ┆   ┆           ┆           ┆           ┆           │\n",
      "│ …          ┆           ┆ 021…      ┆         ┆   ┆           ┆           ┆           ┆           │\n",
      "│ ParlaMint- ┆ LOC       ┆ ParlaMint ┆ poland  ┆ … ┆ Okamura,  ┆ M         ┆ 1972      ┆ CZ        │\n",
      "│ CZ_2023-06 ┆           ┆ -CZ_2023- ┆         ┆   ┆ Tomio     ┆           ┆           ┆           │\n",
      "│ -14-ps2021 ┆           ┆ 06-14-ps2 ┆         ┆   ┆           ┆           ┆           ┆           │\n",
      "│ …          ┆           ┆ 021…      ┆         ┆   ┆           ┆           ┆           ┆           │\n",
      "│ ParlaMint- ┆ LOC       ┆ ParlaMint ┆ hungary ┆ … ┆ Okamura,  ┆ M         ┆ 1972      ┆ CZ        │\n",
      "│ CZ_2023-06 ┆           ┆ -CZ_2023- ┆         ┆   ┆ Tomio     ┆           ┆           ┆           │\n",
      "│ -14-ps2021 ┆           ┆ 06-14-ps2 ┆         ┆   ┆           ┆           ┆           ┆           │\n",
      "│ …          ┆           ┆ 021…      ┆         ┆   ┆           ┆           ┆           ┆           │\n",
      "│ ParlaMint- ┆ LOC       ┆ ParlaMint ┆ poland  ┆ … ┆ Okamura,  ┆ M         ┆ 1972      ┆ CZ        │\n",
      "│ CZ_2023-06 ┆           ┆ -CZ_2023- ┆         ┆   ┆ Tomio     ┆           ┆           ┆           │\n",
      "│ -14-ps2021 ┆           ┆ 06-14-ps2 ┆         ┆   ┆           ┆           ┆           ┆           │\n",
      "│ …          ┆           ┆ 021…      ┆         ┆   ┆           ┆           ┆           ┆           │\n",
      "│ ParlaMint- ┆ LOC       ┆ ParlaMint ┆ hungary ┆ … ┆ Okamura,  ┆ M         ┆ 1972      ┆ CZ        │\n",
      "│ CZ_2023-06 ┆           ┆ -CZ_2023- ┆         ┆   ┆ Tomio     ┆           ┆           ┆           │\n",
      "│ -14-ps2021 ┆           ┆ 06-14-ps2 ┆         ┆   ┆           ┆           ┆           ┆           │\n",
      "│ …          ┆           ┆ 021…      ┆         ┆   ┆           ┆           ┆           ┆           │\n",
      "└────────────┴───────────┴───────────┴─────────┴───┴───────────┴───────────┴───────────┴───────────┘\n"
     ]
    }
   ],
   "source": [
    "def load_and_concat_parquet_files(path):\n",
    "    dfs = []\n",
    "    for file in os.listdir(path):\n",
    "        file_path = os.path.join(path, file)\n",
    "        if file_path.endswith('.parquet'):\n",
    "            dfs.append(convert_types(pl.read_parquet(file_path).with_columns([pl.lit(file[0:2]).alias(\"ReferringCountry\")])))\n",
    "    if not dfs:\n",
    "        return pl.DataFrame()\n",
    "    combined_df = dfs[0]\n",
    "    for df in dfs[1:]:\n",
    "        combined_df = pl.concat([combined_df,df], how=\"diagonal\")\n",
    "    return combined_df\n",
    "\n",
    "def convert_types(df):\n",
    "    for col in df.columns:\n",
    "        if df[col].dtype != pl.String:\n",
    "            df = df.with_columns(df[col].cast(pl.String))\n",
    "    return df\n",
    "\n",
    "path = \"../../data/filtered/\"\n",
    "df = load_and_concat_parquet_files(path)\n",
    "df = df.drop(\"[0.002s][warning][perf,memops] Cannot use file /tmp/hsperfdata_kopp/3612625 because it is locked by another process (errno = 11)\")\n",
    "\n",
    "df = df.with_columns(\n",
    "    pl.col(\"Date\").str.strptime(pl.Date, \"%Y-%m-%d\")\n",
    ")\n",
    "print(df)"
   ]
  },
  {
   "cell_type": "code",
   "execution_count": 34,
   "id": "59015a28",
   "metadata": {},
   "outputs": [
    {
     "name": "stdout",
     "output_type": "stream",
     "text": [
      "shape: (270, 2)\n",
      "┌────────────────────┬────────┐\n",
      "│ entity             ┆ len    │\n",
      "│ ---                ┆ ---    │\n",
      "│ str                ┆ u32    │\n",
      "╞════════════════════╪════════╡\n",
      "│ europe             ┆ 337559 │\n",
      "│ germany            ┆ 84267  │\n",
      "│ russia             ┆ 81258  │\n",
      "│ united states      ┆ 75534  │\n",
      "│ ukraine            ┆ 60249  │\n",
      "│ kosovo             ┆ 48416  │\n",
      "│ france             ┆ 44566  │\n",
      "│ spain              ┆ 40984  │\n",
      "│ syria              ┆ 39111  │\n",
      "│ china              ┆ 37667  │\n",
      "│ …                  ┆ …      │\n",
      "│ brunei darussalam  ┆ 3      │\n",
      "│ east australia     ┆ 2      │\n",
      "│ west america       ┆ 2      │\n",
      "│ south west asia    ┆ 2      │\n",
      "│ northern australia ┆ 1      │\n",
      "│ southern asia      ┆ 1      │\n",
      "│ türkiye            ┆ 1      │\n",
      "│ south west africa  ┆ 1      │\n",
      "│ north east africa  ┆ 1      │\n",
      "│ norfolk island     ┆ 1      │\n",
      "└────────────────────┴────────┘\n"
     ]
    }
   ],
   "source": [
    "print(df.group_by(\"entity\").len().sort(\"len\", descending=True).filter())"
   ]
  },
  {
   "cell_type": "code",
   "execution_count": 35,
   "id": "4e358c9a",
   "metadata": {},
   "outputs": [],
   "source": [
    "dicts = build_country_code_dicts()\n",
    "def ne2cc_s(x):\n",
    "    return ne2cc(x, dicts[0], dicts[1])\n"
   ]
  },
  {
   "cell_type": "code",
   "execution_count": 36,
   "id": "98e18817",
   "metadata": {},
   "outputs": [
    {
     "name": "stderr",
     "output_type": "stream",
     "text": [
      "/tmp/ipykernel_27385/3088195442.py:6: DeprecationWarning: `pl.count()` is deprecated. Please use `pl.len()` instead.\n",
      "  df.filter(pl.col(\"ReferredCountry\").is_null()).group_by(\"entity\").agg(pl.count()).sort(\"count\", descending=True)\n"
     ]
    },
    {
     "name": "stdout",
     "output_type": "stream",
     "text": [
      "shape: (52, 2)\n",
      "┌────────────────────┬────────┐\n",
      "│ entity             ┆ count  │\n",
      "│ ---                ┆ ---    │\n",
      "│ str                ┆ u32    │\n",
      "╞════════════════════╪════════╡\n",
      "│ europe             ┆ 337559 │\n",
      "│ eu                 ┆ 23911  │\n",
      "│ america            ┆ 23429  │\n",
      "│ africa             ┆ 18271  │\n",
      "│ asia               ┆ 5775   │\n",
      "│ north africa       ┆ 2814   │\n",
      "│ south america      ┆ 1886   │\n",
      "│ north america      ┆ 1231   │\n",
      "│ west africa        ┆ 635    │\n",
      "│ northern europe    ┆ 620    │\n",
      "│ …                  ┆ …      │\n",
      "│ east america       ┆ 4      │\n",
      "│ brunei darussalam  ┆ 3      │\n",
      "│ south west asia    ┆ 2      │\n",
      "│ west america       ┆ 2      │\n",
      "│ east australia     ┆ 2      │\n",
      "│ southern asia      ┆ 1      │\n",
      "│ türkiye            ┆ 1      │\n",
      "│ north east africa  ┆ 1      │\n",
      "│ northern australia ┆ 1      │\n",
      "│ south west africa  ┆ 1      │\n",
      "└────────────────────┴────────┘\n",
      "shape: (1_375_796, 28)\n",
      "┌───────────┬───────────┬───────────┬───────────┬───┬───────────┬───────────┬───────────┬──────────┐\n",
      "│ text_id   ┆ name_type ┆ position  ┆ entity    ┆ … ┆ Speaker_g ┆ Speaker_b ┆ Referring ┆ Referred │\n",
      "│ ---       ┆ ---       ┆ ---       ┆ ---       ┆   ┆ ender     ┆ irth      ┆ Country   ┆ Country  │\n",
      "│ str       ┆ str       ┆ str       ┆ str       ┆   ┆ ---       ┆ ---       ┆ ---       ┆ ---      │\n",
      "│           ┆           ┆           ┆           ┆   ┆ str       ┆ str       ┆ str       ┆ str      │\n",
      "╞═══════════╪═══════════╪═══════════╪═══════════╪═══╪═══════════╪═══════════╪═══════════╪══════════╡\n",
      "│ ParlaMint ┆ LOC       ┆ ParlaMint ┆ ukraine   ┆ … ┆ F         ┆ null      ┆ PT        ┆ UA       │\n",
      "│ -PT_2015- ┆           ┆ -PT_2015- ┆           ┆   ┆           ┆           ┆           ┆          │\n",
      "│ 03-20.u20 ┆           ┆ 03-20.seg ┆           ┆   ┆           ┆           ┆           ┆          │\n",
      "│ 4         ┆           ┆ 618…      ┆           ┆   ┆           ┆           ┆           ┆          │\n",
      "│ ParlaMint ┆ LOC       ┆ ParlaMint ┆ tunisia   ┆ … ┆ F         ┆ null      ┆ PT        ┆ TN       │\n",
      "│ -PT_2015- ┆           ┆ -PT_2015- ┆           ┆   ┆           ┆           ┆           ┆          │\n",
      "│ 03-20.u21 ┆           ┆ 03-20.seg ┆           ┆   ┆           ┆           ┆           ┆          │\n",
      "│ 0         ┆           ┆ 631…      ┆           ┆   ┆           ┆           ┆           ┆          │\n",
      "│ ParlaMint ┆ LOC       ┆ ParlaMint ┆ tunisia   ┆ … ┆ M         ┆ null      ┆ PT        ┆ TN       │\n",
      "│ -PT_2015- ┆           ┆ -PT_2015- ┆           ┆   ┆           ┆           ┆           ┆          │\n",
      "│ 03-20.u21 ┆           ┆ 03-20.seg ┆           ┆   ┆           ┆           ┆           ┆          │\n",
      "│ 1         ┆           ┆ 634…      ┆           ┆   ┆           ┆           ┆           ┆          │\n",
      "│ ParlaMint ┆ LOC       ┆ ParlaMint ┆ tunisia   ┆ … ┆ M         ┆ null      ┆ PT        ┆ TN       │\n",
      "│ -PT_2015- ┆           ┆ -PT_2015- ┆           ┆   ┆           ┆           ┆           ┆          │\n",
      "│ 03-20.u21 ┆           ┆ 03-20.seg ┆           ┆   ┆           ┆           ┆           ┆          │\n",
      "│ 1         ┆           ┆ 636…      ┆           ┆   ┆           ┆           ┆           ┆          │\n",
      "│ ParlaMint ┆ LOC       ┆ ParlaMint ┆ ukraine   ┆ … ┆ M         ┆ null      ┆ PT        ┆ UA       │\n",
      "│ -PT_2015- ┆           ┆ -PT_2015- ┆           ┆   ┆           ┆           ┆           ┆          │\n",
      "│ 03-20.u22 ┆           ┆ 03-20.seg ┆           ┆   ┆           ┆           ┆           ┆          │\n",
      "│ 3         ┆           ┆ 702…      ┆           ┆   ┆           ┆           ┆           ┆          │\n",
      "│ ParlaMint ┆ LOC       ┆ ParlaMint ┆ brazil    ┆ … ┆ M         ┆ 1975      ┆ PT        ┆ BR       │\n",
      "│ -PT_2015- ┆           ┆ -PT_2015- ┆           ┆   ┆           ┆           ┆           ┆          │\n",
      "│ 11-09.u19 ┆           ┆ 11-09.seg ┆           ┆   ┆           ┆           ┆           ┆          │\n",
      "│ 5         ┆           ┆ 451…      ┆           ┆   ┆           ┆           ┆           ┆          │\n",
      "│ ParlaMint ┆ LOC       ┆ ParlaMint ┆ north     ┆ … ┆ F         ┆ 1961      ┆ PT        ┆ KP       │\n",
      "│ -PT_2015- ┆           ┆ -PT_2015- ┆ korea     ┆   ┆           ┆           ┆           ┆          │\n",
      "│ 11-09.u22 ┆           ┆ 11-09.seg ┆           ┆   ┆           ┆           ┆           ┆          │\n",
      "│ 4         ┆           ┆ 540…      ┆           ┆   ┆           ┆           ┆           ┆          │\n",
      "│ ParlaMint ┆ LOC       ┆ ParlaMint ┆ cuba      ┆ … ┆ F         ┆ 1961      ┆ PT        ┆ CU       │\n",
      "│ -PT_2015- ┆           ┆ -PT_2015- ┆           ┆   ┆           ┆           ┆           ┆          │\n",
      "│ 11-09.u22 ┆           ┆ 11-09.seg ┆           ┆   ┆           ┆           ┆           ┆          │\n",
      "│ 6         ┆           ┆ 542…      ┆           ┆   ┆           ┆           ┆           ┆          │\n",
      "│ ParlaMint ┆ LOC       ┆ ParlaMint ┆ germany   ┆ … ┆ F         ┆ 1986      ┆ PT        ┆ DE       │\n",
      "│ -PT_2015- ┆           ┆ -PT_2015- ┆           ┆   ┆           ┆           ┆           ┆          │\n",
      "│ 11-09.u23 ┆           ┆ 11-09.seg ┆           ┆   ┆           ┆           ┆           ┆          │\n",
      "│ 2         ┆           ┆ 555…      ┆           ┆   ┆           ┆           ┆           ┆          │\n",
      "│ ParlaMint ┆ LOC       ┆ ParlaMint ┆ angola    ┆ … ┆ F         ┆ 1986      ┆ PT        ┆ AO       │\n",
      "│ -PT_2015- ┆           ┆ -PT_2015- ┆           ┆   ┆           ┆           ┆           ┆          │\n",
      "│ 11-09.u23 ┆           ┆ 11-09.seg ┆           ┆   ┆           ┆           ┆           ┆          │\n",
      "│ 2         ┆           ┆ 555…      ┆           ┆   ┆           ┆           ┆           ┆          │\n",
      "│ …         ┆ …         ┆ …         ┆ …         ┆ … ┆ …         ┆ …         ┆ …         ┆ …        │\n",
      "│ ParlaMint ┆ LOC       ┆ ParlaMint ┆ ukraine   ┆ … ┆ M         ┆ 1972      ┆ CZ        ┆ UA       │\n",
      "│ -CZ_2023- ┆           ┆ -CZ_2023- ┆           ┆   ┆           ┆           ┆           ┆          │\n",
      "│ 06-14-ps2 ┆           ┆ 06-14-ps2 ┆           ┆   ┆           ┆           ┆           ┆          │\n",
      "│ 021…      ┆           ┆ 021…      ┆           ┆   ┆           ┆           ┆           ┆          │\n",
      "│ ParlaMint ┆ LOC       ┆ ParlaMint ┆ ukraine   ┆ … ┆ M         ┆ 1972      ┆ CZ        ┆ UA       │\n",
      "│ -CZ_2023- ┆           ┆ -CZ_2023- ┆           ┆   ┆           ┆           ┆           ┆          │\n",
      "│ 06-14-ps2 ┆           ┆ 06-14-ps2 ┆           ┆   ┆           ┆           ┆           ┆          │\n",
      "│ 021…      ┆           ┆ 021…      ┆           ┆   ┆           ┆           ┆           ┆          │\n",
      "│ ParlaMint ┆ LOC       ┆ ParlaMint ┆ rwanda    ┆ … ┆ M         ┆ 1972      ┆ CZ        ┆ RW       │\n",
      "│ -CZ_2023- ┆           ┆ -CZ_2023- ┆           ┆   ┆           ┆           ┆           ┆          │\n",
      "│ 06-14-ps2 ┆           ┆ 06-14-ps2 ┆           ┆   ┆           ┆           ┆           ┆          │\n",
      "│ 021…      ┆           ┆ 021…      ┆           ┆   ┆           ┆           ┆           ┆          │\n",
      "│ ParlaMint ┆ LOC       ┆ ParlaMint ┆ us        ┆ … ┆ M         ┆ 1972      ┆ CZ        ┆ US       │\n",
      "│ -CZ_2023- ┆           ┆ -CZ_2023- ┆           ┆   ┆           ┆           ┆           ┆          │\n",
      "│ 06-14-ps2 ┆           ┆ 06-14-ps2 ┆           ┆   ┆           ┆           ┆           ┆          │\n",
      "│ 021…      ┆           ┆ 021…      ┆           ┆   ┆           ┆           ┆           ┆          │\n",
      "│ ParlaMint ┆ LOC       ┆ ParlaMint ┆ syria     ┆ … ┆ M         ┆ 1972      ┆ CZ        ┆ SY       │\n",
      "│ -CZ_2023- ┆           ┆ -CZ_2023- ┆           ┆   ┆           ┆           ┆           ┆          │\n",
      "│ 06-14-ps2 ┆           ┆ 06-14-ps2 ┆           ┆   ┆           ┆           ┆           ┆          │\n",
      "│ 021…      ┆           ┆ 021…      ┆           ┆   ┆           ┆           ┆           ┆          │\n",
      "│ ParlaMint ┆ LOC       ┆ ParlaMint ┆ ukraine   ┆ … ┆ M         ┆ 1972      ┆ CZ        ┆ UA       │\n",
      "│ -CZ_2023- ┆           ┆ -CZ_2023- ┆           ┆   ┆           ┆           ┆           ┆          │\n",
      "│ 06-14-ps2 ┆           ┆ 06-14-ps2 ┆           ┆   ┆           ┆           ┆           ┆          │\n",
      "│ 021…      ┆           ┆ 021…      ┆           ┆   ┆           ┆           ┆           ┆          │\n",
      "│ ParlaMint ┆ LOC       ┆ ParlaMint ┆ poland    ┆ … ┆ M         ┆ 1972      ┆ CZ        ┆ PL       │\n",
      "│ -CZ_2023- ┆           ┆ -CZ_2023- ┆           ┆   ┆           ┆           ┆           ┆          │\n",
      "│ 06-14-ps2 ┆           ┆ 06-14-ps2 ┆           ┆   ┆           ┆           ┆           ┆          │\n",
      "│ 021…      ┆           ┆ 021…      ┆           ┆   ┆           ┆           ┆           ┆          │\n",
      "│ ParlaMint ┆ LOC       ┆ ParlaMint ┆ hungary   ┆ … ┆ M         ┆ 1972      ┆ CZ        ┆ HU       │\n",
      "│ -CZ_2023- ┆           ┆ -CZ_2023- ┆           ┆   ┆           ┆           ┆           ┆          │\n",
      "│ 06-14-ps2 ┆           ┆ 06-14-ps2 ┆           ┆   ┆           ┆           ┆           ┆          │\n",
      "│ 021…      ┆           ┆ 021…      ┆           ┆   ┆           ┆           ┆           ┆          │\n",
      "│ ParlaMint ┆ LOC       ┆ ParlaMint ┆ poland    ┆ … ┆ M         ┆ 1972      ┆ CZ        ┆ PL       │\n",
      "│ -CZ_2023- ┆           ┆ -CZ_2023- ┆           ┆   ┆           ┆           ┆           ┆          │\n",
      "│ 06-14-ps2 ┆           ┆ 06-14-ps2 ┆           ┆   ┆           ┆           ┆           ┆          │\n",
      "│ 021…      ┆           ┆ 021…      ┆           ┆   ┆           ┆           ┆           ┆          │\n",
      "│ ParlaMint ┆ LOC       ┆ ParlaMint ┆ hungary   ┆ … ┆ M         ┆ 1972      ┆ CZ        ┆ HU       │\n",
      "│ -CZ_2023- ┆           ┆ -CZ_2023- ┆           ┆   ┆           ┆           ┆           ┆          │\n",
      "│ 06-14-ps2 ┆           ┆ 06-14-ps2 ┆           ┆   ┆           ┆           ┆           ┆          │\n",
      "│ 021…      ┆           ┆ 021…      ┆           ┆   ┆           ┆           ┆           ┆          │\n",
      "└───────────┴───────────┴───────────┴───────────┴───┴───────────┴───────────┴───────────┴──────────┘\n"
     ]
    }
   ],
   "source": [
    "df = df.with_columns([\n",
    "    pl.col(\"entity\").map_elements(ne2cc_s, return_dtype=pl.String).alias(\"ReferredCountry\")\n",
    "])\n",
    "\n",
    "print(\n",
    "df.filter(pl.col(\"ReferredCountry\").is_null()).group_by(\"entity\").agg(pl.count()).sort(\"count\", descending=True)\n",
    ")\n",
    "df = df.filter(\n",
    "    pl.col(\"ReferredCountry\") != pl.col(\"ReferringCountry\")\n",
    ")\n",
    "\n",
    "print(df)"
   ]
  },
  {
   "cell_type": "code",
   "execution_count": 37,
   "id": "7e95db3e",
   "metadata": {},
   "outputs": [
    {
     "name": "stdout",
     "output_type": "stream",
     "text": [
      "shape: (214, 2)\n",
      "┌─────────────────┬───────┐\n",
      "│ ReferredCountry ┆ len   │\n",
      "│ ---             ┆ ---   │\n",
      "│ str             ┆ u32   │\n",
      "╞═════════════════╪═══════╡\n",
      "│ US              ┆ 98246 │\n",
      "│ DE              ┆ 84267 │\n",
      "│ RU              ┆ 81258 │\n",
      "│ UA              ┆ 60249 │\n",
      "│ XK              ┆ 48416 │\n",
      "│ FR              ┆ 44566 │\n",
      "│ SY              ┆ 39111 │\n",
      "│ CN              ┆ 37667 │\n",
      "│ SE              ┆ 35132 │\n",
      "│ GR              ┆ 34184 │\n",
      "│ …               ┆ …     │\n",
      "│ SX              ┆ 23    │\n",
      "│ CZ              ┆ 21    │\n",
      "│ SZ              ┆ 20    │\n",
      "│ SB              ┆ 15    │\n",
      "│ CD              ┆ 14    │\n",
      "│ AS              ┆ 11    │\n",
      "│ NU              ┆ 8     │\n",
      "│ FK              ┆ 6     │\n",
      "│ CX              ┆ 5     │\n",
      "│ NF              ┆ 1     │\n",
      "└─────────────────┴───────┘\n"
     ]
    }
   ],
   "source": [
    "print(df.group_by(\"ReferredCountry\").len().sort(\"len\", descending=True).filter())"
   ]
  },
  {
   "cell_type": "code",
   "execution_count": null,
   "id": "cf6591bc",
   "metadata": {},
   "outputs": [
    {
     "data": {
      "text/html": [
       "\n",
       "<style>\n",
       "  #altair-viz-0d1f3f063c74459fb4791feb6fc061b0.vega-embed {\n",
       "    width: 100%;\n",
       "    display: flex;\n",
       "  }\n",
       "\n",
       "  #altair-viz-0d1f3f063c74459fb4791feb6fc061b0.vega-embed details,\n",
       "  #altair-viz-0d1f3f063c74459fb4791feb6fc061b0.vega-embed details summary {\n",
       "    position: relative;\n",
       "  }\n",
       "</style>\n",
       "<div id=\"altair-viz-0d1f3f063c74459fb4791feb6fc061b0\"></div>\n",
       "<script type=\"text/javascript\">\n",
       "  var VEGA_DEBUG = (typeof VEGA_DEBUG == \"undefined\") ? {} : VEGA_DEBUG;\n",
       "  (function(spec, embedOpt){\n",
       "    let outputDiv = document.currentScript.previousElementSibling;\n",
       "    if (outputDiv.id !== \"altair-viz-0d1f3f063c74459fb4791feb6fc061b0\") {\n",
       "      outputDiv = document.getElementById(\"altair-viz-0d1f3f063c74459fb4791feb6fc061b0\");\n",
       "    }\n",
       "\n",
       "    const paths = {\n",
       "      \"vega\": \"https://cdn.jsdelivr.net/npm/vega@5?noext\",\n",
       "      \"vega-lib\": \"https://cdn.jsdelivr.net/npm/vega-lib?noext\",\n",
       "      \"vega-lite\": \"https://cdn.jsdelivr.net/npm/vega-lite@5.20.1?noext\",\n",
       "      \"vega-embed\": \"https://cdn.jsdelivr.net/npm/vega-embed@6?noext\",\n",
       "    };\n",
       "\n",
       "    function maybeLoadScript(lib, version) {\n",
       "      var key = `${lib.replace(\"-\", \"\")}_version`;\n",
       "      return (VEGA_DEBUG[key] == version) ?\n",
       "        Promise.resolve(paths[lib]) :\n",
       "        new Promise(function(resolve, reject) {\n",
       "          var s = document.createElement('script');\n",
       "          document.getElementsByTagName(\"head\")[0].appendChild(s);\n",
       "          s.async = true;\n",
       "          s.onload = () => {\n",
       "            VEGA_DEBUG[key] = version;\n",
       "            return resolve(paths[lib]);\n",
       "          };\n",
       "          s.onerror = () => reject(`Error loading script: ${paths[lib]}`);\n",
       "          s.src = paths[lib];\n",
       "        });\n",
       "    }\n",
       "\n",
       "    function showError(err) {\n",
       "      outputDiv.innerHTML = `<div class=\"error\" style=\"color:red;\">${err}</div>`;\n",
       "      throw err;\n",
       "    }\n",
       "\n",
       "    function displayChart(vegaEmbed) {\n",
       "      vegaEmbed(outputDiv, spec, embedOpt)\n",
       "        .catch(err => showError(`Javascript Error: ${err.message}<br>This usually means there's a typo in your chart specification. See the javascript console for the full traceback.`));\n",
       "    }\n",
       "\n",
       "    if(typeof define === \"function\" && define.amd) {\n",
       "      requirejs.config({paths});\n",
       "      let deps = [\"vega-embed\"];\n",
       "      require(deps, displayChart, err => showError(`Error loading script: ${err.message}`));\n",
       "    } else {\n",
       "      maybeLoadScript(\"vega\", \"5\")\n",
       "        .then(() => maybeLoadScript(\"vega-lite\", \"5.20.1\"))\n",
       "        .then(() => maybeLoadScript(\"vega-embed\", \"6\"))\n",
       "        .catch(showError)\n",
       "        .then(() => displayChart(vegaEmbed));\n",
       "    }\n",
       "  })({\"config\": {\"view\": {\"continuousWidth\": 300, \"continuousHeight\": 300}}, \"data\": {\"name\": \"data-4e862d32a5c1d4c2c49c7e419526371f\"}, \"mark\": {\"type\": \"line\", \"tooltip\": true}, \"encoding\": {\"color\": {\"field\": \"ReferringCountry\", \"type\": \"nominal\"}, \"x\": {\"field\": \"month_start\", \"type\": \"temporal\"}, \"y\": {\"field\": \"month_sum\", \"type\": \"quantitative\"}}, \"params\": [{\"name\": \"param_11\", \"select\": {\"type\": \"interval\", \"encodings\": [\"x\", \"y\"]}, \"bind\": \"scales\"}], \"width\": 500, \"$schema\": \"https://vega.github.io/schema/vega-lite/v5.20.1.json\", \"datasets\": {\"data-4e862d32a5c1d4c2c49c7e419526371f\": [{\"month_start\": \"2006-01-01T00:00:00\", \"ReferringCountry\": \"HR\", \"month_sum\": 3388}, {\"month_start\": \"2014-01-01T00:00:00\", \"ReferringCountry\": \"SI\", \"month_sum\": 1938}, {\"month_start\": \"2016-01-01T00:00:00\", \"ReferringCountry\": \"PT\", \"month_sum\": 1469}, {\"month_start\": \"2016-01-01T00:00:00\", \"ReferringCountry\": \"TR\", \"month_sum\": 12075}, {\"month_start\": \"2013-01-01T00:00:00\", \"ReferringCountry\": \"IT\", \"month_sum\": 1913}, {\"month_start\": \"2017-01-01T00:00:00\", \"ReferringCountry\": \"CZ\", \"month_sum\": 4987}, {\"month_start\": \"2021-01-01T00:00:00\", \"ReferringCountry\": \"EE\", \"month_sum\": 4915}, {\"month_start\": \"2007-01-01T00:00:00\", \"ReferringCountry\": \"UA\", \"month_sum\": 905}, {\"month_start\": \"2022-01-01T00:00:00\", \"ReferringCountry\": \"EE\", \"month_sum\": 7144}, {\"month_start\": \"2015-01-01T00:00:00\", \"ReferringCountry\": \"TR\", \"month_sum\": 4289}, {\"month_start\": \"2016-01-01T00:00:00\", \"ReferringCountry\": \"EE\", \"month_sum\": 4807}, {\"month_start\": \"2018-01-01T00:00:00\", \"ReferringCountry\": \"IT\", \"month_sum\": 1653}, {\"month_start\": \"2011-01-01T00:00:00\", \"ReferringCountry\": \"TR\", \"month_sum\": 3586}, {\"month_start\": \"2020-01-01T00:00:00\", \"ReferringCountry\": \"BE\", \"month_sum\": 9850}, {\"month_start\": \"2008-01-01T00:00:00\", \"ReferringCountry\": \"SI\", \"month_sum\": 2454}, {\"month_start\": \"2020-01-01T00:00:00\", \"ReferringCountry\": \"FR\", \"month_sum\": 5945}, {\"month_start\": \"2021-01-01T00:00:00\", \"ReferringCountry\": \"HR\", \"month_sum\": 6049}, {\"month_start\": \"2010-01-01T00:00:00\", \"ReferringCountry\": \"UA\", \"month_sum\": 1950}, {\"month_start\": \"2015-01-01T00:00:00\", \"ReferringCountry\": \"CZ\", \"month_sum\": 9708}, {\"month_start\": \"2017-01-01T00:00:00\", \"ReferringCountry\": \"IS\", \"month_sum\": 1934}, {\"month_start\": \"2003-01-01T00:00:00\", \"ReferringCountry\": \"NO\", \"month_sum\": 4829}, {\"month_start\": \"2012-01-01T00:00:00\", \"ReferringCountry\": \"EE\", \"month_sum\": 4353}, {\"month_start\": \"2004-01-01T00:00:00\", \"ReferringCountry\": \"AT\", \"month_sum\": 2131}, {\"month_start\": \"2022-01-01T00:00:00\", \"ReferringCountry\": \"HU\", \"month_sum\": 2774}, {\"month_start\": \"2020-01-01T00:00:00\", \"ReferringCountry\": \"SI\", \"month_sum\": 2617}, {\"month_start\": \"2018-01-01T00:00:00\", \"ReferringCountry\": \"BG\", \"month_sum\": 2160}, {\"month_start\": \"2017-01-01T00:00:00\", \"ReferringCountry\": \"UA\", \"month_sum\": 1844}, {\"month_start\": \"2020-01-01T00:00:00\", \"ReferringCountry\": \"FI\", \"month_sum\": 3541}, {\"month_start\": \"2017-01-01T00:00:00\", \"ReferringCountry\": \"SE\", \"month_sum\": 11666}, {\"month_start\": \"2007-01-01T00:00:00\", \"ReferringCountry\": \"RS\", \"month_sum\": 10756}, {\"month_start\": \"2019-01-01T00:00:00\", \"ReferringCountry\": \"TR\", \"month_sum\": 7246}, {\"month_start\": \"2017-01-01T00:00:00\", \"ReferringCountry\": \"ES\", \"month_sum\": 5215}, {\"month_start\": \"2020-01-01T00:00:00\", \"ReferringCountry\": \"ES\", \"month_sum\": 4078}, {\"month_start\": \"2015-01-01T00:00:00\", \"ReferringCountry\": \"BE\", \"month_sum\": 10442}, {\"month_start\": \"2019-01-01T00:00:00\", \"ReferringCountry\": \"SE\", \"month_sum\": 11359}, {\"month_start\": \"1999-01-01T00:00:00\", \"ReferringCountry\": \"AT\", \"month_sum\": 1949}, {\"month_start\": \"2017-01-01T00:00:00\", \"ReferringCountry\": \"AT\", \"month_sum\": 1954}, {\"month_start\": \"2003-01-01T00:00:00\", \"ReferringCountry\": \"SI\", \"month_sum\": 1327}, {\"month_start\": \"2017-01-01T00:00:00\", \"ReferringCountry\": \"HU\", \"month_sum\": 3538}, {\"month_start\": \"2018-01-01T00:00:00\", \"ReferringCountry\": \"ES\", \"month_sum\": 4970}, {\"month_start\": \"2018-01-01T00:00:00\", \"ReferringCountry\": \"SI\", \"month_sum\": 2357}, {\"month_start\": \"2014-01-01T00:00:00\", \"ReferringCountry\": \"CZ\", \"month_sum\": 7556}, {\"month_start\": \"2014-01-01T00:00:00\", \"ReferringCountry\": \"HR\", \"month_sum\": 4218}, {\"month_start\": \"2002-01-01T00:00:00\", \"ReferringCountry\": \"AT\", \"month_sum\": 1508}, {\"month_start\": \"2009-01-01T00:00:00\", \"ReferringCountry\": \"HR\", \"month_sum\": 3441}, {\"month_start\": \"2011-01-01T00:00:00\", \"ReferringCountry\": \"HR\", \"month_sum\": 2448}, {\"month_start\": \"2018-01-01T00:00:00\", \"ReferringCountry\": \"SE\", \"month_sum\": 10491}, {\"month_start\": \"2017-01-01T00:00:00\", \"ReferringCountry\": \"TR\", \"month_sum\": 7957}, {\"month_start\": \"2001-01-01T00:00:00\", \"ReferringCountry\": \"SI\", \"month_sum\": 1127}, {\"month_start\": \"2006-01-01T00:00:00\", \"ReferringCountry\": \"BA\", \"month_sum\": 392}, {\"month_start\": \"2009-01-01T00:00:00\", \"ReferringCountry\": \"NO\", \"month_sum\": 4380}, {\"month_start\": \"2013-01-01T00:00:00\", \"ReferringCountry\": \"UA\", \"month_sum\": 1196}, {\"month_start\": \"2017-01-01T00:00:00\", \"ReferringCountry\": \"HR\", \"month_sum\": 5636}, {\"month_start\": \"2018-01-01T00:00:00\", \"ReferringCountry\": \"RS\", \"month_sum\": 6038}, {\"month_start\": \"2016-01-01T00:00:00\", \"ReferringCountry\": \"GB\", \"month_sum\": 875}, {\"month_start\": \"2016-01-01T00:00:00\", \"ReferringCountry\": \"FI\", \"month_sum\": 4086}, {\"month_start\": \"2004-01-01T00:00:00\", \"ReferringCountry\": \"HR\", \"month_sum\": 2766}, {\"month_start\": \"2015-01-01T00:00:00\", \"ReferringCountry\": \"BA\", \"month_sum\": 709}, {\"month_start\": \"2003-01-01T00:00:00\", \"ReferringCountry\": \"HR\", \"month_sum\": 77}, {\"month_start\": \"1998-01-01T00:00:00\", \"ReferringCountry\": \"BA\", \"month_sum\": 9}, {\"month_start\": \"2010-01-01T00:00:00\", \"ReferringCountry\": \"BA\", \"month_sum\": 487}, {\"month_start\": \"2023-01-01T00:00:00\", \"ReferringCountry\": \"ES\", \"month_sum\": 595}, {\"month_start\": \"2022-01-01T00:00:00\", \"ReferringCountry\": \"GB\", \"month_sum\": 125}, {\"month_start\": \"1997-01-01T00:00:00\", \"ReferringCountry\": \"RS\", \"month_sum\": 26}, {\"month_start\": \"2021-01-01T00:00:00\", \"ReferringCountry\": \"NO\", \"month_sum\": 4077}, {\"month_start\": \"2017-01-01T00:00:00\", \"ReferringCountry\": \"BG\", \"month_sum\": 1207}, {\"month_start\": \"1999-01-01T00:00:00\", \"ReferringCountry\": \"NO\", \"month_sum\": 5215}, {\"month_start\": \"2023-01-01T00:00:00\", \"ReferringCountry\": \"CZ\", \"month_sum\": 8570}, {\"month_start\": \"2010-01-01T00:00:00\", \"ReferringCountry\": \"AT\", \"month_sum\": 3131}, {\"month_start\": \"2001-01-01T00:00:00\", \"ReferringCountry\": \"BA\", \"month_sum\": 260}, {\"month_start\": \"2016-01-01T00:00:00\", \"ReferringCountry\": \"IT\", \"month_sum\": 3493}, {\"month_start\": \"2021-01-01T00:00:00\", \"ReferringCountry\": \"SI\", \"month_sum\": 3296}, {\"month_start\": \"2011-01-01T00:00:00\", \"ReferringCountry\": \"SI\", \"month_sum\": 2605}, {\"month_start\": \"2013-01-01T00:00:00\", \"ReferringCountry\": \"AT\", \"month_sum\": 3258}, {\"month_start\": \"2019-01-01T00:00:00\", \"ReferringCountry\": \"HU\", \"month_sum\": 2732}, {\"month_start\": \"2014-01-01T00:00:00\", \"ReferringCountry\": \"UA\", \"month_sum\": 1243}, {\"month_start\": \"2021-01-01T00:00:00\", \"ReferringCountry\": \"IT\", \"month_sum\": 2883}, {\"month_start\": \"2013-01-01T00:00:00\", \"ReferringCountry\": \"HR\", \"month_sum\": 4188}, {\"month_start\": \"2019-01-01T00:00:00\", \"ReferringCountry\": \"ES\", \"month_sum\": 4152}, {\"month_start\": \"2020-01-01T00:00:00\", \"ReferringCountry\": \"BA\", \"month_sum\": 476}, {\"month_start\": \"2011-01-01T00:00:00\", \"ReferringCountry\": \"NO\", \"month_sum\": 6846}, {\"month_start\": \"2015-01-01T00:00:00\", \"ReferringCountry\": \"EE\", \"month_sum\": 4310}, {\"month_start\": \"2008-01-01T00:00:00\", \"ReferringCountry\": \"AT\", \"month_sum\": 1694}, {\"month_start\": \"2014-01-01T00:00:00\", \"ReferringCountry\": \"BG\", \"month_sum\": 615}, {\"month_start\": \"2005-01-01T00:00:00\", \"ReferringCountry\": \"UA\", \"month_sum\": 2612}, {\"month_start\": \"2007-01-01T00:00:00\", \"ReferringCountry\": \"AT\", \"month_sum\": 1826}, {\"month_start\": \"2010-01-01T00:00:00\", \"ReferringCountry\": \"HR\", \"month_sum\": 3374}, {\"month_start\": \"2021-01-01T00:00:00\", \"ReferringCountry\": \"FR\", \"month_sum\": 7290}, {\"month_start\": \"2016-01-01T00:00:00\", \"ReferringCountry\": \"HU\", \"month_sum\": 3419}, {\"month_start\": \"2021-01-01T00:00:00\", \"ReferringCountry\": \"PT\", \"month_sum\": 1655}, {\"month_start\": \"2015-01-01T00:00:00\", \"ReferringCountry\": \"AT\", \"month_sum\": 4185}, {\"month_start\": \"2017-01-01T00:00:00\", \"ReferringCountry\": \"RS\", \"month_sum\": 3703}, {\"month_start\": \"2017-01-01T00:00:00\", \"ReferringCountry\": \"PL\", \"month_sum\": 5845}, {\"month_start\": \"2006-01-01T00:00:00\", \"ReferringCountry\": \"AT\", \"month_sum\": 1803}, {\"month_start\": \"2009-01-01T00:00:00\", \"ReferringCountry\": \"BA\", \"month_sum\": 978}, {\"month_start\": \"2022-01-01T00:00:00\", \"ReferringCountry\": \"BG\", \"month_sum\": 2976}, {\"month_start\": \"2013-01-01T00:00:00\", \"ReferringCountry\": \"RS\", \"month_sum\": 6987}, {\"month_start\": \"2013-01-01T00:00:00\", \"ReferringCountry\": \"CZ\", \"month_sum\": 44}, {\"month_start\": \"1998-01-01T00:00:00\", \"ReferringCountry\": \"AT\", \"month_sum\": 3094}, {\"month_start\": \"2008-01-01T00:00:00\", \"ReferringCountry\": \"BA\", \"month_sum\": 765}, {\"month_start\": \"2015-01-01T00:00:00\", \"ReferringCountry\": \"UA\", \"month_sum\": 1447}, {\"month_start\": \"2015-01-01T00:00:00\", \"ReferringCountry\": \"GB\", \"month_sum\": 717}, {\"month_start\": \"2019-01-01T00:00:00\", \"ReferringCountry\": \"LV\", \"month_sum\": 1962}, {\"month_start\": \"2020-01-01T00:00:00\", \"ReferringCountry\": \"PL\", \"month_sum\": 3607}, {\"month_start\": \"2019-01-01T00:00:00\", \"ReferringCountry\": \"RS\", \"month_sum\": 10335}, {\"month_start\": \"2020-01-01T00:00:00\", \"ReferringCountry\": \"BG\", \"month_sum\": 2184}, {\"month_start\": \"2021-01-01T00:00:00\", \"ReferringCountry\": \"PL\", \"month_sum\": 4739}, {\"month_start\": \"2019-01-01T00:00:00\", \"ReferringCountry\": \"SI\", \"month_sum\": 2918}, {\"month_start\": \"2023-01-01T00:00:00\", \"ReferringCountry\": \"PT\", \"month_sum\": 3282}, {\"month_start\": \"2015-01-01T00:00:00\", \"ReferringCountry\": \"FI\", \"month_sum\": 2005}, {\"month_start\": \"2001-01-01T00:00:00\", \"ReferringCountry\": \"NO\", \"month_sum\": 4061}, {\"month_start\": \"2004-01-01T00:00:00\", \"ReferringCountry\": \"SI\", \"month_sum\": 2547}, {\"month_start\": \"2021-01-01T00:00:00\", \"ReferringCountry\": \"TR\", \"month_sum\": 7828}, {\"month_start\": \"2021-01-01T00:00:00\", \"ReferringCountry\": \"UA\", \"month_sum\": 1710}, {\"month_start\": \"2014-01-01T00:00:00\", \"ReferringCountry\": \"AT\", \"month_sum\": 3429}, {\"month_start\": \"2017-01-01T00:00:00\", \"ReferringCountry\": \"GB\", \"month_sum\": 742}, {\"month_start\": \"2015-01-01T00:00:00\", \"ReferringCountry\": \"HU\", \"month_sum\": 4711}, {\"month_start\": \"2015-01-01T00:00:00\", \"ReferringCountry\": \"HR\", \"month_sum\": 3487}, {\"month_start\": \"2022-01-01T00:00:00\", \"ReferringCountry\": \"DK\", \"month_sum\": 11254}, {\"month_start\": \"2018-01-01T00:00:00\", \"ReferringCountry\": \"LV\", \"month_sum\": 1204}, {\"month_start\": \"2002-01-01T00:00:00\", \"ReferringCountry\": \"SI\", \"month_sum\": 1313}, {\"month_start\": \"2015-01-01T00:00:00\", \"ReferringCountry\": \"GR\", \"month_sum\": 3291}, {\"month_start\": \"2018-01-01T00:00:00\", \"ReferringCountry\": \"FI\", \"month_sum\": 3269}, {\"month_start\": \"2022-01-01T00:00:00\", \"ReferringCountry\": \"TR\", \"month_sum\": 7603}, {\"month_start\": \"2022-01-01T00:00:00\", \"ReferringCountry\": \"IT\", \"month_sum\": 3120}, {\"month_start\": \"2019-01-01T00:00:00\", \"ReferringCountry\": \"UA\", \"month_sum\": 2405}, {\"month_start\": \"2017-01-01T00:00:00\", \"ReferringCountry\": \"FR\", \"month_sum\": 3005}, {\"month_start\": \"2014-01-01T00:00:00\", \"ReferringCountry\": \"NL\", \"month_sum\": 341}, {\"month_start\": \"2011-01-01T00:00:00\", \"ReferringCountry\": \"AT\", \"month_sum\": 4264}, {\"month_start\": \"2016-01-01T00:00:00\", \"ReferringCountry\": \"SI\", \"month_sum\": 5190}, {\"month_start\": \"2008-01-01T00:00:00\", \"ReferringCountry\": \"UA\", \"month_sum\": 1711}, {\"month_start\": \"2017-01-01T00:00:00\", \"ReferringCountry\": \"DK\", \"month_sum\": 11418}, {\"month_start\": \"2019-01-01T00:00:00\", \"ReferringCountry\": \"PL\", \"month_sum\": 3160}, {\"month_start\": \"2004-01-01T00:00:00\", \"ReferringCountry\": \"NO\", \"month_sum\": 4343}, {\"month_start\": \"2017-01-01T00:00:00\", \"ReferringCountry\": \"IT\", \"month_sum\": 3036}, {\"month_start\": \"2003-01-01T00:00:00\", \"ReferringCountry\": \"AT\", \"month_sum\": 2189}, {\"month_start\": \"2014-01-01T00:00:00\", \"ReferringCountry\": \"BE\", \"month_sum\": 1954}, {\"month_start\": \"2020-01-01T00:00:00\", \"ReferringCountry\": \"HR\", \"month_sum\": 6617}, {\"month_start\": \"1999-01-01T00:00:00\", \"ReferringCountry\": \"RS\", \"month_sum\": 634}, {\"month_start\": \"2021-01-01T00:00:00\", \"ReferringCountry\": \"RS\", \"month_sum\": 10430}, {\"month_start\": \"2010-01-01T00:00:00\", \"ReferringCountry\": \"RS\", \"month_sum\": 7290}, {\"month_start\": \"2015-01-01T00:00:00\", \"ReferringCountry\": \"NO\", \"month_sum\": 4644}, {\"month_start\": \"2016-01-01T00:00:00\", \"ReferringCountry\": \"LV\", \"month_sum\": 956}, {\"month_start\": \"2010-01-01T00:00:00\", \"ReferringCountry\": \"NO\", \"month_sum\": 6541}, {\"month_start\": \"2005-01-01T00:00:00\", \"ReferringCountry\": \"BA\", \"month_sum\": 697}, {\"month_start\": \"2021-01-01T00:00:00\", \"ReferringCountry\": \"AT\", \"month_sum\": 2479}, {\"month_start\": \"2014-01-01T00:00:00\", \"ReferringCountry\": \"HU\", \"month_sum\": 2228}, {\"month_start\": \"2006-01-01T00:00:00\", \"ReferringCountry\": \"SI\", \"month_sum\": 3175}, {\"month_start\": \"2015-01-01T00:00:00\", \"ReferringCountry\": \"RS\", \"month_sum\": 3509}, {\"month_start\": \"2018-01-01T00:00:00\", \"ReferringCountry\": \"UA\", \"month_sum\": 2584}, {\"month_start\": \"2021-01-01T00:00:00\", \"ReferringCountry\": \"GB\", \"month_sum\": 212}, {\"month_start\": \"2019-01-01T00:00:00\", \"ReferringCountry\": \"DK\", \"month_sum\": 7603}, {\"month_start\": \"2002-01-01T00:00:00\", \"ReferringCountry\": \"BA\", \"month_sum\": 380}, {\"month_start\": \"2005-01-01T00:00:00\", \"ReferringCountry\": \"AT\", \"month_sum\": 2249}, {\"month_start\": \"2002-01-01T00:00:00\", \"ReferringCountry\": \"RS\", \"month_sum\": 2723}, {\"month_start\": \"2012-01-01T00:00:00\", \"ReferringCountry\": \"BA\", \"month_sum\": 384}, {\"month_start\": \"2011-01-01T00:00:00\", \"ReferringCountry\": \"EE\", \"month_sum\": 2086}, {\"month_start\": \"2012-01-01T00:00:00\", \"ReferringCountry\": \"AT\", \"month_sum\": 3835}, {\"month_start\": \"2020-01-01T00:00:00\", \"ReferringCountry\": \"HU\", \"month_sum\": 3846}, {\"month_start\": \"2012-01-01T00:00:00\", \"ReferringCountry\": \"TR\", \"month_sum\": 8798}, {\"month_start\": \"2016-01-01T00:00:00\", \"ReferringCountry\": \"PL\", \"month_sum\": 7794}, {\"month_start\": \"2022-01-01T00:00:00\", \"ReferringCountry\": \"BE\", \"month_sum\": 10015}, {\"month_start\": \"2019-01-01T00:00:00\", \"ReferringCountry\": \"HR\", \"month_sum\": 7654}, {\"month_start\": \"2020-01-01T00:00:00\", \"ReferringCountry\": \"PT\", \"month_sum\": 1158}, {\"month_start\": \"2015-01-01T00:00:00\", \"ReferringCountry\": \"BG\", \"month_sum\": 3681}, {\"month_start\": \"2022-01-01T00:00:00\", \"ReferringCountry\": \"NL\", \"month_sum\": 7643}, {\"month_start\": \"2003-01-01T00:00:00\", \"ReferringCountry\": \"BA\", \"month_sum\": 655}, {\"month_start\": \"2021-01-01T00:00:00\", \"ReferringCountry\": \"LV\", \"month_sum\": 2340}, {\"month_start\": \"2019-01-01T00:00:00\", \"ReferringCountry\": \"IT\", \"month_sum\": 3274}, {\"month_start\": \"1998-01-01T00:00:00\", \"ReferringCountry\": \"RS\", \"month_sum\": 1127}, {\"month_start\": \"2018-01-01T00:00:00\", \"ReferringCountry\": \"FR\", \"month_sum\": 9430}, {\"month_start\": \"2013-01-01T00:00:00\", \"ReferringCountry\": \"SI\", \"month_sum\": 2348}, {\"month_start\": \"2016-01-01T00:00:00\", \"ReferringCountry\": \"AT\", \"month_sum\": 3188}, {\"month_start\": \"2009-01-01T00:00:00\", \"ReferringCountry\": \"SI\", \"month_sum\": 2671}, {\"month_start\": \"2018-01-01T00:00:00\", \"ReferringCountry\": \"NO\", \"month_sum\": 4124}, {\"month_start\": \"2017-01-01T00:00:00\", \"ReferringCountry\": \"NO\", \"month_sum\": 4285}, {\"month_start\": \"2004-01-01T00:00:00\", \"ReferringCountry\": \"RS\", \"month_sum\": 4323}, {\"month_start\": \"2023-01-01T00:00:00\", \"ReferringCountry\": \"UA\", \"month_sum\": 1192}, {\"month_start\": \"2020-01-01T00:00:00\", \"ReferringCountry\": \"DK\", \"month_sum\": 11172}, {\"month_start\": \"2021-01-01T00:00:00\", \"ReferringCountry\": \"FI\", \"month_sum\": 3371}, {\"month_start\": \"2015-01-01T00:00:00\", \"ReferringCountry\": \"SE\", \"month_sum\": 3028}, {\"month_start\": \"2020-01-01T00:00:00\", \"ReferringCountry\": \"CZ\", \"month_sum\": 8208}, {\"month_start\": \"2000-01-01T00:00:00\", \"ReferringCountry\": \"AT\", \"month_sum\": 1885}, {\"month_start\": \"2007-01-01T00:00:00\", \"ReferringCountry\": \"SI\", \"month_sum\": 1780}, {\"month_start\": \"2011-01-01T00:00:00\", \"ReferringCountry\": \"UA\", \"month_sum\": 2024}, {\"month_start\": \"2020-01-01T00:00:00\", \"ReferringCountry\": \"AT\", \"month_sum\": 2277}, {\"month_start\": \"2005-01-01T00:00:00\", \"ReferringCountry\": \"HR\", \"month_sum\": 3044}, {\"month_start\": \"2020-01-01T00:00:00\", \"ReferringCountry\": \"UA\", \"month_sum\": 1154}, {\"month_start\": \"2017-01-01T00:00:00\", \"ReferringCountry\": \"NL\", \"month_sum\": 8720}, {\"month_start\": \"2017-01-01T00:00:00\", \"ReferringCountry\": \"GR\", \"month_sum\": 3862}, {\"month_start\": \"2016-01-01T00:00:00\", \"ReferringCountry\": \"UA\", \"month_sum\": 1966}, {\"month_start\": \"2021-01-01T00:00:00\", \"ReferringCountry\": \"HU\", \"month_sum\": 2578}, {\"month_start\": \"2003-01-01T00:00:00\", \"ReferringCountry\": \"UA\", \"month_sum\": 3077}, {\"month_start\": \"2019-01-01T00:00:00\", \"ReferringCountry\": \"NO\", \"month_sum\": 3884}, {\"month_start\": \"2003-01-01T00:00:00\", \"ReferringCountry\": \"RS\", \"month_sum\": 4217}, {\"month_start\": \"2018-01-01T00:00:00\", \"ReferringCountry\": \"DK\", \"month_sum\": 10973}, {\"month_start\": \"2000-01-01T00:00:00\", \"ReferringCountry\": \"BA\", \"month_sum\": 152}, {\"month_start\": \"2005-01-01T00:00:00\", \"ReferringCountry\": \"SI\", \"month_sum\": 1847}, {\"month_start\": \"2013-01-01T00:00:00\", \"ReferringCountry\": \"NO\", \"month_sum\": 4368}, {\"month_start\": \"2021-01-01T00:00:00\", \"ReferringCountry\": \"BG\", \"month_sum\": 1124}, {\"month_start\": \"2022-01-01T00:00:00\", \"ReferringCountry\": \"FI\", \"month_sum\": 7}, {\"month_start\": \"2022-01-01T00:00:00\", \"ReferringCountry\": \"SE\", \"month_sum\": 12730}, {\"month_start\": \"2022-01-01T00:00:00\", \"ReferringCountry\": \"FR\", \"month_sum\": 2947}, {\"month_start\": \"2012-01-01T00:00:00\", \"ReferringCountry\": \"RS\", \"month_sum\": 2620}, {\"month_start\": \"2023-01-01T00:00:00\", \"ReferringCountry\": \"HU\", \"month_sum\": 3269}, {\"month_start\": \"2019-01-01T00:00:00\", \"ReferringCountry\": \"FI\", \"month_sum\": 2151}, {\"month_start\": \"2009-01-01T00:00:00\", \"ReferringCountry\": \"UA\", \"month_sum\": 1482}, {\"month_start\": \"2019-01-01T00:00:00\", \"ReferringCountry\": \"BA\", \"month_sum\": 83}, {\"month_start\": \"2019-01-01T00:00:00\", \"ReferringCountry\": \"GR\", \"month_sum\": 5194}, {\"month_start\": \"2020-01-01T00:00:00\", \"ReferringCountry\": \"RS\", \"month_sum\": 4914}, {\"month_start\": \"2000-01-01T00:00:00\", \"ReferringCountry\": \"NO\", \"month_sum\": 4048}, {\"month_start\": \"2015-01-01T00:00:00\", \"ReferringCountry\": \"DK\", \"month_sum\": 10626}, {\"month_start\": \"2006-01-01T00:00:00\", \"ReferringCountry\": \"RS\", \"month_sum\": 3721}, {\"month_start\": \"2016-01-01T00:00:00\", \"ReferringCountry\": \"DK\", \"month_sum\": 15942}, {\"month_start\": \"2000-01-01T00:00:00\", \"ReferringCountry\": \"SI\", \"month_sum\": 79}, {\"month_start\": \"2016-01-01T00:00:00\", \"ReferringCountry\": \"GR\", \"month_sum\": 4725}, {\"month_start\": \"2018-01-01T00:00:00\", \"ReferringCountry\": \"PL\", \"month_sum\": 4682}, {\"month_start\": \"2013-01-01T00:00:00\", \"ReferringCountry\": \"EE\", \"month_sum\": 2875}, {\"month_start\": \"2020-01-01T00:00:00\", \"ReferringCountry\": \"LV\", \"month_sum\": 2369}, {\"month_start\": \"2014-01-01T00:00:00\", \"ReferringCountry\": \"IT\", \"month_sum\": 3957}, {\"month_start\": \"2017-01-01T00:00:00\", \"ReferringCountry\": \"BE\", \"month_sum\": 9713}, {\"month_start\": \"2008-01-01T00:00:00\", \"ReferringCountry\": \"NO\", \"month_sum\": 4758}, {\"month_start\": \"2021-01-01T00:00:00\", \"ReferringCountry\": \"BE\", \"month_sum\": 12475}, {\"month_start\": \"2022-01-01T00:00:00\", \"ReferringCountry\": \"CZ\", \"month_sum\": 14192}, {\"month_start\": \"2007-01-01T00:00:00\", \"ReferringCountry\": \"HR\", \"month_sum\": 1833}, {\"month_start\": \"2018-01-01T00:00:00\", \"ReferringCountry\": \"CZ\", \"month_sum\": 6904}, {\"month_start\": \"2021-01-01T00:00:00\", \"ReferringCountry\": \"IS\", \"month_sum\": 3521}, {\"month_start\": \"2021-01-01T00:00:00\", \"ReferringCountry\": \"BA\", \"month_sum\": 676}, {\"month_start\": \"2004-01-01T00:00:00\", \"ReferringCountry\": \"UA\", \"month_sum\": 2581}, {\"month_start\": \"2017-01-01T00:00:00\", \"ReferringCountry\": \"LV\", \"month_sum\": 1340}, {\"month_start\": \"2018-01-01T00:00:00\", \"ReferringCountry\": \"TR\", \"month_sum\": 6325}, {\"month_start\": \"2017-01-01T00:00:00\", \"ReferringCountry\": \"SI\", \"month_sum\": 3515}, {\"month_start\": \"2018-01-01T00:00:00\", \"ReferringCountry\": \"BE\", \"month_sum\": 8020}, {\"month_start\": \"2019-01-01T00:00:00\", \"ReferringCountry\": \"AT\", \"month_sum\": 1507}, {\"month_start\": \"2012-01-01T00:00:00\", \"ReferringCountry\": \"SI\", \"month_sum\": 1865}, {\"month_start\": \"2022-01-01T00:00:00\", \"ReferringCountry\": \"AT\", \"month_sum\": 3200}, {\"month_start\": \"2017-01-01T00:00:00\", \"ReferringCountry\": \"BA\", \"month_sum\": 797}, {\"month_start\": \"2008-01-01T00:00:00\", \"ReferringCountry\": \"HR\", \"month_sum\": 3438}, {\"month_start\": \"2018-01-01T00:00:00\", \"ReferringCountry\": \"EE\", \"month_sum\": 3171}, {\"month_start\": \"2020-01-01T00:00:00\", \"ReferringCountry\": \"EE\", \"month_sum\": 3075}, {\"month_start\": \"2017-01-01T00:00:00\", \"ReferringCountry\": \"EE\", \"month_sum\": 3667}, {\"month_start\": \"2016-01-01T00:00:00\", \"ReferringCountry\": \"BG\", \"month_sum\": 3305}, {\"month_start\": \"2018-01-01T00:00:00\", \"ReferringCountry\": \"NL\", \"month_sum\": 9808}, {\"month_start\": \"2021-01-01T00:00:00\", \"ReferringCountry\": \"SE\", \"month_sum\": 16605}, {\"month_start\": \"2014-01-01T00:00:00\", \"ReferringCountry\": \"NO\", \"month_sum\": 5687}, {\"month_start\": \"2019-01-01T00:00:00\", \"ReferringCountry\": \"NL\", \"month_sum\": 9181}, {\"month_start\": \"2022-01-01T00:00:00\", \"ReferringCountry\": \"ES\", \"month_sum\": 7715}, {\"month_start\": \"2002-01-01T00:00:00\", \"ReferringCountry\": \"UA\", \"month_sum\": 1001}, {\"month_start\": \"1996-01-01T00:00:00\", \"ReferringCountry\": \"AT\", \"month_sum\": 2857}, {\"month_start\": \"1997-01-01T00:00:00\", \"ReferringCountry\": \"AT\", \"month_sum\": 2694}, {\"month_start\": \"2016-01-01T00:00:00\", \"ReferringCountry\": \"NO\", \"month_sum\": 4189}, {\"month_start\": \"2020-01-01T00:00:00\", \"ReferringCountry\": \"GB\", \"month_sum\": 407}, {\"month_start\": \"2021-01-01T00:00:00\", \"ReferringCountry\": \"ES\", \"month_sum\": 4881}, {\"month_start\": \"2004-01-01T00:00:00\", \"ReferringCountry\": \"BA\", \"month_sum\": 669}, {\"month_start\": \"2009-01-01T00:00:00\", \"ReferringCountry\": \"AT\", \"month_sum\": 2338}, {\"month_start\": \"2018-01-01T00:00:00\", \"ReferringCountry\": \"BA\", \"month_sum\": 528}, {\"month_start\": \"2016-01-01T00:00:00\", \"ReferringCountry\": \"BA\", \"month_sum\": 636}, {\"month_start\": \"2021-01-01T00:00:00\", \"ReferringCountry\": \"NL\", \"month_sum\": 8318}, {\"month_start\": \"2008-01-01T00:00:00\", \"ReferringCountry\": \"RS\", \"month_sum\": 7476}, {\"month_start\": \"2022-01-01T00:00:00\", \"ReferringCountry\": \"LV\", \"month_sum\": 3233}, {\"month_start\": \"2020-01-01T00:00:00\", \"ReferringCountry\": \"SE\", \"month_sum\": 14258}, {\"month_start\": \"2018-01-01T00:00:00\", \"ReferringCountry\": \"PT\", \"month_sum\": 1519}, {\"month_start\": \"2016-01-01T00:00:00\", \"ReferringCountry\": \"RS\", \"month_sum\": 3706}, {\"month_start\": \"2020-01-01T00:00:00\", \"ReferringCountry\": \"GR\", \"month_sum\": 9516}, {\"month_start\": \"1998-01-01T00:00:00\", \"ReferringCountry\": \"NO\", \"month_sum\": 826}, {\"month_start\": \"2013-01-01T00:00:00\", \"ReferringCountry\": \"BA\", \"month_sum\": 644}, {\"month_start\": \"2024-01-01T00:00:00\", \"ReferringCountry\": \"PT\", \"month_sum\": 414}, {\"month_start\": \"2022-01-01T00:00:00\", \"ReferringCountry\": \"HR\", \"month_sum\": 8588}, {\"month_start\": \"2022-01-01T00:00:00\", \"ReferringCountry\": \"IS\", \"month_sum\": 3515}, {\"month_start\": \"2019-01-01T00:00:00\", \"ReferringCountry\": \"CZ\", \"month_sum\": 6272}, {\"month_start\": \"2015-01-01T00:00:00\", \"ReferringCountry\": \"NL\", \"month_sum\": 11597}, {\"month_start\": \"2020-01-01T00:00:00\", \"ReferringCountry\": \"TR\", \"month_sum\": 10465}, {\"month_start\": \"2017-01-01T00:00:00\", \"ReferringCountry\": \"FI\", \"month_sum\": 3117}, {\"month_start\": \"2006-01-01T00:00:00\", \"ReferringCountry\": \"NO\", \"month_sum\": 4467}, {\"month_start\": \"2019-01-01T00:00:00\", \"ReferringCountry\": \"GB\", \"month_sum\": 282}, {\"month_start\": \"2014-01-01T00:00:00\", \"ReferringCountry\": \"TR\", \"month_sum\": 7872}, {\"month_start\": \"2015-01-01T00:00:00\", \"ReferringCountry\": \"IT\", \"month_sum\": 3920}, {\"month_start\": \"2009-01-01T00:00:00\", \"ReferringCountry\": \"RS\", \"month_sum\": 9226}, {\"month_start\": \"2020-01-01T00:00:00\", \"ReferringCountry\": \"IS\", \"month_sum\": 3030}, {\"month_start\": \"2002-01-01T00:00:00\", \"ReferringCountry\": \"NO\", \"month_sum\": 3921}, {\"month_start\": \"2007-01-01T00:00:00\", \"ReferringCountry\": \"NO\", \"month_sum\": 4439}, {\"month_start\": \"2022-01-01T00:00:00\", \"ReferringCountry\": \"RS\", \"month_sum\": 266}, {\"month_start\": \"2012-01-01T00:00:00\", \"ReferringCountry\": \"UA\", \"month_sum\": 1327}, {\"month_start\": \"2015-01-01T00:00:00\", \"ReferringCountry\": \"SI\", \"month_sum\": 4590}, {\"month_start\": \"2018-01-01T00:00:00\", \"ReferringCountry\": \"HR\", \"month_sum\": 6268}, {\"month_start\": \"2020-01-01T00:00:00\", \"ReferringCountry\": \"IT\", \"month_sum\": 2879}, {\"month_start\": \"2022-01-01T00:00:00\", \"ReferringCountry\": \"GR\", \"month_sum\": 768}, {\"month_start\": \"2001-01-01T00:00:00\", \"ReferringCountry\": \"RS\", \"month_sum\": 4460}, {\"month_start\": \"2022-01-01T00:00:00\", \"ReferringCountry\": \"SI\", \"month_sum\": 1191}, {\"month_start\": \"2016-01-01T00:00:00\", \"ReferringCountry\": \"ES\", \"month_sum\": 4003}, {\"month_start\": \"2021-01-01T00:00:00\", \"ReferringCountry\": \"DK\", \"month_sum\": 13278}, {\"month_start\": \"2016-01-01T00:00:00\", \"ReferringCountry\": \"HR\", \"month_sum\": 2964}, {\"month_start\": \"2001-01-01T00:00:00\", \"ReferringCountry\": \"AT\", \"month_sum\": 1809}, {\"month_start\": \"2018-01-01T00:00:00\", \"ReferringCountry\": \"GR\", \"month_sum\": 3629}, {\"month_start\": \"2007-01-01T00:00:00\", \"ReferringCountry\": \"BA\", \"month_sum\": 622}, {\"month_start\": \"2015-01-01T00:00:00\", \"ReferringCountry\": \"LV\", \"month_sum\": 869}, {\"month_start\": \"2011-01-01T00:00:00\", \"ReferringCountry\": \"RS\", \"month_sum\": 7885}, {\"month_start\": \"2000-01-01T00:00:00\", \"ReferringCountry\": \"RS\", \"month_sum\": 140}, {\"month_start\": \"2016-01-01T00:00:00\", \"ReferringCountry\": \"NL\", \"month_sum\": 12077}, {\"month_start\": \"2015-01-01T00:00:00\", \"ReferringCountry\": \"ES\", \"month_sum\": 6206}, {\"month_start\": \"2016-01-01T00:00:00\", \"ReferringCountry\": \"CZ\", \"month_sum\": 8802}, {\"month_start\": \"2019-01-01T00:00:00\", \"ReferringCountry\": \"BG\", \"month_sum\": 2194}, {\"month_start\": \"2019-01-01T00:00:00\", \"ReferringCountry\": \"FR\", \"month_sum\": 9395}, {\"month_start\": \"2018-01-01T00:00:00\", \"ReferringCountry\": \"GB\", \"month_sum\": 858}, {\"month_start\": \"2022-01-01T00:00:00\", \"ReferringCountry\": \"PT\", \"month_sum\": 2832}, {\"month_start\": \"2018-01-01T00:00:00\", \"ReferringCountry\": \"IS\", \"month_sum\": 2782}, {\"month_start\": \"2014-01-01T00:00:00\", \"ReferringCountry\": \"BA\", \"month_sum\": 343}, {\"month_start\": \"2013-01-01T00:00:00\", \"ReferringCountry\": \"TR\", \"month_sum\": 8077}, {\"month_start\": \"2015-01-01T00:00:00\", \"ReferringCountry\": \"PT\", \"month_sum\": 1521}, {\"month_start\": \"2019-01-01T00:00:00\", \"ReferringCountry\": \"IS\", \"month_sum\": 4876}, {\"month_start\": \"2022-01-01T00:00:00\", \"ReferringCountry\": \"UA\", \"month_sum\": 1322}, {\"month_start\": \"2005-01-01T00:00:00\", \"ReferringCountry\": \"RS\", \"month_sum\": 4802}, {\"month_start\": \"2005-01-01T00:00:00\", \"ReferringCountry\": \"NO\", \"month_sum\": 3851}, {\"month_start\": \"2016-01-01T00:00:00\", \"ReferringCountry\": \"SE\", \"month_sum\": 15200}, {\"month_start\": \"2014-01-01T00:00:00\", \"ReferringCountry\": \"DK\", \"month_sum\": 2256}, {\"month_start\": \"2014-01-01T00:00:00\", \"ReferringCountry\": \"LV\", \"month_sum\": 152}, {\"month_start\": \"2020-01-01T00:00:00\", \"ReferringCountry\": \"NL\", \"month_sum\": 8677}, {\"month_start\": \"2019-01-01T00:00:00\", \"ReferringCountry\": \"BE\", \"month_sum\": 4642}, {\"month_start\": \"2015-01-01T00:00:00\", \"ReferringCountry\": \"IS\", \"month_sum\": 3886}, {\"month_start\": \"2014-01-01T00:00:00\", \"ReferringCountry\": \"RS\", \"month_sum\": 2845}, {\"month_start\": \"2010-01-01T00:00:00\", \"ReferringCountry\": \"SI\", \"month_sum\": 3919}, {\"month_start\": \"2011-01-01T00:00:00\", \"ReferringCountry\": \"BA\", \"month_sum\": 407}, {\"month_start\": \"2006-01-01T00:00:00\", \"ReferringCountry\": \"UA\", \"month_sum\": 1750}, {\"month_start\": \"2019-01-01T00:00:00\", \"ReferringCountry\": \"EE\", \"month_sum\": 2155}, {\"month_start\": \"2022-01-01T00:00:00\", \"ReferringCountry\": \"NO\", \"month_sum\": 3841}, {\"month_start\": \"2016-01-01T00:00:00\", \"ReferringCountry\": \"BE\", \"month_sum\": 9925}, {\"month_start\": \"2016-01-01T00:00:00\", \"ReferringCountry\": \"IS\", \"month_sum\": 3134}, {\"month_start\": \"2021-01-01T00:00:00\", \"ReferringCountry\": \"CZ\", \"month_sum\": 4711}, {\"month_start\": \"2012-01-01T00:00:00\", \"ReferringCountry\": \"HR\", \"month_sum\": 2704}, {\"month_start\": \"2014-01-01T00:00:00\", \"ReferringCountry\": \"EE\", \"month_sum\": 4193}, {\"month_start\": \"2018-01-01T00:00:00\", \"ReferringCountry\": \"AT\", \"month_sum\": 2244}, {\"month_start\": \"2020-01-01T00:00:00\", \"ReferringCountry\": \"NO\", \"month_sum\": 3502}, {\"month_start\": \"2015-01-01T00:00:00\", \"ReferringCountry\": \"PL\", \"month_sum\": 672}, {\"month_start\": \"2012-01-01T00:00:00\", \"ReferringCountry\": \"NO\", \"month_sum\": 5123}, {\"month_start\": \"1999-01-01T00:00:00\", \"ReferringCountry\": \"BA\", \"month_sum\": 232}, {\"month_start\": \"2022-01-01T00:00:00\", \"ReferringCountry\": \"PL\", \"month_sum\": 6184}, {\"month_start\": \"2018-01-01T00:00:00\", \"ReferringCountry\": \"HU\", \"month_sum\": 2602}, {\"month_start\": \"2021-01-01T00:00:00\", \"ReferringCountry\": \"GR\", \"month_sum\": 8256}, {\"month_start\": \"2022-01-01T00:00:00\", \"ReferringCountry\": \"BA\", \"month_sum\": 471}, {\"month_start\": \"2017-01-01T00:00:00\", \"ReferringCountry\": \"PT\", \"month_sum\": 1565}, {\"month_start\": \"2019-01-01T00:00:00\", \"ReferringCountry\": \"PT\", \"month_sum\": 1237}]}}, {\"mode\": \"vega-lite\"});\n",
       "</script>"
      ],
      "text/plain": [
       "alt.Chart(...)"
      ]
     },
     "execution_count": 38,
     "metadata": {},
     "output_type": "execute_result"
    }
   ],
   "source": [
    "alt.data_transformers.disable_max_rows()\n",
    "\n",
    "df_yearly = df.group_by(\"ReferringCountry\", \"Date\").len().sort(\"Date\", descending=False)\n",
    "df_yearly = df_yearly.with_columns(\n",
    "    pl.col(\"Date\").dt.truncate(\"1y\").alias(\"year_start\")\n",
    ")\n",
    "\n",
    "df_yearly = df_yearly.group_by(\"year_start\", \"ReferringCountry\").agg([\n",
    "    pl.col(\"len\").sum().alias(\"year_sum\")])\n",
    "df_yearly.plot.line(x=\"year_start\", y=\"year_sum\", color=\"ReferringCountry\" ).properties(width=500)"
   ]
  },
  {
   "cell_type": "code",
   "execution_count": 39,
   "id": "fe3aa05f",
   "metadata": {},
   "outputs": [
    {
     "data": {
      "text/html": [
       "<div><style>\n",
       ".dataframe > thead > tr,\n",
       ".dataframe > tbody > tr {\n",
       "  text-align: right;\n",
       "  white-space: pre-wrap;\n",
       "}\n",
       "</style>\n",
       "<small>shape: (4_479, 3)</small><table border=\"1\" class=\"dataframe\"><thead><tr><th>ReferringCountry</th><th>ReferredCountry</th><th>len</th></tr><tr><td>str</td><td>str</td><td>u32</td></tr></thead><tbody><tr><td>&quot;RS&quot;</td><td>&quot;XK&quot;</td><td>40588</td></tr><tr><td>&quot;DK&quot;</td><td>&quot;GL&quot;</td><td>20248</td></tr><tr><td>&quot;TR&quot;</td><td>&quot;SY&quot;</td><td>12581</td></tr><tr><td>&quot;RS&quot;</td><td>&quot;ME&quot;</td><td>11041</td></tr><tr><td>&quot;CZ&quot;</td><td>&quot;UA&quot;</td><td>10945</td></tr><tr><td>&quot;NO&quot;</td><td>&quot;SE&quot;</td><td>10889</td></tr><tr><td>&quot;NO&quot;</td><td>&quot;US&quot;</td><td>10465</td></tr><tr><td>&quot;AT&quot;</td><td>&quot;DE&quot;</td><td>10322</td></tr><tr><td>&quot;UA&quot;</td><td>&quot;RU&quot;</td><td>8781</td></tr><tr><td>&quot;SE&quot;</td><td>&quot;RU&quot;</td><td>8726</td></tr><tr><td>&hellip;</td><td>&hellip;</td><td>&hellip;</td></tr><tr><td>&quot;EE&quot;</td><td>&quot;KY&quot;</td><td>1</td></tr><tr><td>&quot;IS&quot;</td><td>&quot;SD&quot;</td><td>1</td></tr><tr><td>&quot;UA&quot;</td><td>&quot;SS&quot;</td><td>1</td></tr><tr><td>&quot;UA&quot;</td><td>&quot;JM&quot;</td><td>1</td></tr><tr><td>&quot;NO&quot;</td><td>&quot;VG&quot;</td><td>1</td></tr><tr><td>&quot;CZ&quot;</td><td>&quot;FO&quot;</td><td>1</td></tr><tr><td>&quot;IS&quot;</td><td>&quot;BW&quot;</td><td>1</td></tr><tr><td>&quot;FR&quot;</td><td>&quot;SM&quot;</td><td>1</td></tr><tr><td>&quot;BA&quot;</td><td>&quot;KH&quot;</td><td>1</td></tr><tr><td>&quot;LV&quot;</td><td>&quot;ER&quot;</td><td>1</td></tr></tbody></table></div>"
      ],
      "text/plain": [
       "shape: (4_479, 3)\n",
       "┌──────────────────┬─────────────────┬───────┐\n",
       "│ ReferringCountry ┆ ReferredCountry ┆ len   │\n",
       "│ ---              ┆ ---             ┆ ---   │\n",
       "│ str              ┆ str             ┆ u32   │\n",
       "╞══════════════════╪═════════════════╪═══════╡\n",
       "│ RS               ┆ XK              ┆ 40588 │\n",
       "│ DK               ┆ GL              ┆ 20248 │\n",
       "│ TR               ┆ SY              ┆ 12581 │\n",
       "│ RS               ┆ ME              ┆ 11041 │\n",
       "│ CZ               ┆ UA              ┆ 10945 │\n",
       "│ NO               ┆ SE              ┆ 10889 │\n",
       "│ NO               ┆ US              ┆ 10465 │\n",
       "│ AT               ┆ DE              ┆ 10322 │\n",
       "│ UA               ┆ RU              ┆ 8781  │\n",
       "│ SE               ┆ RU              ┆ 8726  │\n",
       "│ …                ┆ …               ┆ …     │\n",
       "│ EE               ┆ KY              ┆ 1     │\n",
       "│ IS               ┆ SD              ┆ 1     │\n",
       "│ UA               ┆ SS              ┆ 1     │\n",
       "│ UA               ┆ JM              ┆ 1     │\n",
       "│ NO               ┆ VG              ┆ 1     │\n",
       "│ CZ               ┆ FO              ┆ 1     │\n",
       "│ IS               ┆ BW              ┆ 1     │\n",
       "│ FR               ┆ SM              ┆ 1     │\n",
       "│ BA               ┆ KH              ┆ 1     │\n",
       "│ LV               ┆ ER              ┆ 1     │\n",
       "└──────────────────┴─────────────────┴───────┘"
      ]
     },
     "execution_count": 39,
     "metadata": {},
     "output_type": "execute_result"
    }
   ],
   "source": [
    "df.group_by(\"ReferringCountry\", \"ReferredCountry\").len().sort(\"len\", descending=True)\n"
   ]
  },
  {
   "cell_type": "code",
   "execution_count": 40,
   "id": "73262d95",
   "metadata": {},
   "outputs": [
    {
     "data": {
      "text/html": [
       "<div><style>\n",
       ".dataframe > thead > tr,\n",
       ".dataframe > tbody > tr {\n",
       "  text-align: right;\n",
       "  white-space: pre-wrap;\n",
       "}\n",
       "</style>\n",
       "<small>shape: (26, 3)</small><table border=\"1\" class=\"dataframe\"><thead><tr><th>ReferringCountry</th><th>ReferredCountry</th><th>len</th></tr><tr><td>str</td><td>str</td><td>u32</td></tr></thead><tbody><tr><td>&quot;GB&quot;</td><td>&quot;LY&quot;</td><td>1883</td></tr><tr><td>&quot;GB&quot;</td><td>&quot;SS&quot;</td><td>666</td></tr><tr><td>&quot;GB&quot;</td><td>&quot;JE&quot;</td><td>276</td></tr><tr><td>&quot;GB&quot;</td><td>&quot;BM&quot;</td><td>267</td></tr><tr><td>&quot;GB&quot;</td><td>&quot;KY&quot;</td><td>246</td></tr><tr><td>&quot;GB&quot;</td><td>&quot;GG&quot;</td><td>221</td></tr><tr><td>&quot;GB&quot;</td><td>&quot;AI&quot;</td><td>167</td></tr><tr><td>&quot;GB&quot;</td><td>&quot;FO&quot;</td><td>113</td></tr><tr><td>&quot;GB&quot;</td><td>&quot;EH&quot;</td><td>79</td></tr><tr><td>&quot;GB&quot;</td><td>&quot;MS&quot;</td><td>66</td></tr><tr><td>&hellip;</td><td>&hellip;</td><td>&hellip;</td></tr><tr><td>&quot;GB&quot;</td><td>&quot;IM&quot;</td><td>9</td></tr><tr><td>&quot;GB&quot;</td><td>&quot;GP&quot;</td><td>5</td></tr><tr><td>&quot;GB&quot;</td><td>&quot;CX&quot;</td><td>4</td></tr><tr><td>&quot;GB&quot;</td><td>&quot;PR&quot;</td><td>4</td></tr><tr><td>&quot;GB&quot;</td><td>&quot;MQ&quot;</td><td>3</td></tr><tr><td>&quot;GB&quot;</td><td>&quot;AW&quot;</td><td>3</td></tr><tr><td>&quot;GB&quot;</td><td>&quot;NZ&quot;</td><td>1</td></tr><tr><td>&quot;GB&quot;</td><td>&quot;SX&quot;</td><td>1</td></tr><tr><td>&quot;GB&quot;</td><td>&quot;US&quot;</td><td>1</td></tr><tr><td>&quot;GB&quot;</td><td>&quot;CD&quot;</td><td>1</td></tr></tbody></table></div>"
      ],
      "text/plain": [
       "shape: (26, 3)\n",
       "┌──────────────────┬─────────────────┬──────┐\n",
       "│ ReferringCountry ┆ ReferredCountry ┆ len  │\n",
       "│ ---              ┆ ---             ┆ ---  │\n",
       "│ str              ┆ str             ┆ u32  │\n",
       "╞══════════════════╪═════════════════╪══════╡\n",
       "│ GB               ┆ LY              ┆ 1883 │\n",
       "│ GB               ┆ SS              ┆ 666  │\n",
       "│ GB               ┆ JE              ┆ 276  │\n",
       "│ GB               ┆ BM              ┆ 267  │\n",
       "│ GB               ┆ KY              ┆ 246  │\n",
       "│ GB               ┆ GG              ┆ 221  │\n",
       "│ GB               ┆ AI              ┆ 167  │\n",
       "│ GB               ┆ FO              ┆ 113  │\n",
       "│ GB               ┆ EH              ┆ 79   │\n",
       "│ GB               ┆ MS              ┆ 66   │\n",
       "│ …                ┆ …               ┆ …    │\n",
       "│ GB               ┆ IM              ┆ 9    │\n",
       "│ GB               ┆ GP              ┆ 5    │\n",
       "│ GB               ┆ CX              ┆ 4    │\n",
       "│ GB               ┆ PR              ┆ 4    │\n",
       "│ GB               ┆ MQ              ┆ 3    │\n",
       "│ GB               ┆ AW              ┆ 3    │\n",
       "│ GB               ┆ NZ              ┆ 1    │\n",
       "│ GB               ┆ SX              ┆ 1    │\n",
       "│ GB               ┆ US              ┆ 1    │\n",
       "│ GB               ┆ CD              ┆ 1    │\n",
       "└──────────────────┴─────────────────┴──────┘"
      ]
     },
     "execution_count": 40,
     "metadata": {},
     "output_type": "execute_result"
    }
   ],
   "source": [
    "df.group_by(\"ReferringCountry\", \"ReferredCountry\").len().sort(\"len\", descending=True).filter(pl.col(\"ReferringCountry\") == \"GB\")\n"
   ]
  },
  {
   "cell_type": "code",
   "execution_count": 41,
   "id": "7201401c",
   "metadata": {},
   "outputs": [
    {
     "data": {
      "text/html": [
       "<div><style>\n",
       ".dataframe > thead > tr,\n",
       ".dataframe > tbody > tr {\n",
       "  text-align: right;\n",
       "  white-space: pre-wrap;\n",
       "}\n",
       "</style>\n",
       "<small>shape: (4_479, 5)</small><table border=\"1\" class=\"dataframe\"><thead><tr><th>ReferringCountry</th><th>ReferredCountry</th><th>len</th><th>total</th><th>proportion</th></tr><tr><td>str</td><td>str</td><td>u32</td><td>u32</td><td>f64</td></tr></thead><tbody><tr><td>&quot;GB&quot;</td><td>&quot;LY&quot;</td><td>1883</td><td>4218</td><td>0.44642</td></tr><tr><td>&quot;RS&quot;</td><td>&quot;XK&quot;</td><td>40588</td><td>124159</td><td>0.326903</td></tr><tr><td>&quot;IS&quot;</td><td>&quot;US&quot;</td><td>6892</td><td>26678</td><td>0.25834</td></tr><tr><td>&quot;UA&quot;</td><td>&quot;RU&quot;</td><td>8781</td><td>38483</td><td>0.228179</td></tr><tr><td>&quot;DK&quot;</td><td>&quot;GL&quot;</td><td>20248</td><td>94522</td><td>0.214215</td></tr><tr><td>&quot;BA&quot;</td><td>&quot;HR&quot;</td><td>2611</td><td>12452</td><td>0.209685</td></tr><tr><td>&quot;FI&quot;</td><td>&quot;SE&quot;</td><td>3468</td><td>21547</td><td>0.16095</td></tr><tr><td>&quot;GB&quot;</td><td>&quot;SS&quot;</td><td>666</td><td>4218</td><td>0.157895</td></tr><tr><td>&quot;BA&quot;</td><td>&quot;RS&quot;</td><td>1935</td><td>12452</td><td>0.155397</td></tr><tr><td>&quot;AT&quot;</td><td>&quot;DE&quot;</td><td>10322</td><td>68977</td><td>0.149644</td></tr><tr><td>&hellip;</td><td>&hellip;</td><td>&hellip;</td><td>&hellip;</td><td>&hellip;</td></tr><tr><td>&quot;RS&quot;</td><td>&quot;TV&quot;</td><td>1</td><td>124159</td><td>0.000008</td></tr><tr><td>&quot;RS&quot;</td><td>&quot;BZ&quot;</td><td>1</td><td>124159</td><td>0.000008</td></tr><tr><td>&quot;RS&quot;</td><td>&quot;GY&quot;</td><td>1</td><td>124159</td><td>0.000008</td></tr><tr><td>&quot;RS&quot;</td><td>&quot;MR&quot;</td><td>1</td><td>124159</td><td>0.000008</td></tr><tr><td>&quot;RS&quot;</td><td>&quot;KM&quot;</td><td>1</td><td>124159</td><td>0.000008</td></tr><tr><td>&quot;RS&quot;</td><td>&quot;TO&quot;</td><td>1</td><td>124159</td><td>0.000008</td></tr><tr><td>&quot;RS&quot;</td><td>&quot;SV&quot;</td><td>1</td><td>124159</td><td>0.000008</td></tr><tr><td>&quot;RS&quot;</td><td>&quot;NE&quot;</td><td>1</td><td>124159</td><td>0.000008</td></tr><tr><td>&quot;RS&quot;</td><td>&quot;CD&quot;</td><td>1</td><td>124159</td><td>0.000008</td></tr><tr><td>&quot;RS&quot;</td><td>&quot;GU&quot;</td><td>1</td><td>124159</td><td>0.000008</td></tr></tbody></table></div>"
      ],
      "text/plain": [
       "shape: (4_479, 5)\n",
       "┌──────────────────┬─────────────────┬───────┬────────┬────────────┐\n",
       "│ ReferringCountry ┆ ReferredCountry ┆ len   ┆ total  ┆ proportion │\n",
       "│ ---              ┆ ---             ┆ ---   ┆ ---    ┆ ---        │\n",
       "│ str              ┆ str             ┆ u32   ┆ u32    ┆ f64        │\n",
       "╞══════════════════╪═════════════════╪═══════╪════════╪════════════╡\n",
       "│ GB               ┆ LY              ┆ 1883  ┆ 4218   ┆ 0.44642    │\n",
       "│ RS               ┆ XK              ┆ 40588 ┆ 124159 ┆ 0.326903   │\n",
       "│ IS               ┆ US              ┆ 6892  ┆ 26678  ┆ 0.25834    │\n",
       "│ UA               ┆ RU              ┆ 8781  ┆ 38483  ┆ 0.228179   │\n",
       "│ DK               ┆ GL              ┆ 20248 ┆ 94522  ┆ 0.214215   │\n",
       "│ BA               ┆ HR              ┆ 2611  ┆ 12452  ┆ 0.209685   │\n",
       "│ FI               ┆ SE              ┆ 3468  ┆ 21547  ┆ 0.16095    │\n",
       "│ GB               ┆ SS              ┆ 666   ┆ 4218   ┆ 0.157895   │\n",
       "│ BA               ┆ RS              ┆ 1935  ┆ 12452  ┆ 0.155397   │\n",
       "│ AT               ┆ DE              ┆ 10322 ┆ 68977  ┆ 0.149644   │\n",
       "│ …                ┆ …               ┆ …     ┆ …      ┆ …          │\n",
       "│ RS               ┆ TV              ┆ 1     ┆ 124159 ┆ 0.000008   │\n",
       "│ RS               ┆ BZ              ┆ 1     ┆ 124159 ┆ 0.000008   │\n",
       "│ RS               ┆ GY              ┆ 1     ┆ 124159 ┆ 0.000008   │\n",
       "│ RS               ┆ MR              ┆ 1     ┆ 124159 ┆ 0.000008   │\n",
       "│ RS               ┆ KM              ┆ 1     ┆ 124159 ┆ 0.000008   │\n",
       "│ RS               ┆ TO              ┆ 1     ┆ 124159 ┆ 0.000008   │\n",
       "│ RS               ┆ SV              ┆ 1     ┆ 124159 ┆ 0.000008   │\n",
       "│ RS               ┆ NE              ┆ 1     ┆ 124159 ┆ 0.000008   │\n",
       "│ RS               ┆ CD              ┆ 1     ┆ 124159 ┆ 0.000008   │\n",
       "│ RS               ┆ GU              ┆ 1     ┆ 124159 ┆ 0.000008   │\n",
       "└──────────────────┴─────────────────┴───────┴────────┴────────────┘"
      ]
     },
     "execution_count": 41,
     "metadata": {},
     "output_type": "execute_result"
    }
   ],
   "source": [
    "total_counts = df.group_by(\"ReferringCountry\").len().rename({\"len\": \"total\"})\n",
    "\n",
    "# Step 2: Count pairs and compute proportion\n",
    "result = (\n",
    "    df.group_by(\"ReferringCountry\", \"ReferredCountry\")\n",
    "      .len()\n",
    "      .join(total_counts, on=\"ReferringCountry\")\n",
    "      .with_columns(\n",
    "          (pl.col(\"len\") / pl.col(\"total\")).alias(\"proportion\")\n",
    "      )\n",
    "      .sort(\"proportion\", descending=True)\n",
    ")\n",
    "result"
   ]
  },
  {
   "cell_type": "code",
   "execution_count": 42,
   "id": "013e57a2",
   "metadata": {},
   "outputs": [
    {
     "data": {
      "text/html": [
       "<div><style>\n",
       ".dataframe > thead > tr,\n",
       ".dataframe > tbody > tr {\n",
       "  text-align: right;\n",
       "  white-space: pre-wrap;\n",
       "}\n",
       "</style>\n",
       "<small>shape: (25_240, 4)</small><table border=\"1\" class=\"dataframe\"><thead><tr><th>ReferringCountry</th><th>ReferredCountry</th><th>Party_orientation</th><th>len</th></tr><tr><td>str</td><td>str</td><td>str</td><td>u32</td></tr></thead><tbody><tr><td>&quot;RS&quot;</td><td>&quot;XK&quot;</td><td>&quot;Far-right&quot;</td><td>12603</td></tr><tr><td>&quot;RS&quot;</td><td>&quot;XK&quot;</td><td>&quot;Centre-left&quot;</td><td>8144</td></tr><tr><td>&quot;DK&quot;</td><td>&quot;GL&quot;</td><td>&quot;Left&quot;</td><td>5941</td></tr><tr><td>&quot;RS&quot;</td><td>&quot;XK&quot;</td><td>&quot;Big tent&quot;</td><td>5764</td></tr><tr><td>&quot;RS&quot;</td><td>&quot;XK&quot;</td><td>&quot;Right&quot;</td><td>5209</td></tr><tr><td>&quot;RS&quot;</td><td>&quot;XK&quot;</td><td>&quot;-&quot;</td><td>4069</td></tr><tr><td>&quot;DK&quot;</td><td>&quot;GL&quot;</td><td>&quot;Centre-right&quot;</td><td>3910</td></tr><tr><td>&quot;DK&quot;</td><td>&quot;GL&quot;</td><td>&quot;Centre-left&quot;</td><td>3902</td></tr><tr><td>&quot;TR&quot;</td><td>&quot;SY&quot;</td><td>&quot;Centre-left&quot;</td><td>3781</td></tr><tr><td>&quot;RS&quot;</td><td>&quot;ME&quot;</td><td>&quot;Far-right&quot;</td><td>3613</td></tr><tr><td>&hellip;</td><td>&hellip;</td><td>&hellip;</td><td>&hellip;</td></tr><tr><td>&quot;HR&quot;</td><td>&quot;GB&quot;</td><td>&quot;Centre&quot;</td><td>1</td></tr><tr><td>&quot;HU&quot;</td><td>&quot;BW&quot;</td><td>&quot;Centre-left to left&quot;</td><td>1</td></tr><tr><td>&quot;BE&quot;</td><td>&quot;SI&quot;</td><td>&quot;Centre-left&quot;</td><td>1</td></tr><tr><td>&quot;HR&quot;</td><td>&quot;MA&quot;</td><td>&quot;Right to far-right&quot;</td><td>1</td></tr><tr><td>&quot;SI&quot;</td><td>&quot;MY&quot;</td><td>&quot;Centre to centre-right&quot;</td><td>1</td></tr><tr><td>&quot;GR&quot;</td><td>&quot;ZW&quot;</td><td>&quot;Right&quot;</td><td>1</td></tr><tr><td>&quot;BA&quot;</td><td>&quot;SL&quot;</td><td>&quot;Centre-right&quot;</td><td>1</td></tr><tr><td>&quot;PL&quot;</td><td>&quot;DO&quot;</td><td>&quot;Right&quot;</td><td>1</td></tr><tr><td>&quot;DK&quot;</td><td>&quot;KY&quot;</td><td>&quot;Centre to centre-left&quot;</td><td>1</td></tr><tr><td>&quot;RS&quot;</td><td>&quot;GL&quot;</td><td>&quot;Right&quot;</td><td>1</td></tr></tbody></table></div>"
      ],
      "text/plain": [
       "shape: (25_240, 4)\n",
       "┌──────────────────┬─────────────────┬────────────────────────┬───────┐\n",
       "│ ReferringCountry ┆ ReferredCountry ┆ Party_orientation      ┆ len   │\n",
       "│ ---              ┆ ---             ┆ ---                    ┆ ---   │\n",
       "│ str              ┆ str             ┆ str                    ┆ u32   │\n",
       "╞══════════════════╪═════════════════╪════════════════════════╪═══════╡\n",
       "│ RS               ┆ XK              ┆ Far-right              ┆ 12603 │\n",
       "│ RS               ┆ XK              ┆ Centre-left            ┆ 8144  │\n",
       "│ DK               ┆ GL              ┆ Left                   ┆ 5941  │\n",
       "│ RS               ┆ XK              ┆ Big tent               ┆ 5764  │\n",
       "│ RS               ┆ XK              ┆ Right                  ┆ 5209  │\n",
       "│ RS               ┆ XK              ┆ -                      ┆ 4069  │\n",
       "│ DK               ┆ GL              ┆ Centre-right           ┆ 3910  │\n",
       "│ DK               ┆ GL              ┆ Centre-left            ┆ 3902  │\n",
       "│ TR               ┆ SY              ┆ Centre-left            ┆ 3781  │\n",
       "│ RS               ┆ ME              ┆ Far-right              ┆ 3613  │\n",
       "│ …                ┆ …               ┆ …                      ┆ …     │\n",
       "│ HR               ┆ GB              ┆ Centre                 ┆ 1     │\n",
       "│ HU               ┆ BW              ┆ Centre-left to left    ┆ 1     │\n",
       "│ BE               ┆ SI              ┆ Centre-left            ┆ 1     │\n",
       "│ HR               ┆ MA              ┆ Right to far-right     ┆ 1     │\n",
       "│ SI               ┆ MY              ┆ Centre to centre-right ┆ 1     │\n",
       "│ GR               ┆ ZW              ┆ Right                  ┆ 1     │\n",
       "│ BA               ┆ SL              ┆ Centre-right           ┆ 1     │\n",
       "│ PL               ┆ DO              ┆ Right                  ┆ 1     │\n",
       "│ DK               ┆ KY              ┆ Centre to centre-left  ┆ 1     │\n",
       "│ RS               ┆ GL              ┆ Right                  ┆ 1     │\n",
       "└──────────────────┴─────────────────┴────────────────────────┴───────┘"
      ]
     },
     "execution_count": 42,
     "metadata": {},
     "output_type": "execute_result"
    }
   ],
   "source": [
    "df.group_by(\"ReferringCountry\", \"ReferredCountry\", \"Party_orientation\").len().sort(\"len\", descending=True)\n"
   ]
  },
  {
   "cell_type": "code",
   "execution_count": 43,
   "id": "d20fa574",
   "metadata": {},
   "outputs": [],
   "source": [
    "with open(\"restcountries_all.json\", encoding=\"utf-8\") as f:\n",
    "    cntry_data = json.load(f)\n",
    "\n",
    "def cca2ToGeo(ca):\n",
    "    for country in cntry_data:\n",
    "        if country[\"cca2\"] == ca:\n",
    "            return country[\"latlng\"]\n",
    "    return None"
   ]
  },
  {
   "cell_type": "code",
   "execution_count": 44,
   "id": "a3fe08f1",
   "metadata": {},
   "outputs": [],
   "source": [
    "df_geo = result.with_columns([\n",
    "    pl.col(\"ReferringCountry\").map_elements(cca2ToGeo, return_dtype=pl.List(pl.Float64)).alias(\"ReferringCountryGeo\"),\n",
    "    pl.col(\"ReferredCountry\").map_elements(cca2ToGeo, return_dtype=pl.List(pl.Float64)).alias(\"ReferredCountryGeo\")\n",
    "])\n"
   ]
  },
  {
   "cell_type": "code",
   "execution_count": 45,
   "id": "68eb5f0e",
   "metadata": {},
   "outputs": [
    {
     "name": "stdout",
     "output_type": "stream",
     "text": [
      "shape: (4_479, 7)\n",
      "┌─────────────────┬────────────────┬───────┬────────┬────────────┬────────────────┬────────────────┐\n",
      "│ ReferringCountr ┆ ReferredCountr ┆ len   ┆ total  ┆ proportion ┆ ReferringCount ┆ ReferredCountr │\n",
      "│ y               ┆ y              ┆ ---   ┆ ---    ┆ ---        ┆ ryGeo          ┆ yGeo           │\n",
      "│ ---             ┆ ---            ┆ u32   ┆ u32    ┆ f64        ┆ ---            ┆ ---            │\n",
      "│ str             ┆ str            ┆       ┆        ┆            ┆ list[f64]      ┆ list[f64]      │\n",
      "╞═════════════════╪════════════════╪═══════╪════════╪════════════╪════════════════╪════════════════╡\n",
      "│ GB              ┆ LY             ┆ 1883  ┆ 4218   ┆ 0.44642    ┆ [54.0, -2.0]   ┆ [25.0, 17.0]   │\n",
      "│ RS              ┆ XK             ┆ 40588 ┆ 124159 ┆ 0.326903   ┆ [44.0, 21.0]   ┆ [42.666667,    │\n",
      "│                 ┆                ┆       ┆        ┆            ┆                ┆ 21.166667]     │\n",
      "│ IS              ┆ US             ┆ 6892  ┆ 26678  ┆ 0.25834    ┆ [65.0, -18.0]  ┆ [38.0, -97.0]  │\n",
      "│ UA              ┆ RU             ┆ 8781  ┆ 38483  ┆ 0.228179   ┆ [49.0, 32.0]   ┆ [60.0, 100.0]  │\n",
      "│ DK              ┆ GL             ┆ 20248 ┆ 94522  ┆ 0.214215   ┆ [56.0, 10.0]   ┆ [72.0, -40.0]  │\n",
      "│ BA              ┆ HR             ┆ 2611  ┆ 12452  ┆ 0.209685   ┆ [44.0, 18.0]   ┆ [45.166667,    │\n",
      "│                 ┆                ┆       ┆        ┆            ┆                ┆ 15.5]          │\n",
      "│ FI              ┆ SE             ┆ 3468  ┆ 21547  ┆ 0.16095    ┆ [64.0, 26.0]   ┆ [62.0, 15.0]   │\n",
      "│ GB              ┆ SS             ┆ 666   ┆ 4218   ┆ 0.157895   ┆ [54.0, -2.0]   ┆ [7.0, 30.0]    │\n",
      "│ BA              ┆ RS             ┆ 1935  ┆ 12452  ┆ 0.155397   ┆ [44.0, 18.0]   ┆ [44.0, 21.0]   │\n",
      "│ AT              ┆ DE             ┆ 10322 ┆ 68977  ┆ 0.149644   ┆ [47.333333,    ┆ [51.0, 9.0]    │\n",
      "│                 ┆                ┆       ┆        ┆            ┆ 13.333333]     ┆                │\n",
      "│ …               ┆ …              ┆ …     ┆ …      ┆ …          ┆ …              ┆ …              │\n",
      "│ RS              ┆ TV             ┆ 1     ┆ 124159 ┆ 0.000008   ┆ [44.0, 21.0]   ┆ [-8.0, 178.0]  │\n",
      "│ RS              ┆ BZ             ┆ 1     ┆ 124159 ┆ 0.000008   ┆ [44.0, 21.0]   ┆ [17.25,        │\n",
      "│                 ┆                ┆       ┆        ┆            ┆                ┆ -88.75]        │\n",
      "│ RS              ┆ GY             ┆ 1     ┆ 124159 ┆ 0.000008   ┆ [44.0, 21.0]   ┆ [5.0, -59.0]   │\n",
      "│ RS              ┆ MR             ┆ 1     ┆ 124159 ┆ 0.000008   ┆ [44.0, 21.0]   ┆ [20.0, -12.0]  │\n",
      "│ RS              ┆ KM             ┆ 1     ┆ 124159 ┆ 0.000008   ┆ [44.0, 21.0]   ┆ [-12.166667,   │\n",
      "│                 ┆                ┆       ┆        ┆            ┆                ┆ 44.25]         │\n",
      "│ RS              ┆ TO             ┆ 1     ┆ 124159 ┆ 0.000008   ┆ [44.0, 21.0]   ┆ [-20.0,        │\n",
      "│                 ┆                ┆       ┆        ┆            ┆                ┆ -175.0]        │\n",
      "│ RS              ┆ SV             ┆ 1     ┆ 124159 ┆ 0.000008   ┆ [44.0, 21.0]   ┆ [13.833333,    │\n",
      "│                 ┆                ┆       ┆        ┆            ┆                ┆ -88.916667]    │\n",
      "│ RS              ┆ NE             ┆ 1     ┆ 124159 ┆ 0.000008   ┆ [44.0, 21.0]   ┆ [16.0, 8.0]    │\n",
      "│ RS              ┆ CD             ┆ 1     ┆ 124159 ┆ 0.000008   ┆ [44.0, 21.0]   ┆ [0.0, 25.0]    │\n",
      "│ RS              ┆ GU             ┆ 1     ┆ 124159 ┆ 0.000008   ┆ [44.0, 21.0]   ┆ [13.466667,    │\n",
      "│                 ┆                ┆       ┆        ┆            ┆                ┆ 144.783333]    │\n",
      "└─────────────────┴────────────────┴───────┴────────┴────────────┴────────────────┴────────────────┘\n"
     ]
    }
   ],
   "source": [
    "print(df_geo)"
   ]
  },
  {
   "cell_type": "code",
   "execution_count": 46,
   "id": "83504504",
   "metadata": {},
   "outputs": [
    {
     "data": {
      "application/vnd.plotly.v1+json": {
       "config": {
        "plotlyServerURL": "https://plot.ly"
       },
       "data": [
        {
         "geo": "geo",
         "hovertemplate": "ReferringCountry=GB<extra></extra>",
         "legendgroup": "GB",
         "line": {
          "color": "#636efa",
          "dash": "solid"
         },
         "marker": {
          "symbol": "circle"
         },
         "mode": "lines",
         "name": "GB",
         "showlegend": true,
         "type": "scattergeo"
        },
        {
         "geo": "geo",
         "hovertemplate": "ReferringCountry=RS<extra></extra>",
         "legendgroup": "RS",
         "line": {
          "color": "#EF553B",
          "dash": "solid"
         },
         "marker": {
          "symbol": "circle"
         },
         "mode": "lines",
         "name": "RS",
         "showlegend": true,
         "type": "scattergeo"
        },
        {
         "geo": "geo",
         "hovertemplate": "ReferringCountry=IS<extra></extra>",
         "legendgroup": "IS",
         "line": {
          "color": "#00cc96",
          "dash": "solid"
         },
         "marker": {
          "symbol": "circle"
         },
         "mode": "lines",
         "name": "IS",
         "showlegend": true,
         "type": "scattergeo"
        },
        {
         "geo": "geo",
         "hovertemplate": "ReferringCountry=UA<extra></extra>",
         "legendgroup": "UA",
         "line": {
          "color": "#ab63fa",
          "dash": "solid"
         },
         "marker": {
          "symbol": "circle"
         },
         "mode": "lines",
         "name": "UA",
         "showlegend": true,
         "type": "scattergeo"
        },
        {
         "geo": "geo",
         "hovertemplate": "ReferringCountry=DK<extra></extra>",
         "legendgroup": "DK",
         "line": {
          "color": "#FFA15A",
          "dash": "solid"
         },
         "marker": {
          "symbol": "circle"
         },
         "mode": "lines",
         "name": "DK",
         "showlegend": true,
         "type": "scattergeo"
        },
        {
         "geo": "geo",
         "hovertemplate": "ReferringCountry=BA<extra></extra>",
         "legendgroup": "BA",
         "line": {
          "color": "#19d3f3",
          "dash": "solid"
         },
         "marker": {
          "symbol": "circle"
         },
         "mode": "lines",
         "name": "BA",
         "showlegend": true,
         "type": "scattergeo"
        },
        {
         "geo": "geo",
         "hovertemplate": "ReferringCountry=FI<extra></extra>",
         "legendgroup": "FI",
         "line": {
          "color": "#FF6692",
          "dash": "solid"
         },
         "marker": {
          "symbol": "circle"
         },
         "mode": "lines",
         "name": "FI",
         "showlegend": true,
         "type": "scattergeo"
        },
        {
         "geo": "geo",
         "hovertemplate": "ReferringCountry=AT<extra></extra>",
         "legendgroup": "AT",
         "line": {
          "color": "#B6E880",
          "dash": "solid"
         },
         "marker": {
          "symbol": "circle"
         },
         "mode": "lines",
         "name": "AT",
         "showlegend": true,
         "type": "scattergeo"
        },
        {
         "geo": "geo",
         "hovertemplate": "ReferringCountry=CZ<extra></extra>",
         "legendgroup": "CZ",
         "line": {
          "color": "#FF97FF",
          "dash": "solid"
         },
         "marker": {
          "symbol": "circle"
         },
         "mode": "lines",
         "name": "CZ",
         "showlegend": true,
         "type": "scattergeo"
        },
        {
         "geo": "geo",
         "hovertemplate": "ReferringCountry=TR<extra></extra>",
         "legendgroup": "TR",
         "line": {
          "color": "#FECB52",
          "dash": "solid"
         },
         "marker": {
          "symbol": "circle"
         },
         "mode": "lines",
         "name": "TR",
         "showlegend": true,
         "type": "scattergeo"
        },
        {
         "geo": "geo",
         "hovertemplate": "ReferringCountry=PL<extra></extra>",
         "legendgroup": "PL",
         "line": {
          "color": "#636efa",
          "dash": "solid"
         },
         "marker": {
          "symbol": "circle"
         },
         "mode": "lines",
         "name": "PL",
         "showlegend": true,
         "type": "scattergeo"
        },
        {
         "geo": "geo",
         "hovertemplate": "ReferringCountry=LV<extra></extra>",
         "legendgroup": "LV",
         "line": {
          "color": "#EF553B",
          "dash": "solid"
         },
         "marker": {
          "symbol": "circle"
         },
         "mode": "lines",
         "name": "LV",
         "showlegend": true,
         "type": "scattergeo"
        },
        {
         "geo": "geo",
         "hovertemplate": "ReferringCountry=SI<extra></extra>",
         "legendgroup": "SI",
         "line": {
          "color": "#00cc96",
          "dash": "solid"
         },
         "marker": {
          "symbol": "circle"
         },
         "mode": "lines",
         "name": "SI",
         "showlegend": true,
         "type": "scattergeo"
        },
        {
         "geo": "geo",
         "hovertemplate": "ReferringCountry=EE<extra></extra>",
         "legendgroup": "EE",
         "line": {
          "color": "#ab63fa",
          "dash": "solid"
         },
         "marker": {
          "symbol": "circle"
         },
         "mode": "lines",
         "name": "EE",
         "showlegend": true,
         "type": "scattergeo"
        },
        {
         "geo": "geo",
         "hovertemplate": "ReferringCountry=GR<extra></extra>",
         "legendgroup": "GR",
         "line": {
          "color": "#FFA15A",
          "dash": "solid"
         },
         "marker": {
          "symbol": "circle"
         },
         "mode": "lines",
         "name": "GR",
         "showlegend": true,
         "type": "scattergeo"
        },
        {
         "geo": "geo",
         "hovertemplate": "ReferringCountry=BG<extra></extra>",
         "legendgroup": "BG",
         "line": {
          "color": "#19d3f3",
          "dash": "solid"
         },
         "marker": {
          "symbol": "circle"
         },
         "mode": "lines",
         "name": "BG",
         "showlegend": true,
         "type": "scattergeo"
        },
        {
         "geo": "geo",
         "hovertemplate": "ReferringCountry=PT<extra></extra>",
         "legendgroup": "PT",
         "line": {
          "color": "#FF6692",
          "dash": "solid"
         },
         "marker": {
          "symbol": "circle"
         },
         "mode": "lines",
         "name": "PT",
         "showlegend": true,
         "type": "scattergeo"
        },
        {
         "geo": "geo",
         "hovertemplate": "ReferringCountry=NO<extra></extra>",
         "legendgroup": "NO",
         "line": {
          "color": "#B6E880",
          "dash": "solid"
         },
         "marker": {
          "symbol": "circle"
         },
         "mode": "lines",
         "name": "NO",
         "showlegend": true,
         "type": "scattergeo"
        },
        {
         "geo": "geo",
         "hovertemplate": "ReferringCountry=SE<extra></extra>",
         "legendgroup": "SE",
         "line": {
          "color": "#FF97FF",
          "dash": "solid"
         },
         "marker": {
          "symbol": "circle"
         },
         "mode": "lines",
         "name": "SE",
         "showlegend": true,
         "type": "scattergeo"
        },
        {
         "geo": "geo",
         "hovertemplate": "ReferringCountry=ES<extra></extra>",
         "legendgroup": "ES",
         "line": {
          "color": "#FECB52",
          "dash": "solid"
         },
         "marker": {
          "symbol": "circle"
         },
         "mode": "lines",
         "name": "ES",
         "showlegend": true,
         "type": "scattergeo"
        },
        {
         "geo": "geo",
         "hovertemplate": "ReferringCountry=HR<extra></extra>",
         "legendgroup": "HR",
         "line": {
          "color": "#636efa",
          "dash": "solid"
         },
         "marker": {
          "symbol": "circle"
         },
         "mode": "lines",
         "name": "HR",
         "showlegend": true,
         "type": "scattergeo"
        },
        {
         "geo": "geo",
         "hovertemplate": "ReferringCountry=IT<extra></extra>",
         "legendgroup": "IT",
         "line": {
          "color": "#EF553B",
          "dash": "solid"
         },
         "marker": {
          "symbol": "circle"
         },
         "mode": "lines",
         "name": "IT",
         "showlegend": true,
         "type": "scattergeo"
        },
        {
         "geo": "geo",
         "hovertemplate": "ReferringCountry=FR<extra></extra>",
         "legendgroup": "FR",
         "line": {
          "color": "#00cc96",
          "dash": "solid"
         },
         "marker": {
          "symbol": "circle"
         },
         "mode": "lines",
         "name": "FR",
         "showlegend": true,
         "type": "scattergeo"
        },
        {
         "geo": "geo",
         "hovertemplate": "ReferringCountry=HU<extra></extra>",
         "legendgroup": "HU",
         "line": {
          "color": "#ab63fa",
          "dash": "solid"
         },
         "marker": {
          "symbol": "circle"
         },
         "mode": "lines",
         "name": "HU",
         "showlegend": true,
         "type": "scattergeo"
        },
        {
         "geo": "geo",
         "hovertemplate": "ReferringCountry=BE<extra></extra>",
         "legendgroup": "BE",
         "line": {
          "color": "#FFA15A",
          "dash": "solid"
         },
         "marker": {
          "symbol": "circle"
         },
         "mode": "lines",
         "name": "BE",
         "showlegend": true,
         "type": "scattergeo"
        },
        {
         "geo": "geo",
         "hovertemplate": "ReferringCountry=NL<extra></extra>",
         "legendgroup": "NL",
         "line": {
          "color": "#19d3f3",
          "dash": "solid"
         },
         "marker": {
          "symbol": "circle"
         },
         "mode": "lines",
         "name": "NL",
         "showlegend": true,
         "type": "scattergeo"
        }
       ],
       "layout": {
        "geo": {
         "center": {},
         "domain": {
          "x": [
           0,
           1
          ],
          "y": [
           0,
           1
          ]
         },
         "projection": {
          "type": "orthographic"
         }
        },
        "legend": {
         "title": {
          "text": "ReferringCountry"
         },
         "tracegroupgap": 0
        },
        "margin": {
         "t": 60
        },
        "template": {
         "data": {
          "bar": [
           {
            "error_x": {
             "color": "#2a3f5f"
            },
            "error_y": {
             "color": "#2a3f5f"
            },
            "marker": {
             "line": {
              "color": "#E5ECF6",
              "width": 0.5
             },
             "pattern": {
              "fillmode": "overlay",
              "size": 10,
              "solidity": 0.2
             }
            },
            "type": "bar"
           }
          ],
          "barpolar": [
           {
            "marker": {
             "line": {
              "color": "#E5ECF6",
              "width": 0.5
             },
             "pattern": {
              "fillmode": "overlay",
              "size": 10,
              "solidity": 0.2
             }
            },
            "type": "barpolar"
           }
          ],
          "carpet": [
           {
            "aaxis": {
             "endlinecolor": "#2a3f5f",
             "gridcolor": "white",
             "linecolor": "white",
             "minorgridcolor": "white",
             "startlinecolor": "#2a3f5f"
            },
            "baxis": {
             "endlinecolor": "#2a3f5f",
             "gridcolor": "white",
             "linecolor": "white",
             "minorgridcolor": "white",
             "startlinecolor": "#2a3f5f"
            },
            "type": "carpet"
           }
          ],
          "choropleth": [
           {
            "colorbar": {
             "outlinewidth": 0,
             "ticks": ""
            },
            "type": "choropleth"
           }
          ],
          "contour": [
           {
            "colorbar": {
             "outlinewidth": 0,
             "ticks": ""
            },
            "colorscale": [
             [
              0,
              "#0d0887"
             ],
             [
              0.1111111111111111,
              "#46039f"
             ],
             [
              0.2222222222222222,
              "#7201a8"
             ],
             [
              0.3333333333333333,
              "#9c179e"
             ],
             [
              0.4444444444444444,
              "#bd3786"
             ],
             [
              0.5555555555555556,
              "#d8576b"
             ],
             [
              0.6666666666666666,
              "#ed7953"
             ],
             [
              0.7777777777777778,
              "#fb9f3a"
             ],
             [
              0.8888888888888888,
              "#fdca26"
             ],
             [
              1,
              "#f0f921"
             ]
            ],
            "type": "contour"
           }
          ],
          "contourcarpet": [
           {
            "colorbar": {
             "outlinewidth": 0,
             "ticks": ""
            },
            "type": "contourcarpet"
           }
          ],
          "heatmap": [
           {
            "colorbar": {
             "outlinewidth": 0,
             "ticks": ""
            },
            "colorscale": [
             [
              0,
              "#0d0887"
             ],
             [
              0.1111111111111111,
              "#46039f"
             ],
             [
              0.2222222222222222,
              "#7201a8"
             ],
             [
              0.3333333333333333,
              "#9c179e"
             ],
             [
              0.4444444444444444,
              "#bd3786"
             ],
             [
              0.5555555555555556,
              "#d8576b"
             ],
             [
              0.6666666666666666,
              "#ed7953"
             ],
             [
              0.7777777777777778,
              "#fb9f3a"
             ],
             [
              0.8888888888888888,
              "#fdca26"
             ],
             [
              1,
              "#f0f921"
             ]
            ],
            "type": "heatmap"
           }
          ],
          "histogram": [
           {
            "marker": {
             "pattern": {
              "fillmode": "overlay",
              "size": 10,
              "solidity": 0.2
             }
            },
            "type": "histogram"
           }
          ],
          "histogram2d": [
           {
            "colorbar": {
             "outlinewidth": 0,
             "ticks": ""
            },
            "colorscale": [
             [
              0,
              "#0d0887"
             ],
             [
              0.1111111111111111,
              "#46039f"
             ],
             [
              0.2222222222222222,
              "#7201a8"
             ],
             [
              0.3333333333333333,
              "#9c179e"
             ],
             [
              0.4444444444444444,
              "#bd3786"
             ],
             [
              0.5555555555555556,
              "#d8576b"
             ],
             [
              0.6666666666666666,
              "#ed7953"
             ],
             [
              0.7777777777777778,
              "#fb9f3a"
             ],
             [
              0.8888888888888888,
              "#fdca26"
             ],
             [
              1,
              "#f0f921"
             ]
            ],
            "type": "histogram2d"
           }
          ],
          "histogram2dcontour": [
           {
            "colorbar": {
             "outlinewidth": 0,
             "ticks": ""
            },
            "colorscale": [
             [
              0,
              "#0d0887"
             ],
             [
              0.1111111111111111,
              "#46039f"
             ],
             [
              0.2222222222222222,
              "#7201a8"
             ],
             [
              0.3333333333333333,
              "#9c179e"
             ],
             [
              0.4444444444444444,
              "#bd3786"
             ],
             [
              0.5555555555555556,
              "#d8576b"
             ],
             [
              0.6666666666666666,
              "#ed7953"
             ],
             [
              0.7777777777777778,
              "#fb9f3a"
             ],
             [
              0.8888888888888888,
              "#fdca26"
             ],
             [
              1,
              "#f0f921"
             ]
            ],
            "type": "histogram2dcontour"
           }
          ],
          "mesh3d": [
           {
            "colorbar": {
             "outlinewidth": 0,
             "ticks": ""
            },
            "type": "mesh3d"
           }
          ],
          "parcoords": [
           {
            "line": {
             "colorbar": {
              "outlinewidth": 0,
              "ticks": ""
             }
            },
            "type": "parcoords"
           }
          ],
          "pie": [
           {
            "automargin": true,
            "type": "pie"
           }
          ],
          "scatter": [
           {
            "fillpattern": {
             "fillmode": "overlay",
             "size": 10,
             "solidity": 0.2
            },
            "type": "scatter"
           }
          ],
          "scatter3d": [
           {
            "line": {
             "colorbar": {
              "outlinewidth": 0,
              "ticks": ""
             }
            },
            "marker": {
             "colorbar": {
              "outlinewidth": 0,
              "ticks": ""
             }
            },
            "type": "scatter3d"
           }
          ],
          "scattercarpet": [
           {
            "marker": {
             "colorbar": {
              "outlinewidth": 0,
              "ticks": ""
             }
            },
            "type": "scattercarpet"
           }
          ],
          "scattergeo": [
           {
            "marker": {
             "colorbar": {
              "outlinewidth": 0,
              "ticks": ""
             }
            },
            "type": "scattergeo"
           }
          ],
          "scattergl": [
           {
            "marker": {
             "colorbar": {
              "outlinewidth": 0,
              "ticks": ""
             }
            },
            "type": "scattergl"
           }
          ],
          "scattermap": [
           {
            "marker": {
             "colorbar": {
              "outlinewidth": 0,
              "ticks": ""
             }
            },
            "type": "scattermap"
           }
          ],
          "scattermapbox": [
           {
            "marker": {
             "colorbar": {
              "outlinewidth": 0,
              "ticks": ""
             }
            },
            "type": "scattermapbox"
           }
          ],
          "scatterpolar": [
           {
            "marker": {
             "colorbar": {
              "outlinewidth": 0,
              "ticks": ""
             }
            },
            "type": "scatterpolar"
           }
          ],
          "scatterpolargl": [
           {
            "marker": {
             "colorbar": {
              "outlinewidth": 0,
              "ticks": ""
             }
            },
            "type": "scatterpolargl"
           }
          ],
          "scatterternary": [
           {
            "marker": {
             "colorbar": {
              "outlinewidth": 0,
              "ticks": ""
             }
            },
            "type": "scatterternary"
           }
          ],
          "surface": [
           {
            "colorbar": {
             "outlinewidth": 0,
             "ticks": ""
            },
            "colorscale": [
             [
              0,
              "#0d0887"
             ],
             [
              0.1111111111111111,
              "#46039f"
             ],
             [
              0.2222222222222222,
              "#7201a8"
             ],
             [
              0.3333333333333333,
              "#9c179e"
             ],
             [
              0.4444444444444444,
              "#bd3786"
             ],
             [
              0.5555555555555556,
              "#d8576b"
             ],
             [
              0.6666666666666666,
              "#ed7953"
             ],
             [
              0.7777777777777778,
              "#fb9f3a"
             ],
             [
              0.8888888888888888,
              "#fdca26"
             ],
             [
              1,
              "#f0f921"
             ]
            ],
            "type": "surface"
           }
          ],
          "table": [
           {
            "cells": {
             "fill": {
              "color": "#EBF0F8"
             },
             "line": {
              "color": "white"
             }
            },
            "header": {
             "fill": {
              "color": "#C8D4E3"
             },
             "line": {
              "color": "white"
             }
            },
            "type": "table"
           }
          ]
         },
         "layout": {
          "annotationdefaults": {
           "arrowcolor": "#2a3f5f",
           "arrowhead": 0,
           "arrowwidth": 1
          },
          "autotypenumbers": "strict",
          "coloraxis": {
           "colorbar": {
            "outlinewidth": 0,
            "ticks": ""
           }
          },
          "colorscale": {
           "diverging": [
            [
             0,
             "#8e0152"
            ],
            [
             0.1,
             "#c51b7d"
            ],
            [
             0.2,
             "#de77ae"
            ],
            [
             0.3,
             "#f1b6da"
            ],
            [
             0.4,
             "#fde0ef"
            ],
            [
             0.5,
             "#f7f7f7"
            ],
            [
             0.6,
             "#e6f5d0"
            ],
            [
             0.7,
             "#b8e186"
            ],
            [
             0.8,
             "#7fbc41"
            ],
            [
             0.9,
             "#4d9221"
            ],
            [
             1,
             "#276419"
            ]
           ],
           "sequential": [
            [
             0,
             "#0d0887"
            ],
            [
             0.1111111111111111,
             "#46039f"
            ],
            [
             0.2222222222222222,
             "#7201a8"
            ],
            [
             0.3333333333333333,
             "#9c179e"
            ],
            [
             0.4444444444444444,
             "#bd3786"
            ],
            [
             0.5555555555555556,
             "#d8576b"
            ],
            [
             0.6666666666666666,
             "#ed7953"
            ],
            [
             0.7777777777777778,
             "#fb9f3a"
            ],
            [
             0.8888888888888888,
             "#fdca26"
            ],
            [
             1,
             "#f0f921"
            ]
           ],
           "sequentialminus": [
            [
             0,
             "#0d0887"
            ],
            [
             0.1111111111111111,
             "#46039f"
            ],
            [
             0.2222222222222222,
             "#7201a8"
            ],
            [
             0.3333333333333333,
             "#9c179e"
            ],
            [
             0.4444444444444444,
             "#bd3786"
            ],
            [
             0.5555555555555556,
             "#d8576b"
            ],
            [
             0.6666666666666666,
             "#ed7953"
            ],
            [
             0.7777777777777778,
             "#fb9f3a"
            ],
            [
             0.8888888888888888,
             "#fdca26"
            ],
            [
             1,
             "#f0f921"
            ]
           ]
          },
          "colorway": [
           "#636efa",
           "#EF553B",
           "#00cc96",
           "#ab63fa",
           "#FFA15A",
           "#19d3f3",
           "#FF6692",
           "#B6E880",
           "#FF97FF",
           "#FECB52"
          ],
          "font": {
           "color": "#2a3f5f"
          },
          "geo": {
           "bgcolor": "white",
           "lakecolor": "white",
           "landcolor": "#E5ECF6",
           "showlakes": true,
           "showland": true,
           "subunitcolor": "white"
          },
          "hoverlabel": {
           "align": "left"
          },
          "hovermode": "closest",
          "mapbox": {
           "style": "light"
          },
          "paper_bgcolor": "white",
          "plot_bgcolor": "#E5ECF6",
          "polar": {
           "angularaxis": {
            "gridcolor": "white",
            "linecolor": "white",
            "ticks": ""
           },
           "bgcolor": "#E5ECF6",
           "radialaxis": {
            "gridcolor": "white",
            "linecolor": "white",
            "ticks": ""
           }
          },
          "scene": {
           "xaxis": {
            "backgroundcolor": "#E5ECF6",
            "gridcolor": "white",
            "gridwidth": 2,
            "linecolor": "white",
            "showbackground": true,
            "ticks": "",
            "zerolinecolor": "white"
           },
           "yaxis": {
            "backgroundcolor": "#E5ECF6",
            "gridcolor": "white",
            "gridwidth": 2,
            "linecolor": "white",
            "showbackground": true,
            "ticks": "",
            "zerolinecolor": "white"
           },
           "zaxis": {
            "backgroundcolor": "#E5ECF6",
            "gridcolor": "white",
            "gridwidth": 2,
            "linecolor": "white",
            "showbackground": true,
            "ticks": "",
            "zerolinecolor": "white"
           }
          },
          "shapedefaults": {
           "line": {
            "color": "#2a3f5f"
           }
          },
          "ternary": {
           "aaxis": {
            "gridcolor": "white",
            "linecolor": "white",
            "ticks": ""
           },
           "baxis": {
            "gridcolor": "white",
            "linecolor": "white",
            "ticks": ""
           },
           "bgcolor": "#E5ECF6",
           "caxis": {
            "gridcolor": "white",
            "linecolor": "white",
            "ticks": ""
           }
          },
          "title": {
           "x": 0.05
          },
          "xaxis": {
           "automargin": true,
           "gridcolor": "white",
           "linecolor": "white",
           "ticks": "",
           "title": {
            "standoff": 15
           },
           "zerolinecolor": "white",
           "zerolinewidth": 2
          },
          "yaxis": {
           "automargin": true,
           "gridcolor": "white",
           "linecolor": "white",
           "ticks": "",
           "title": {
            "standoff": 15
           },
           "zerolinecolor": "white",
           "zerolinewidth": 2
          }
         }
        }
       }
      }
     },
     "metadata": {},
     "output_type": "display_data"
    }
   ],
   "source": [
    "#TODO\n",
    "\n",
    "fig = px.line_geo(df_geo,\n",
    "                  color=\"ReferringCountry\", # \"continent\" is one of the columns of gapminder\n",
    "                  projection=\"orthographic\")\n",
    "fig.show()"
   ]
  }
 ],
 "metadata": {
  "kernelspec": {
   "display_name": "Python 3",
   "language": "python",
   "name": "python3"
  },
  "language_info": {
   "codemirror_mode": {
    "name": "ipython",
    "version": 3
   },
   "file_extension": ".py",
   "mimetype": "text/x-python",
   "name": "python",
   "nbconvert_exporter": "python",
   "pygments_lexer": "ipython3",
   "version": "3.12.9"
  }
 },
 "nbformat": 4,
 "nbformat_minor": 5
}
